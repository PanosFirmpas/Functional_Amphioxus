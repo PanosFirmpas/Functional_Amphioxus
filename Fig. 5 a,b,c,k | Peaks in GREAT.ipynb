{
 "cells": [
  {
   "cell_type": "code",
   "execution_count": 1,
   "metadata": {},
   "outputs": [],
   "source": [
    "import pandas as pd\n",
    "from pybedtools import BedTool as BT\n",
    "\n",
    "%matplotlib inline\n",
    "import seaborn as sns\n",
    "from matplotlib import pyplot as plt\n",
    "# This saves fonts as fonts in the svg and not as shapes\n",
    "plt.rcParams['svg.fonttype'] = 'none'\n",
    "\n",
    "import numpy as np\n",
    "from scipy.stats import mannwhitneyu as MWU\n",
    "\n",
    "import warnings\n",
    "warnings.filterwarnings('ignore')"
   ]
  },
  {
   "cell_type": "markdown",
   "metadata": {},
   "source": [
    "## Data Load\n",
    "\n",
    "We assign a BASAL region to each gene, it starts from its TSS and extends 5kb upstream and 1kb downstream, or untill it encounters another TSS.\n",
    "\n",
    "For the GREAT region, we extend the BASAL region UP TO 1Mb in each way, or until a BASAL region of another gene is encountered.    \n",
    "     \n",
    "Here, we load and use the GREAT regions"
   ]
  },
  {
   "cell_type": "code",
   "execution_count": 2,
   "metadata": {},
   "outputs": [
    {
     "name": "stdout",
     "output_type": "stream",
     "text": [
      "[('Dre', 20053), ('Bla', 20569), ('Ola', 15978), ('Mmu', 18842)]\n"
     ]
    }
   ],
   "source": [
    "greg = {}\n",
    "\n",
    "greg['Dre'] = pd.read_csv(\"./data/genomic_regions/GREAT_dre.bed\", sep='\\t', header=None)\n",
    "greg['Dre'].columns = ['chrom','start','end','geneID','score','strand']\n",
    "greg['Dre']['score'] = greg['Dre']['end'] - greg['Dre']['start']\n",
    "\n",
    "greg['Bla'] = pd.read_csv(\"./data/genomic_regions/GREAT_bla.bed\", sep='\\t', header=None)\n",
    "greg['Bla'].columns = ['chrom','start','end','geneID','score','strand']\n",
    "greg['Bla']['score'] = greg['Bla']['end'] - greg['Bla']['start']\n",
    "\n",
    "greg['Ola'] = pd.read_csv(\"./data/genomic_regions/GREAT_ola.bed\", sep='\\t', header=None)\n",
    "greg['Ola'].columns = ['chrom','start','end','geneID','score','strand']\n",
    "greg['Ola']['score'] = greg['Ola']['end'] - greg['Ola']['start']\n",
    "\n",
    "greg['Mmu'] = pd.read_csv(\"./data/genomic_regions/GREAT_mmu.bed\", sep='\\t', header=None)\n",
    "greg['Mmu'].columns = ['chrom','start','end','geneID','score','strand']\n",
    "greg['Mmu']['score'] = greg['Mmu']['end'] - greg['Mmu']['start']\n",
    "\n",
    "print( [(k,len(v)) for k,v in greg.items()])"
   ]
  },
  {
   "cell_type": "code",
   "execution_count": 3,
   "metadata": {},
   "outputs": [
    {
     "data": {
      "text/html": [
       "<div>\n",
       "<table border=\"1\" class=\"dataframe\">\n",
       "  <thead>\n",
       "    <tr style=\"text-align: right;\">\n",
       "      <th></th>\n",
       "      <th>chrom</th>\n",
       "      <th>start</th>\n",
       "      <th>end</th>\n",
       "      <th>geneID</th>\n",
       "      <th>score</th>\n",
       "      <th>strand</th>\n",
       "    </tr>\n",
       "  </thead>\n",
       "  <tbody>\n",
       "    <tr>\n",
       "      <th>0</th>\n",
       "      <td>chr1</td>\n",
       "      <td>2670503</td>\n",
       "      <td>4359310</td>\n",
       "      <td>ENSMUSG00000051951</td>\n",
       "      <td>1688807</td>\n",
       "      <td>-</td>\n",
       "    </tr>\n",
       "    <tr>\n",
       "      <th>1</th>\n",
       "      <td>chr1</td>\n",
       "      <td>3676503</td>\n",
       "      <td>4495409</td>\n",
       "      <td>ENSMUSG00000025900</td>\n",
       "      <td>818906</td>\n",
       "      <td>-</td>\n",
       "    </tr>\n",
       "    <tr>\n",
       "      <th>2</th>\n",
       "      <td>chr1</td>\n",
       "      <td>4365319</td>\n",
       "      <td>4784706</td>\n",
       "      <td>ENSMUSG00000025902</td>\n",
       "      <td>419387</td>\n",
       "      <td>-</td>\n",
       "    </tr>\n",
       "    <tr>\n",
       "      <th>3</th>\n",
       "      <td>chr1</td>\n",
       "      <td>4501418</td>\n",
       "      <td>4802819</td>\n",
       "      <td>ENSMUSG00000033845</td>\n",
       "      <td>301401</td>\n",
       "      <td>-</td>\n",
       "    </tr>\n",
       "    <tr>\n",
       "      <th>4</th>\n",
       "      <td>chr1</td>\n",
       "      <td>4790715</td>\n",
       "      <td>4852810</td>\n",
       "      <td>ENSMUSG00000025903</td>\n",
       "      <td>62095</td>\n",
       "      <td>+</td>\n",
       "    </tr>\n",
       "  </tbody>\n",
       "</table>\n",
       "</div>"
      ],
      "text/plain": [
       "  chrom    start      end              geneID    score strand\n",
       "0  chr1  2670503  4359310  ENSMUSG00000051951  1688807      -\n",
       "1  chr1  3676503  4495409  ENSMUSG00000025900   818906      -\n",
       "2  chr1  4365319  4784706  ENSMUSG00000025902   419387      -\n",
       "3  chr1  4501418  4802819  ENSMUSG00000033845   301401      -\n",
       "4  chr1  4790715  4852810  ENSMUSG00000025903    62095      +"
      ]
     },
     "execution_count": 3,
     "metadata": {},
     "output_type": "execute_result"
    }
   ],
   "source": [
    "greg['Mmu'].head()"
   ]
  },
  {
   "cell_type": "code",
   "execution_count": 4,
   "metadata": {},
   "outputs": [],
   "source": [
    "stages = {}\n",
    "stages['Bla'] = ['8','15','36','60']\n",
    "stages['Dre'] = [\"dome\",\"shield\",\"80epi\",\"8som\",\"24h\",\"48h\"]\n",
    "stages['Ola'] = [\"dome\",\"shield\",\"8som\",\"24h\",\"48h\"]\n",
    "stages['Mmu'] = ['DE','ESC']"
   ]
  },
  {
   "cell_type": "markdown",
   "metadata": {},
   "source": [
    "### The ATAC-seq peaks\n",
    "\n",
    "As determined by the idr \"pipeline\", see more in the peak-calling notebook"
   ]
  },
  {
   "cell_type": "code",
   "execution_count": 5,
   "metadata": {},
   "outputs": [],
   "source": [
    "pre_ = './data/atac_peaks/'\n",
    "\n",
    "peak_beds = {}\n",
    "\n",
    "peak_beds['Dre'] = [ (BT(\"{}zebra_danRer10_{}_idrpeaks.bed\".format(pre_,x))\n",
    "                    .sort()\n",
    "                    )for x in stages['Dre']]\n",
    "peak_beds['Bla'] = [(BT(\"{}amphi_{}_idrpeaks.bed\".format(pre_,x))\n",
    "                     .sort()\n",
    "                     ) for x in stages['Bla']]\n",
    "peak_beds['Ola'] = [ (BT(\"{}medaka_{}_idrpeaks.bed\".format(pre_,x))\n",
    "                    .sort()\n",
    "                    )for x in stages['Ola']]\n",
    "peak_beds['Mmu'] = [ (BT(\"{}mouse_{}_idrpeaks.bed\".format(pre_,x))\n",
    "                    .sort()\n",
    "                    )for x in stages['Mmu']]\n"
   ]
  },
  {
   "cell_type": "markdown",
   "metadata": {},
   "source": [
    "### Grouping of genes into homologous-families       \n",
    "\n",
    "We have in our disposal a precomputed table where genes of various species\n",
    "are separated into homologous families.\n",
    "\n",
    "Each row is a family, each column a species. \n",
    "The paralogues of each species are separated with \":\" so when we load this dataset\n",
    "we split the strings into lists.\n",
    "\n",
    "We also create a second dataframe \"genefamsC\" which has the same index and shape as the first one,\n",
    "but contains the count of genes in each cell."
   ]
  },
  {
   "cell_type": "code",
   "execution_count": 6,
   "metadata": {},
   "outputs": [],
   "source": [
    "genefams = pd.read_csv(\"./data/gene_families_table.tsv\",\n",
    "                      sep='\\t')\n",
    "genefams = genefams.applymap(lambda x: x.split(\":\") if x==x else x)\n",
    "\n",
    "genefamsC = genefams.applymap(lambda x: len(x) if x==x else 0)"
   ]
  },
  {
   "cell_type": "code",
   "execution_count": 7,
   "metadata": {},
   "outputs": [
    {
     "data": {
      "text/html": [
       "<div>\n",
       "<table border=\"1\" class=\"dataframe\">\n",
       "  <thead>\n",
       "    <tr style=\"text-align: right;\">\n",
       "      <th></th>\n",
       "      <th>Bbe</th>\n",
       "      <th>Bla</th>\n",
       "      <th>Cmi</th>\n",
       "      <th>Dre</th>\n",
       "      <th>Gga</th>\n",
       "      <th>Hsa</th>\n",
       "      <th>Mmu</th>\n",
       "      <th>Ola</th>\n",
       "      <th>Sko</th>\n",
       "      <th>Spu</th>\n",
       "      <th>Xtr</th>\n",
       "      <th>Dme</th>\n",
       "    </tr>\n",
       "  </thead>\n",
       "  <tbody>\n",
       "    <tr>\n",
       "      <th>0</th>\n",
       "      <td>1</td>\n",
       "      <td>1</td>\n",
       "      <td>0</td>\n",
       "      <td>0</td>\n",
       "      <td>0</td>\n",
       "      <td>0</td>\n",
       "      <td>0</td>\n",
       "      <td>0</td>\n",
       "      <td>0</td>\n",
       "      <td>0</td>\n",
       "      <td>0</td>\n",
       "      <td>0</td>\n",
       "    </tr>\n",
       "    <tr>\n",
       "      <th>1</th>\n",
       "      <td>0</td>\n",
       "      <td>1</td>\n",
       "      <td>0</td>\n",
       "      <td>0</td>\n",
       "      <td>0</td>\n",
       "      <td>0</td>\n",
       "      <td>0</td>\n",
       "      <td>0</td>\n",
       "      <td>0</td>\n",
       "      <td>1</td>\n",
       "      <td>0</td>\n",
       "      <td>0</td>\n",
       "    </tr>\n",
       "    <tr>\n",
       "      <th>2</th>\n",
       "      <td>1</td>\n",
       "      <td>1</td>\n",
       "      <td>0</td>\n",
       "      <td>0</td>\n",
       "      <td>0</td>\n",
       "      <td>0</td>\n",
       "      <td>0</td>\n",
       "      <td>0</td>\n",
       "      <td>0</td>\n",
       "      <td>0</td>\n",
       "      <td>0</td>\n",
       "      <td>0</td>\n",
       "    </tr>\n",
       "    <tr>\n",
       "      <th>3</th>\n",
       "      <td>28</td>\n",
       "      <td>36</td>\n",
       "      <td>6</td>\n",
       "      <td>9</td>\n",
       "      <td>1</td>\n",
       "      <td>4</td>\n",
       "      <td>4</td>\n",
       "      <td>3</td>\n",
       "      <td>61</td>\n",
       "      <td>8</td>\n",
       "      <td>16</td>\n",
       "      <td>0</td>\n",
       "    </tr>\n",
       "    <tr>\n",
       "      <th>4</th>\n",
       "      <td>1</td>\n",
       "      <td>1</td>\n",
       "      <td>0</td>\n",
       "      <td>0</td>\n",
       "      <td>0</td>\n",
       "      <td>0</td>\n",
       "      <td>0</td>\n",
       "      <td>0</td>\n",
       "      <td>0</td>\n",
       "      <td>0</td>\n",
       "      <td>0</td>\n",
       "      <td>0</td>\n",
       "    </tr>\n",
       "  </tbody>\n",
       "</table>\n",
       "</div>"
      ],
      "text/plain": [
       "   Bbe  Bla  Cmi  Dre  Gga  Hsa  Mmu  Ola  Sko  Spu  Xtr  Dme\n",
       "0    1    1    0    0    0    0    0    0    0    0    0    0\n",
       "1    0    1    0    0    0    0    0    0    0    1    0    0\n",
       "2    1    1    0    0    0    0    0    0    0    0    0    0\n",
       "3   28   36    6    9    1    4    4    3   61    8   16    0\n",
       "4    1    1    0    0    0    0    0    0    0    0    0    0"
      ]
     },
     "execution_count": 7,
     "metadata": {},
     "output_type": "execute_result"
    }
   ],
   "source": [
    "genefamsC.head()"
   ]
  },
  {
   "cell_type": "code",
   "execution_count": 8,
   "metadata": {},
   "outputs": [],
   "source": [
    "# Make some masks for the dataframe\n",
    "mask_oto = (genefamsC['Bla']==1) & (genefamsC['Dre']==1)  # 1-1\n",
    "mask_ottw = (genefamsC['Bla']==1) & (genefamsC['Dre']==2) # 1-2\n",
    "mask_otth = (genefamsC['Bla']==1) & (genefamsC['Dre']==3) # 1-3\n",
    "mask_otfo = (genefamsC['Bla']==1) & (genefamsC['Dre']==4) # 1-4\n",
    "\n",
    "masks = [mask_oto, mask_ottw,mask_otth,mask_otfo]\n",
    "titles = ['1-1','1-2','1-3','1-4']\n",
    "\n",
    "# then some sets\n",
    "oto_genes = genefams.loc[mask_oto,['Bla','Dre','Mmu','Ola']]\n",
    "oto_genes = set([x for y in oto_genes.values.flatten() if y==y for x in y])\n",
    "ottw_genes = genefams.loc[mask_ottw,['Bla','Dre','Mmu','Ola']]\n",
    "ottw_genes = set([x for y in ottw_genes.values.flatten() if y==y for x in y])\n",
    "otth_genes = genefams.loc[mask_otth,['Bla','Dre','Mmu','Ola']]\n",
    "otth_genes = set([x for y in otth_genes.values.flatten() if y==y for x in y])\n",
    "otfo_genes = genefams.loc[mask_otfo,['Bla','Dre','Mmu','Ola']]\n",
    "otfo_genes = set([x for y in otfo_genes.values.flatten() if y==y for x in y])\n",
    "\n",
    "# and use the sets to categorize the genes\n",
    "def categorize(x):\n",
    "    if x in oto_genes:\n",
    "        return '1-1'\n",
    "    elif x in ottw_genes:\n",
    "        return '1-2'\n",
    "    elif x in otth_genes:\n",
    "        return '1-3'\n",
    "    elif x in otfo_genes:\n",
    "        return '1-4'\n",
    "    else:\n",
    "        return 'nop'"
   ]
  },
  {
   "cell_type": "code",
   "execution_count": null,
   "metadata": {},
   "outputs": [],
   "source": []
  },
  {
   "cell_type": "code",
   "execution_count": 9,
   "metadata": {},
   "outputs": [],
   "source": [
    "bedfields = ['chrom','start','end','name','score','strand']\n",
    "big = {}\n",
    "\n",
    "big['Dre'] = BT().from_dataframe(greg['Dre']).sort()\n",
    "for bee in peak_beds['Dre']:\n",
    "    big['Dre'] = big['Dre'].intersect(b = bee, c=True, sorted=True, nonamecheck=True)\n",
    "big['Dre'] = big['Dre'].to_dataframe()\n",
    "big['Dre'].columns = bedfields + stages['Dre']\n",
    "\n",
    "# the other species:\n",
    "big['Bla'] = BT().from_dataframe(greg['Bla']).sort()\n",
    "for bee in peak_beds['Bla']:\n",
    "    big['Bla'] = big['Bla'].intersect(b = bee, c=True, sorted=True, nonamecheck=True)\n",
    "big['Bla'] = big['Bla'].to_dataframe()\n",
    "big['Bla'].columns = bedfields + stages['Bla']\n",
    "\n",
    "big['Ola'] = BT().from_dataframe(greg['Ola']).sort()\n",
    "for bee in peak_beds['Ola']:\n",
    "    big['Ola'] = big['Ola'].intersect(b = bee, c=True, sorted=True, nonamecheck=True)\n",
    "big['Ola'] = big['Ola'].to_dataframe()\n",
    "big['Ola'].columns = bedfields + stages['Ola']\n",
    "\n",
    "big['Mmu'] = BT().from_dataframe(greg['Mmu']).sort()\n",
    "for bee in peak_beds['Mmu']:\n",
    "    big['Mmu'] = big['Mmu'].intersect(b = bee, c=True, sorted=True, nonamecheck=True)\n",
    "big['Mmu'] = big['Mmu'].to_dataframe()\n",
    "big['Mmu'].columns = bedfields + stages['Mmu']"
   ]
  },
  {
   "cell_type": "code",
   "execution_count": 10,
   "metadata": {},
   "outputs": [
    {
     "data": {
      "text/html": [
       "<div>\n",
       "<table border=\"1\" class=\"dataframe\">\n",
       "  <thead>\n",
       "    <tr style=\"text-align: right;\">\n",
       "      <th></th>\n",
       "      <th>chrom</th>\n",
       "      <th>start</th>\n",
       "      <th>end</th>\n",
       "      <th>name</th>\n",
       "      <th>score</th>\n",
       "      <th>strand</th>\n",
       "      <th>dome</th>\n",
       "      <th>shield</th>\n",
       "      <th>80epi</th>\n",
       "      <th>8som</th>\n",
       "      <th>24h</th>\n",
       "      <th>48h</th>\n",
       "    </tr>\n",
       "  </thead>\n",
       "  <tbody>\n",
       "    <tr>\n",
       "      <th>8558</th>\n",
       "      <td>chr2</td>\n",
       "      <td>24666594</td>\n",
       "      <td>24712432</td>\n",
       "      <td>ENSDARG00000076265</td>\n",
       "      <td>45838</td>\n",
       "      <td>-</td>\n",
       "      <td>5</td>\n",
       "      <td>5</td>\n",
       "      <td>4</td>\n",
       "      <td>4</td>\n",
       "      <td>3</td>\n",
       "      <td>5</td>\n",
       "    </tr>\n",
       "    <tr>\n",
       "      <th>16325</th>\n",
       "      <td>chr5</td>\n",
       "      <td>71592469</td>\n",
       "      <td>71604749</td>\n",
       "      <td>ENSDARG00000102657</td>\n",
       "      <td>12280</td>\n",
       "      <td>+</td>\n",
       "      <td>6</td>\n",
       "      <td>4</td>\n",
       "      <td>5</td>\n",
       "      <td>4</td>\n",
       "      <td>4</td>\n",
       "      <td>4</td>\n",
       "    </tr>\n",
       "    <tr>\n",
       "      <th>19869</th>\n",
       "      <td>chrUn_KN149842v1</td>\n",
       "      <td>0</td>\n",
       "      <td>11426</td>\n",
       "      <td>ENSDARG00000100873</td>\n",
       "      <td>11426</td>\n",
       "      <td>+</td>\n",
       "      <td>2</td>\n",
       "      <td>1</td>\n",
       "      <td>1</td>\n",
       "      <td>1</td>\n",
       "      <td>1</td>\n",
       "      <td>2</td>\n",
       "    </tr>\n",
       "    <tr>\n",
       "      <th>12350</th>\n",
       "      <td>chr24</td>\n",
       "      <td>25041723</td>\n",
       "      <td>25059837</td>\n",
       "      <td>ENSDARG00000091835</td>\n",
       "      <td>18114</td>\n",
       "      <td>+</td>\n",
       "      <td>1</td>\n",
       "      <td>1</td>\n",
       "      <td>1</td>\n",
       "      <td>1</td>\n",
       "      <td>1</td>\n",
       "      <td>1</td>\n",
       "    </tr>\n",
       "    <tr>\n",
       "      <th>15589</th>\n",
       "      <td>chr5</td>\n",
       "      <td>25046876</td>\n",
       "      <td>25075695</td>\n",
       "      <td>ENSDARG00000056386</td>\n",
       "      <td>28819</td>\n",
       "      <td>-</td>\n",
       "      <td>1</td>\n",
       "      <td>0</td>\n",
       "      <td>2</td>\n",
       "      <td>1</td>\n",
       "      <td>2</td>\n",
       "      <td>2</td>\n",
       "    </tr>\n",
       "  </tbody>\n",
       "</table>\n",
       "</div>"
      ],
      "text/plain": [
       "                  chrom     start       end                name  score strand  \\\n",
       "8558               chr2  24666594  24712432  ENSDARG00000076265  45838      -   \n",
       "16325              chr5  71592469  71604749  ENSDARG00000102657  12280      +   \n",
       "19869  chrUn_KN149842v1         0     11426  ENSDARG00000100873  11426      +   \n",
       "12350             chr24  25041723  25059837  ENSDARG00000091835  18114      +   \n",
       "15589              chr5  25046876  25075695  ENSDARG00000056386  28819      -   \n",
       "\n",
       "       dome  shield  80epi  8som  24h  48h  \n",
       "8558      5       5      4     4    3    5  \n",
       "16325     6       4      5     4    4    4  \n",
       "19869     2       1      1     1    1    2  \n",
       "12350     1       1      1     1    1    1  \n",
       "15589     1       0      2     1    2    2  "
      ]
     },
     "execution_count": 10,
     "metadata": {},
     "output_type": "execute_result"
    }
   ],
   "source": [
    "big['Dre'].sample(5)"
   ]
  },
  {
   "cell_type": "code",
   "execution_count": 11,
   "metadata": {},
   "outputs": [],
   "source": [
    "# set the gene ID as index in all dataframes of 'big'\n",
    "big_ind = {}\n",
    "for k,v in big.items():\n",
    "    big_ind[k] = v.set_index('name')\n",
    "    big_ind[k].columns = [str(x) for x in big_ind[k].columns]"
   ]
  },
  {
   "cell_type": "code",
   "execution_count": 12,
   "metadata": {},
   "outputs": [],
   "source": [
    "\n",
    "dd_dre = big_ind['Dre'].copy()\n",
    "dd_dre['category'] = dd_dre.index.to_series().map(categorize)\n",
    "# dd_dre = dd_dre[dd_dre.category != 'nop']\n",
    "dd_dre['species'] = 'dre'\n",
    "dd_dre = dd_dre[stages['Dre']+['category','species']]\n",
    "dd_dre.columns = stages['Dre']+['category','species']\n",
    "\n",
    "dd_ola = big_ind['Ola'].copy()\n",
    "dd_ola['category'] = dd_ola.index.to_series().map(categorize)\n",
    "# dd_ola = dd_ola[dd_ola.category != 'nop']\n",
    "dd_ola['species'] = 'ola'\n",
    "dd_ola = dd_ola[stages['Ola']+['category','species']]\n",
    "dd_ola.columns = stages['Ola']+['category','species']\n",
    "\n",
    "dd_bla = big_ind['Bla'].copy()\n",
    "dd_bla['category'] = dd_bla.index.to_series().map(categorize)\n",
    "# dd_bla = dd_bla[dd_bla.category != 'nop']\n",
    "dd_bla['species'] = 'bla'\n",
    "dd_bla = dd_bla[stages['Bla']+['category','species']]\n",
    "dd_bla.columns = stages['Bla']+['category','species']\n",
    "\n",
    "dd_mmu = big_ind['Mmu'].copy()\n",
    "dd_mmu['category'] = dd_mmu.index.to_series().map(categorize)\n",
    "# dd_mmu = dd_mmu[dd_mmu.category != 'nop']\n",
    "dd_mmu['species'] = 'mmu'\n",
    "dd_mmu = dd_mmu[stages['Mmu']+['category','species']]\n",
    "dd_mmu.columns = stages['Mmu']+['category','species']"
   ]
  },
  {
   "cell_type": "code",
   "execution_count": 13,
   "metadata": {},
   "outputs": [
    {
     "data": {
      "text/html": [
       "<div>\n",
       "<table border=\"1\" class=\"dataframe\">\n",
       "  <thead>\n",
       "    <tr style=\"text-align: right;\">\n",
       "      <th></th>\n",
       "      <th>category</th>\n",
       "      <th>species</th>\n",
       "      <th>stage</th>\n",
       "      <th>count</th>\n",
       "    </tr>\n",
       "  </thead>\n",
       "  <tbody>\n",
       "    <tr>\n",
       "      <th>0</th>\n",
       "      <td>nop</td>\n",
       "      <td>dre</td>\n",
       "      <td>dome</td>\n",
       "      <td>0</td>\n",
       "    </tr>\n",
       "    <tr>\n",
       "      <th>1</th>\n",
       "      <td>nop</td>\n",
       "      <td>dre</td>\n",
       "      <td>dome</td>\n",
       "      <td>0</td>\n",
       "    </tr>\n",
       "  </tbody>\n",
       "</table>\n",
       "</div>"
      ],
      "text/plain": [
       "  category species stage  count\n",
       "0      nop     dre  dome      0\n",
       "1      nop     dre  dome      0"
      ]
     },
     "execution_count": 13,
     "metadata": {},
     "output_type": "execute_result"
    }
   ],
   "source": [
    "# then melt the DFs from each species and concatenate those\n",
    "TOPLOT = pd.concat([pd.melt(dd_dre, id_vars=['category','species']),\n",
    "            pd.melt(dd_bla, id_vars=['category','species']),\n",
    "            pd.melt(dd_ola, id_vars=['category','species'])\n",
    "            \n",
    "                   ])\n",
    "TOPLOT.columns = ['category','species','stage','count']\n",
    "TOPLOT.head(2)"
   ]
  },
  {
   "cell_type": "code",
   "execution_count": 14,
   "metadata": {},
   "outputs": [],
   "source": [
    "def boxplot_pvals(data, x,x_anq,x_targs,y,hue,hue_order):\n",
    "    for targetx in x_targs:\n",
    "        for huel in hue_order:\n",
    "            m1 = (data[x]==x_anq)\n",
    "            mh = data[hue] == huel\n",
    "            m2 = (data[x]==targetx)\n",
    "            print(targetx, huel, MWU( data.loc[mh & m2, y].values, data.loc[mh & m1, y].values, alternative='greater' ).pvalue)\n",
    "\n",
    "def boxplot_pvals_nohue(data, x,x_anq,x_targs,y):\n",
    "    for targetx in x_targs:\n",
    "            m1 = (data[x]==x_anq)\n",
    "            m2 = (data[x]==targetx)\n",
    "            print(targetx, MWU( data.loc[m2, y].values, data.loc[ m1, y].values, alternative='greater' ).pvalue)\n"
   ]
  },
  {
   "cell_type": "markdown",
   "metadata": {},
   "source": [
    "# Fig. 5 a"
   ]
  },
  {
   "cell_type": "code",
   "execution_count": 21,
   "metadata": {},
   "outputs": [
    {
     "name": "stdout",
     "output_type": "stream",
     "text": [
      "dre 0.0\n"
     ]
    },
    {
     "data": {
      "image/png": "[encoded data removed]",
      "text/plain": [
       "<matplotlib.figure.Figure at 0x7f64a0a15080>"
      ]
     },
     "metadata": {},
     "output_type": "display_data"
    }
   ],
   "source": [
    "TP = pd.concat(\n",
    "               [TOPLOT[ (TOPLOT.species=='dre') & (TOPLOT.stage=='8som') & (TOPLOT.category!='nop')],\n",
    "                TOPLOT[ (TOPLOT.species=='bla') & (TOPLOT.stage=='15') & (TOPLOT.category!='nop')]\n",
    "               ])\n",
    "\n",
    "\n",
    "plt.figure(figsize=(3,9))\n",
    "\n",
    "\n",
    "sns.boxplot(data = TP, \n",
    "            \n",
    "            x='species',\n",
    "            y='count',\n",
    "            order=['bla','dre'],\n",
    "           fliersize=0, palette='Blues',\n",
    "            \n",
    "           )\n",
    "        \n",
    "plt.ylim((0,55))\n",
    "plt.legend(loc='upper left')\n",
    "\n",
    "boxplot_pvals_nohue(TP, 'species','bla',['dre'],'count')"
   ]
  },
  {
   "cell_type": "markdown",
   "metadata": {},
   "source": [
    "# Fig. 5 b"
   ]
  },
  {
   "cell_type": "code",
   "execution_count": 19,
   "metadata": {},
   "outputs": [
    {
     "name": "stdout",
     "output_type": "stream",
     "text": [
      "dre 1-1 0.0\n",
      "dre 1-2 1.40745687909e-140\n",
      "dre 1-3 3.49127570804e-61\n",
      "dre 1-4 2.65469337834e-31\n"
     ]
    },
    {
     "data": {
      "image/png": "[encoded data removed]",
      "text/plain": [
       "<matplotlib.figure.Figure at 0x7f64a0a15128>"
      ]
     },
     "metadata": {},
     "output_type": "display_data"
    }
   ],
   "source": [
    "TP = pd.concat(\n",
    "               [TOPLOT[ (TOPLOT.species=='dre') & (TOPLOT.stage=='24h') & (TOPLOT.category!='nop')],\n",
    "                TOPLOT[ (TOPLOT.species=='bla') & (TOPLOT.stage=='36') & (TOPLOT.category!='nop')]\n",
    "               ])\n",
    "\n",
    "plt.figure(figsize=(6,9))\n",
    "\n",
    "\n",
    "sns.boxplot(data = TP,  \n",
    "            x='species',\n",
    "            order=['bla','dre'],\n",
    "            y='count',\n",
    "            hue='category',\n",
    "            hue_order=['1-1','1-2','1-3','1-4'],\n",
    "           fliersize=0, palette='Blues'            \n",
    "           )\n",
    "        \n",
    "plt.ylim((0,60))\n",
    "plt.legend(loc='upper left')\n",
    "\n",
    "boxplot_pvals(TP, 'species','bla',['dre'],'count','category',['1-1','1-2','1-3','1-4'])"
   ]
  },
  {
   "cell_type": "markdown",
   "metadata": {},
   "source": [
    "# Fig. 5 c    \n",
    "For this, we need to choose the max and min gene per gene family so we'll need to go through our data again:"
   ]
  },
  {
   "cell_type": "code",
   "execution_count": 22,
   "metadata": {},
   "outputs": [],
   "source": [
    "lot = {}\n",
    "lot['Dre'] = []\n",
    "lot['Bla'] = []\n",
    "\n",
    "for mask,title in zip(masks, titles):\n",
    "    for i,row in genefams.loc[mask,['Bla','Dre']].iterrows():\n",
    "        for spec in ['Bla','Dre']:\n",
    "            try:\n",
    "                lgl = row[spec]\n",
    "                if lgl == lgl:\n",
    "                    slaice = big_ind[spec].loc[lgl, stages[spec]]\n",
    "                    slaice = pd.concat([slaice.min(),slaice.max()], axis=1)\n",
    "                    slaice.columns = ['min','max']\n",
    "                    slaice['stage'] = spec + \"_\" + slaice.index.values\n",
    "                    slaice = pd.melt(slaice, id_vars=['stage'])\n",
    "                    slaice['title'] = title\n",
    "                    \n",
    "                    lot[spec].append( slaice )\n",
    "            except:\n",
    "                pass\n",
    "lot['Dre'] = pd.concat(lot['Dre'])\n",
    "lot['Bla'] = pd.concat(lot['Bla'])\n",
    "\n",
    "\n",
    "\n",
    "bigmelt3 = pd.concat([lot['Dre']\n",
    "                     , lot['Bla']])"
   ]
  },
  {
   "cell_type": "code",
   "execution_count": 23,
   "metadata": {},
   "outputs": [
    {
     "data": {
      "image/png": "[encoded data removed]",
      "text/plain": [
       "<matplotlib.figure.Figure at 0x7f6404de4470>"
      ]
     },
     "metadata": {},
     "output_type": "display_data"
    },
    {
     "data": {
      "image/png": "[encoded data removed]",
      "text/plain": [
       "<matplotlib.figure.Figure at 0x7f6404e053c8>"
      ]
     },
     "metadata": {},
     "output_type": "display_data"
    }
   ],
   "source": [
    "# a hand-made palette\n",
    "bcp = sns.color_palette('Blues',4)\n",
    "sns.palplot(bcp)\n",
    "rcp = sns.color_palette('Reds',4)\n",
    "sns.palplot(rcp)\n",
    "mycp = {\n",
    "#  '1-1max':(0.8141176470588235, 0.883921568627451, 0.9498039215686275),\n",
    "    '1-1max':(0.9027451 ,  0.83764706,  0.82901961),\n",
    "    '1-1min':(0.9913725490196079, 0.7913725490196079, 0.7082352941176471),\n",
    "    '1-2max':(0.5796078431372549, 0.7701960784313725, 0.8737254901960784),\n",
    "    '1-2min':(0.9874509803921568, 0.5411764705882353, 0.41568627450980394),\n",
    "    '1-3max':(0.2909803921568628, 0.5945098039215686, 0.7890196078431373),\n",
    "    '1-3min':(0.9466666666666667, 0.26823529411764707, 0.19607843137254902),\n",
    "    '1-4max':(0.09019607843137256, 0.39294117647058824, 0.6705882352941177),\n",
    "    '1-4min':(0.7364705882352941, 0.08, 0.10117647058823528),\n",
    "    '_':(0,0,0)}"
   ]
  },
  {
   "cell_type": "code",
   "execution_count": 24,
   "metadata": {},
   "outputs": [],
   "source": [
    "foo = bigmelt3[bigmelt3.stage.isin(oMF2)].copy()\n",
    "foo['nf'] = foo.title + foo.variable\n",
    "\n",
    "foo['norm'] = 0"
   ]
  },
  {
   "cell_type": "code",
   "execution_count": 36,
   "metadata": {},
   "outputs": [
    {
     "data": {
      "text/plain": [
       "(0, 60)"
      ]
     },
     "execution_count": 36,
     "metadata": {},
     "output_type": "execute_result"
    },
    {
     "data": {
      "image/png": "[encoded data removed]",
      "text/plain": [
       "<matplotlib.figure.Figure at 0x7f640679ab70>"
      ]
     },
     "metadata": {},
     "output_type": "display_data"
    }
   ],
   "source": [
    "toplot = foo.copy()\n",
    "toplot['hew'] = toplot.title  + toplot.variable\n",
    "\n",
    "plt.figure(figsize=(12,9))\n",
    "\n",
    "g = sns.boxplot(\n",
    "            \n",
    "            x=\"stage\",\n",
    "            y=\"value\",\n",
    "            hue=\"hew\",\n",
    "            fliersize=0,\n",
    "            hue_order=['1-1max','_','1-2min','1-2max','1-3min','1-3max','1-4min','1-4max'],\n",
    "            palette = mycp,\n",
    "            order=['Bla_15','Dre_8som'],\n",
    "            data=toplot\n",
    "            )\n",
    "plt.legend(loc='upper left')\n",
    "sns.despine()\n",
    "\n",
    "plt.ylim((0,60))"
   ]
  },
  {
   "cell_type": "code",
   "execution_count": 37,
   "metadata": {},
   "outputs": [
    {
     "name": "stdout",
     "output_type": "stream",
     "text": [
      "Dre_8som 1-1max 3.99445058218e-278\n",
      "Dre_8som _ 1.0\n",
      "Dre_8som 1-2min 1.026267369e-10\n",
      "Dre_8som 1-2max 1.36743541975e-178\n",
      "Dre_8som 1-3min 0.440124060257\n",
      "Dre_8som 1-3max 4.79126396113e-103\n",
      "Dre_8som 1-4min 0.998286751524\n",
      "Dre_8som 1-4max 1.7974330912e-61\n"
     ]
    },
    {
     "name": "stderr",
     "output_type": "stream",
     "text": [
      "/home/ska/tools/py3_venv/lib/python3.6/site-packages/scipy/stats/stats.py:4879: RuntimeWarning: divide by zero encountered in double_scalars\n",
      "  z = (bigu - meanrank) / sd\n"
     ]
    }
   ],
   "source": [
    "# some pvalues\n",
    "boxplot_pvals(toplot, 'stage','Bla_15',['Dre_8som'],'value','hew',['1-1max','_','1-2min','1-2max','1-3min','1-3max','1-4min','1-4max'])"
   ]
  },
  {
   "cell_type": "code",
   "execution_count": null,
   "metadata": {},
   "outputs": [],
   "source": []
  },
  {
   "cell_type": "code",
   "execution_count": null,
   "metadata": {},
   "outputs": [],
   "source": []
  },
  {
   "cell_type": "code",
   "execution_count": null,
   "metadata": {},
   "outputs": [],
   "source": []
  },
  {
   "cell_type": "markdown",
   "metadata": {},
   "source": [
    "# Fig. 5 k "
   ]
  },
  {
   "cell_type": "code",
   "execution_count": 68,
   "metadata": {},
   "outputs": [],
   "source": [
    "fate_dict_zebra = dict(pd.read_csv(\"./data/gene_fates/Gene_types-Dre-v3.txt\", sep='\\t',header=None).set_index(0)[1])\n",
    "fate_dict_mouse = dict(pd.read_csv(\"./data/gene_fates/Gene_types-Mmu-v3.txt\", sep='\\t',header=None).set_index(0)[1])\n",
    "\n",
    "FATE_ORDER = ['REDUNDANT','SUBFUNCT','SPEC_EQUAL', 'SPEC_MILD','SPEC_STRONG']"
   ]
  },
  {
   "cell_type": "code",
   "execution_count": 55,
   "metadata": {},
   "outputs": [
    {
     "name": "stderr",
     "output_type": "stream",
     "text": [
      "***** WARNING: File /tmp/pybedtools.3n54uxkf.tmp has inconsistent naming convention for record:\n",
      "MT\t0\t4804\tENSDARG00000063895\t4804\t+\n",
      "\n",
      "***** WARNING: File /tmp/pybedtools.3n54uxkf.tmp has inconsistent naming convention for record:\n",
      "MT\t0\t4804\tENSDARG00000063895\t4804\t+\n",
      "\n"
     ]
    }
   ],
   "source": [
    "bedfile = BT().from_dataframe(greg['Dre']).sort()\n",
    "\n",
    "df = bedfile.intersect(BT(\"./data/atac_peaks/zebra_danRer10_merged_idrpeaks.bed\"), c=True).to_dataframe()\n",
    "\n"
   ]
  },
  {
   "cell_type": "code",
   "execution_count": 57,
   "metadata": {},
   "outputs": [],
   "source": [
    "df['fate'] = df['name'].map(fate_dict_zebra)"
   ]
  },
  {
   "cell_type": "code",
   "execution_count": 61,
   "metadata": {},
   "outputs": [],
   "source": [
    "toplot = df[['thickStart','fate']].dropna()"
   ]
  },
  {
   "cell_type": "code",
   "execution_count": 66,
   "metadata": {},
   "outputs": [
    {
     "data": {
      "text/plain": [
       "(0, 90)"
      ]
     },
     "execution_count": 66,
     "metadata": {},
     "output_type": "execute_result"
    },
    {
     "data": {
      "image/png": "[encoded data removed]",
      "text/plain": [
       "<matplotlib.figure.Figure at 0x7f646d1ad668>"
      ]
     },
     "metadata": {},
     "output_type": "display_data"
    }
   ],
   "source": [
    "plt.figure(figsize=(16,9))\n",
    "sns.boxplot( data=dd_dre, \n",
    "           y='8som',\n",
    "           x='category',\n",
    "        fliersize=0,\n",
    "            order=FATE_ORDER\n",
    "           )\n",
    "\n",
    "\n",
    "plt.ylim((0,55))"
   ]
  }
 ],
 "metadata": {
  "kernelspec": {
   "display_name": "Python 3",
   "language": "python",
   "name": "python3"
  },
  "language_info": {
   "codemirror_mode": {
    "name": "ipython",
    "version": 3
   },
   "file_extension": ".py",
   "mimetype": "text/x-python",
   "name": "python",
   "nbconvert_exporter": "python",
   "pygments_lexer": "ipython3",
   "version": "3.6.1"
  }
 },
 "nbformat": 4,
 "nbformat_minor": 2
}
