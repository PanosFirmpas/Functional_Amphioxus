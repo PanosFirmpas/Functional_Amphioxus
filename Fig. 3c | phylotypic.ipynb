{
 "cells": [
  {
   "cell_type": "markdown",
   "metadata": {},
   "source": [
    "# Figure 3 c"
   ]
  },
  {
   "cell_type": "markdown",
   "metadata": {},
   "source": [
    "# Comparison of motif similarity at embryonic stages.\n",
    "To assess the similarity of developmental stages in the two species based on what TFs are important in them.    \n",
    "\n",
    "We counted motifs (PWMs) in dynamic ATAC peaks of our various developmental stages. We divided each motif's count by the total hits of the motif in all stages and then scaled the values in each stage.     \n",
    "\n",
    "We could then calculate the correlation between stages and thus, we created a heatmap of correlation for the developmental stages of the two species."
   ]
  },
  {
   "cell_type": "markdown",
   "metadata": {},
   "source": [
    "# Preparation"
   ]
  },
  {
   "cell_type": "code",
   "execution_count": 1,
   "metadata": {},
   "outputs": [],
   "source": [
    "from pybedtools import BedTool as BT\n",
    "\n",
    "%matplotlib inline\n",
    "import seaborn as sns\n",
    "import matplotlib\n",
    "from matplotlib import pyplot as plt\n",
    "\n",
    "\n",
    "import pandas as pd\n",
    "from scipy.stats import pearsonr\n",
    "from collections import Counter\n",
    "from sklearn import preprocessing\n",
    "\n",
    "import warnings\n",
    "warnings.filterwarnings('ignore')"
   ]
  },
  {
   "cell_type": "markdown",
   "metadata": {},
   "source": [
    "### Motif families\n",
    "\n",
    "We have a large set of Position Weight Matrices, which we group together by their protein\n",
    "e.g. AP-2_Average_15 and AP-2_Average_17 are different position weight matrices,\n",
    "but both assigned to the 'Tfap2e' transcription factor so we will consider all instances\n",
    "of these two PWMs as instances of Tfap2e.    \n",
    "     \n",
    "Another example, are ARID_BRIGHT_RFX_Average_2,ARID_BRIGHT_RFX_Average_3 and ARID_BRIGHT_RFX_M4343_1.02 :    \n",
    "These 3 PWMs all are assigned to the TFs \"Rfx1;Rfx2;Rfx4;Rfx7\" so we will consider all instances of those 3 PWMs    \n",
    "to be instances of a \"Rfx1;Rfx2;Rfx4;Rfx7\" protein family.\n",
    "    \n",
    "To accomplish this, we will make a dictionary that maps PWMs to Protein family names :"
   ]
  },
  {
   "cell_type": "code",
   "execution_count": 2,
   "metadata": {},
   "outputs": [
    {
     "data": {
      "text/html": [
       "<div>\n",
       "<style>\n",
       "    .dataframe thead tr:only-child th {\n",
       "        text-align: right;\n",
       "    }\n",
       "\n",
       "    .dataframe thead th {\n",
       "        text-align: left;\n",
       "    }\n",
       "\n",
       "    .dataframe tbody tr th {\n",
       "        vertical-align: top;\n",
       "    }\n",
       "</style>\n",
       "<table border=\"1\" class=\"dataframe\">\n",
       "  <thead>\n",
       "    <tr style=\"text-align: right;\">\n",
       "      <th></th>\n",
       "      <th>PWMname</th>\n",
       "      <th>GFid</th>\n",
       "      <th>GFname</th>\n",
       "    </tr>\n",
       "  </thead>\n",
       "  <tbody>\n",
       "    <tr>\n",
       "      <th>0</th>\n",
       "      <td>AP-2_Average_15</td>\n",
       "      <td>17068</td>\n",
       "      <td>Tfap2e</td>\n",
       "    </tr>\n",
       "    <tr>\n",
       "      <th>1</th>\n",
       "      <td>AP-2_Average_17</td>\n",
       "      <td>17068</td>\n",
       "      <td>Tfap2e</td>\n",
       "    </tr>\n",
       "    <tr>\n",
       "      <th>2</th>\n",
       "      <td>AP-2_Average_26</td>\n",
       "      <td>17068</td>\n",
       "      <td>Tfap2e</td>\n",
       "    </tr>\n",
       "    <tr>\n",
       "      <th>3</th>\n",
       "      <td>AP-2_Average_27</td>\n",
       "      <td>17068</td>\n",
       "      <td>Tfap2e</td>\n",
       "    </tr>\n",
       "    <tr>\n",
       "      <th>4</th>\n",
       "      <td>AP-2_M6146_1.02</td>\n",
       "      <td>17068</td>\n",
       "      <td>Tfap2e</td>\n",
       "    </tr>\n",
       "  </tbody>\n",
       "</table>\n",
       "</div>"
      ],
      "text/plain": [
       "           PWMname   GFid  GFname\n",
       "0  AP-2_Average_15  17068  Tfap2e\n",
       "1  AP-2_Average_17  17068  Tfap2e\n",
       "2  AP-2_Average_26  17068  Tfap2e\n",
       "3  AP-2_Average_27  17068  Tfap2e\n",
       "4  AP-2_M6146_1.02  17068  Tfap2e"
      ]
     },
     "execution_count": 2,
     "metadata": {},
     "output_type": "execute_result"
    }
   ],
   "source": [
    "# This table connects PWMs to gene families\n",
    "superfams = pd.read_csv(\"./data/PWMname_to_ProteinFamily.tsv.gz\", sep='\\t', header=None)\n",
    "\n",
    "superfams.columns = ['PWMname','GFid','GFname']\n",
    "superfams.head()"
   ]
  },
  {
   "cell_type": "code",
   "execution_count": 3,
   "metadata": {},
   "outputs": [],
   "source": [
    "# the table needs a little fixing:    \n",
    "# some families of multiple proteins are identical,\n",
    "# but their IDs are in different order, so they can't be recognized as identical.\n",
    "# we'll go through the table and sort all name with multiple IDs\n",
    "# in order to make identical families have identical names.\n",
    "def order_things(x):\n",
    "    return ';'.join(sorted(x.split(';')))\n",
    "\n",
    "lot = []\n",
    "for i,row in superfams.iterrows():\n",
    "    if ';' not in row['GFid']:\n",
    "        lot.append( row.tolist() )\n",
    "    else:\n",
    "        a,b = [';'.join(jj) for jj in zip(*sorted(zip(row['GFid'].split(';'), row['GFname'].split(';')), key= lambda x: int(x[0]) ))]\n",
    "        lot.append( [row['PWMname'], a, b] )\n",
    "        \n",
    "superfams_ = pd.DataFrame(lot)\n",
    "\n",
    "# SFD here, maps the PWM names to unique protein numbers:\n",
    "# 'AP-2_Average_15': '17068'\n",
    "SFD = dict(superfams_[[0,1]].to_records(index=False))\n",
    "\n",
    "# but then in cases like 'ARID_BRIGHT_RFX_Average_2',\n",
    "# we have multiple proteins: 66;15742;15743;18247\n",
    "# we will replace this long concatenation of numbers \n",
    "# with a unique number:\n",
    "fuid = {}\n",
    "c = 0\n",
    "for v in SFD.values():\n",
    "    if v not in fuid:\n",
    "        fuid[v] = c\n",
    "        c += 1\n",
    "SFDu = {k:fuid[v] for k,v in SFD.items()}"
   ]
  },
  {
   "cell_type": "code",
   "execution_count": 4,
   "metadata": {},
   "outputs": [
    {
     "data": {
      "text/plain": [
       "[('T-box_Average_6', 0),\n",
       " ('T-box_Average_1', 1),\n",
       " ('Homeodomain_Average_495', 2),\n",
       " ('Forkhead_Average_39', 3),\n",
       " ('Homeodomain_M4692_1.02', 4)]"
      ]
     },
     "execution_count": 4,
     "metadata": {},
     "output_type": "execute_result"
    }
   ],
   "source": [
    "list(SFDu.items())[:5]"
   ]
  },
  {
   "cell_type": "markdown",
   "metadata": {},
   "source": [
    "### The mapped motifs:"
   ]
  },
  {
   "cell_type": "code",
   "execution_count": 5,
   "metadata": {},
   "outputs": [
    {
     "name": "stdout",
     "output_type": "stream",
     "text": [
      "Sc0000000\t5593\t5598\tHomeodomain_Average_626\t6.60757208173\t+\n",
      " Sc0000000\t5695\t5707\tC2H2_ZF_Average_154\t10.8804149236\t+\n",
      " "
     ]
    }
   ],
   "source": [
    "dan_motif_bed = BT(\"./data/danre_pwm_hits.bed.gz\")\n",
    "bla_motif_bed = BT(\"./data/bralan_pwm_hits.bed.gz\")\n",
    "bla_motif_bed.head(2)"
   ]
  },
  {
   "cell_type": "markdown",
   "metadata": {
    "collapsed": true
   },
   "source": [
    "### The ATACseq peaks\n",
    "\n",
    "We have compiled a set of peaks that turn ON or OFF in a reasonable pattern during development,\n",
    "and called these peaks 'dynamic'.     \n",
    "    \n",
    "Per stage we will only consider these dynamic peaks.     \n",
    "     \n",
    "We load them in pyBedTool objects, BT().     \n",
    "      \n",
    "We load the stages from each stage, and keep the ones that have been marked \n",
    "as logicaldynamic"
   ]
  },
  {
   "cell_type": "code",
   "execution_count": 6,
   "metadata": {},
   "outputs": [],
   "source": [
    "# some helper functions to get the dynamic peaks per stage\n",
    "\n",
    "a_dynamic = BT(\"./data/atac_peaks/amphi_logicaldynamic_idr.bed.gz\")\n",
    "def bla_stagepeaks(stage):\n",
    "    sd = BT(\"./data/atac_peaks/amphi_{}_idrpeaks.bed.gz\".format(stage))\n",
    "    sd = sd.intersect(a_dynamic,u=True, nonamecheck=True)  \n",
    "    return sd.sort()\n",
    "\n",
    "z_dynamic = BT(\"./data/atac_peaks/zebra_danRer10_logicaldynamic_idr.bed.gz\")\n",
    "def dan_stagepeaks(stage):\n",
    "    sd = BT(\"./data/atac_peaks/zebra_danRer10_{}_idrpeaks.bed.gz\".format(stage))\n",
    "    sd = sd.intersect(z_dynamic,u=True, nonamecheck=True)\n",
    "    return sd.sort()\n",
    "\n",
    "amphi_stages = ['8','15','36','60','hep']\n",
    "zebra_stages = ['dome','shield','80epi','8som','24h','48h']\n",
    "\n",
    "bla_peaks = [bla_stagepeaks(stage) for stage in amphi_stages]\n",
    "dan_peaks = [dan_stagepeaks(stage) for stage in zebra_stages]"
   ]
  },
  {
   "cell_type": "code",
   "execution_count": 7,
   "metadata": {},
   "outputs": [
    {
     "name": "stdout",
     "output_type": "stream",
     "text": [
      "Sc0000000\t311943\t312518\n",
      " Sc0000000\t319117\t319493\n",
      " Sc0000000\t356649\t356918\n",
      " "
     ]
    }
   ],
   "source": [
    "bla_peaks[0].head(3)"
   ]
  },
  {
   "cell_type": "code",
   "execution_count": 8,
   "metadata": {},
   "outputs": [],
   "source": [
    "TFids = sorted(set(SFDu.values()))"
   ]
  },
  {
   "cell_type": "code",
   "execution_count": 10,
   "metadata": {},
   "outputs": [],
   "source": [
    "# Here we get a dictionary, mapping the TF unique numbers to a total count per organism\n",
    "# We will use this to normalize later on\n",
    "_temp = (BT(\"./data/atac_peaks/zebra_danRer10_merged_idrpeaks.bed.gz\")                # load the peaks\n",
    "        .sort()                                                              # sort them\n",
    "        .intersect(dan_motif_bed, loj=True, sorted=True, nonamecheck=True)   # left-outer-merge with the PWMs\n",
    "        .to_dataframe())                                                     # make into a dataframe\n",
    "\n",
    "# we then map the SFDu dictionary on the column carrying the PWM names, drop empty rows,\n",
    "# and get a count (with Counter, a handy python extension of dictionaries)\n",
    "# of each unique ID\n",
    "dan_totals = Counter(_temp['thickStart'].map(SFDu).dropna().astype(int))\n",
    "\n",
    "_temp = (BT(\"./data/atac_peaks/amphi_merged_idrpeaks.bed.gz\")\n",
    "        .sort()\n",
    "        .intersect(bla_motif_bed, loj=True, sorted=True, nonamecheck=True)\n",
    "        .to_dataframe())\n",
    "bla_totals = Counter(_temp['thickStart'].map(SFDu).dropna().astype(int))\n",
    "\n",
    "# dan_totals ~= {0: 3653,\n",
    "#  1: 16725,\n",
    "#  2: 1848,\n",
    "#  3: 11946\n",
    "#  ....}\n",
    "\n",
    "# we cast the total counts in a list with a proper orger:\n",
    "dan_normalizer = [dan_totals.get(x,1) for x in TFids]\n",
    "bla_normalizer = [bla_totals.get(x,1) for x in TFids]"
   ]
  },
  {
   "cell_type": "code",
   "execution_count": 11,
   "metadata": {},
   "outputs": [
    {
     "data": {
      "text/html": [
       "<div>\n",
       "<style>\n",
       "    .dataframe thead tr:only-child th {\n",
       "        text-align: right;\n",
       "    }\n",
       "\n",
       "    .dataframe thead th {\n",
       "        text-align: left;\n",
       "    }\n",
       "\n",
       "    .dataframe tbody tr th {\n",
       "        vertical-align: top;\n",
       "    }\n",
       "</style>\n",
       "<table border=\"1\" class=\"dataframe\">\n",
       "  <thead>\n",
       "    <tr style=\"text-align: right;\">\n",
       "      <th></th>\n",
       "      <th>chrom</th>\n",
       "      <th>start</th>\n",
       "      <th>end</th>\n",
       "      <th>name</th>\n",
       "      <th>score</th>\n",
       "      <th>strand</th>\n",
       "      <th>thickStart</th>\n",
       "      <th>thickEnd</th>\n",
       "      <th>itemRgb</th>\n",
       "    </tr>\n",
       "  </thead>\n",
       "  <tbody>\n",
       "    <tr>\n",
       "      <th>0</th>\n",
       "      <td>Sc0000000</td>\n",
       "      <td>5589</td>\n",
       "      <td>5975</td>\n",
       "      <td>Sc0000000</td>\n",
       "      <td>5593</td>\n",
       "      <td>5598</td>\n",
       "      <td>Homeodomain_Average_626</td>\n",
       "      <td>6.607572</td>\n",
       "      <td>+</td>\n",
       "    </tr>\n",
       "    <tr>\n",
       "      <th>1</th>\n",
       "      <td>Sc0000000</td>\n",
       "      <td>5589</td>\n",
       "      <td>5975</td>\n",
       "      <td>Sc0000000</td>\n",
       "      <td>5695</td>\n",
       "      <td>5707</td>\n",
       "      <td>C2H2_ZF_Average_154</td>\n",
       "      <td>10.880415</td>\n",
       "      <td>+</td>\n",
       "    </tr>\n",
       "  </tbody>\n",
       "</table>\n",
       "</div>"
      ],
      "text/plain": [
       "       chrom  start   end       name  score  strand               thickStart  \\\n",
       "0  Sc0000000   5589  5975  Sc0000000   5593    5598  Homeodomain_Average_626   \n",
       "1  Sc0000000   5589  5975  Sc0000000   5695    5707      C2H2_ZF_Average_154   \n",
       "\n",
       "    thickEnd itemRgb  \n",
       "0   6.607572       +  \n",
       "1  10.880415       +  "
      ]
     },
     "execution_count": 11,
     "metadata": {},
     "output_type": "execute_result"
    }
   ],
   "source": [
    "# the resulting DataFrame after the LOJ operation.\n",
    "# for each ATAC peak,we get all its intersections with PWMs\n",
    "_temp.head(2)"
   ]
  },
  {
   "cell_type": "code",
   "execution_count": 14,
   "metadata": {},
   "outputs": [
    {
     "data": {
      "text/plain": [
       "[(0, 3653), (1, 16725), (2, 1848)]"
      ]
     },
     "execution_count": 14,
     "metadata": {},
     "output_type": "execute_result"
    }
   ],
   "source": [
    "#dan_totals is a dictionary mapping the uniqueIds of PWMs to counts\n",
    "list(dan_totals.items())[:3]"
   ]
  },
  {
   "cell_type": "code",
   "execution_count": 15,
   "metadata": {},
   "outputs": [
    {
     "data": {
      "text/plain": [
       "[1188, 3585, 930]"
      ]
     },
     "execution_count": 15,
     "metadata": {},
     "output_type": "execute_result"
    }
   ],
   "source": [
    "# The \"normalizer\" lists are derived from the dictionaries and are in order of \"TFids\"\n",
    "bla_normalizer[:3]"
   ]
  },
  {
   "cell_type": "markdown",
   "metadata": {},
   "source": [
    "###  Mapping the motifs to peaks:    \n",
    "     \n",
    "We did this already to get the normalization counts, now we will do it \n",
    "with the stage dynamic peaks"
   ]
  },
  {
   "cell_type": "code",
   "execution_count": 16,
   "metadata": {},
   "outputs": [],
   "source": [
    "# Here we make a dataframe per stage per organism\n",
    "# Each DataFrame corresponds to one stage and maps motifs to the peaks that were active on\n",
    "# that stage. We use the LEFT OUTER JOIN function of bedtools to join motifs to peaks:\n",
    "bla_lojs = [(stage\n",
    "                .sort()\n",
    "                .intersect(bla_motif_bed, sorted=True, loj=True, nonamecheck=True)\n",
    "                .to_dataframe()) for stage in bla_peaks]\n",
    "dan_lojs = [(stage\n",
    "                .sort()\n",
    "                .intersect(dan_motif_bed, sorted=True, loj=True, nonamecheck=True)\n",
    "                .to_dataframe()) for stage in dan_peaks]"
   ]
  },
  {
   "cell_type": "code",
   "execution_count": 17,
   "metadata": {},
   "outputs": [
    {
     "data": {
      "text/html": [
       "<div>\n",
       "<style>\n",
       "    .dataframe thead tr:only-child th {\n",
       "        text-align: right;\n",
       "    }\n",
       "\n",
       "    .dataframe thead th {\n",
       "        text-align: left;\n",
       "    }\n",
       "\n",
       "    .dataframe tbody tr th {\n",
       "        vertical-align: top;\n",
       "    }\n",
       "</style>\n",
       "<table border=\"1\" class=\"dataframe\">\n",
       "  <thead>\n",
       "    <tr style=\"text-align: right;\">\n",
       "      <th></th>\n",
       "      <th>chrom</th>\n",
       "      <th>start</th>\n",
       "      <th>end</th>\n",
       "      <th>name</th>\n",
       "      <th>score</th>\n",
       "      <th>strand</th>\n",
       "      <th>thickStart</th>\n",
       "      <th>thickEnd</th>\n",
       "      <th>itemRgb</th>\n",
       "    </tr>\n",
       "  </thead>\n",
       "  <tbody>\n",
       "    <tr>\n",
       "      <th>0</th>\n",
       "      <td>Sc0000000</td>\n",
       "      <td>311943</td>\n",
       "      <td>312518</td>\n",
       "      <td>Sc0000000</td>\n",
       "      <td>311942</td>\n",
       "      <td>311946</td>\n",
       "      <td>C2H2_ZF_Average_177</td>\n",
       "      <td>5.460094</td>\n",
       "      <td>+</td>\n",
       "    </tr>\n",
       "    <tr>\n",
       "      <th>1</th>\n",
       "      <td>Sc0000000</td>\n",
       "      <td>311943</td>\n",
       "      <td>312518</td>\n",
       "      <td>Sc0000000</td>\n",
       "      <td>312028</td>\n",
       "      <td>312035</td>\n",
       "      <td>Grainyhead_M6529_1.02</td>\n",
       "      <td>7.510921</td>\n",
       "      <td>+</td>\n",
       "    </tr>\n",
       "  </tbody>\n",
       "</table>\n",
       "</div>"
      ],
      "text/plain": [
       "       chrom   start     end       name   score  strand  \\\n",
       "0  Sc0000000  311943  312518  Sc0000000  311942  311946   \n",
       "1  Sc0000000  311943  312518  Sc0000000  312028  312035   \n",
       "\n",
       "              thickStart  thickEnd itemRgb  \n",
       "0    C2H2_ZF_Average_177  5.460094       +  \n",
       "1  Grainyhead_M6529_1.02  7.510921       +  "
      ]
     },
     "execution_count": 17,
     "metadata": {},
     "output_type": "execute_result"
    }
   ],
   "source": [
    "# For example, the DF for the first stage of amphioxus:\n",
    "bla_lojs[0].head(2)"
   ]
  },
  {
   "cell_type": "code",
   "execution_count": 18,
   "metadata": {},
   "outputs": [
    {
     "data": {
      "text/html": [
       "<div>\n",
       "<style>\n",
       "    .dataframe thead tr:only-child th {\n",
       "        text-align: right;\n",
       "    }\n",
       "\n",
       "    .dataframe thead th {\n",
       "        text-align: left;\n",
       "    }\n",
       "\n",
       "    .dataframe tbody tr th {\n",
       "        vertical-align: top;\n",
       "    }\n",
       "</style>\n",
       "<table border=\"1\" class=\"dataframe\">\n",
       "  <thead>\n",
       "    <tr style=\"text-align: right;\">\n",
       "      <th>fam</th>\n",
       "      <th>0</th>\n",
       "      <th>1</th>\n",
       "      <th>2</th>\n",
       "      <th>3</th>\n",
       "      <th>4</th>\n",
       "      <th>5</th>\n",
       "      <th>6</th>\n",
       "      <th>7</th>\n",
       "      <th>8</th>\n",
       "      <th>9</th>\n",
       "      <th>...</th>\n",
       "      <th>247</th>\n",
       "      <th>248</th>\n",
       "      <th>249</th>\n",
       "      <th>250</th>\n",
       "      <th>251</th>\n",
       "      <th>252</th>\n",
       "      <th>253</th>\n",
       "      <th>254</th>\n",
       "      <th>255</th>\n",
       "      <th>256</th>\n",
       "    </tr>\n",
       "  </thead>\n",
       "  <tbody>\n",
       "    <tr>\n",
       "      <th>dome</th>\n",
       "      <td>161</td>\n",
       "      <td>729</td>\n",
       "      <td>74</td>\n",
       "      <td>389</td>\n",
       "      <td>178</td>\n",
       "      <td>854</td>\n",
       "      <td>1924</td>\n",
       "      <td>701</td>\n",
       "      <td>140</td>\n",
       "      <td>2609</td>\n",
       "      <td>...</td>\n",
       "      <td>38</td>\n",
       "      <td>4441</td>\n",
       "      <td>50</td>\n",
       "      <td>166</td>\n",
       "      <td>452</td>\n",
       "      <td>91</td>\n",
       "      <td>142</td>\n",
       "      <td>0</td>\n",
       "      <td>566</td>\n",
       "      <td>1004</td>\n",
       "    </tr>\n",
       "    <tr>\n",
       "      <th>shield</th>\n",
       "      <td>409</td>\n",
       "      <td>1931</td>\n",
       "      <td>165</td>\n",
       "      <td>1014</td>\n",
       "      <td>419</td>\n",
       "      <td>2058</td>\n",
       "      <td>5522</td>\n",
       "      <td>1855</td>\n",
       "      <td>336</td>\n",
       "      <td>7093</td>\n",
       "      <td>...</td>\n",
       "      <td>136</td>\n",
       "      <td>10826</td>\n",
       "      <td>135</td>\n",
       "      <td>443</td>\n",
       "      <td>1241</td>\n",
       "      <td>176</td>\n",
       "      <td>471</td>\n",
       "      <td>0</td>\n",
       "      <td>1741</td>\n",
       "      <td>2660</td>\n",
       "    </tr>\n",
       "    <tr>\n",
       "      <th>80epi</th>\n",
       "      <td>638</td>\n",
       "      <td>2991</td>\n",
       "      <td>228</td>\n",
       "      <td>1657</td>\n",
       "      <td>708</td>\n",
       "      <td>3119</td>\n",
       "      <td>9240</td>\n",
       "      <td>2965</td>\n",
       "      <td>520</td>\n",
       "      <td>11323</td>\n",
       "      <td>...</td>\n",
       "      <td>282</td>\n",
       "      <td>17599</td>\n",
       "      <td>234</td>\n",
       "      <td>725</td>\n",
       "      <td>2060</td>\n",
       "      <td>260</td>\n",
       "      <td>846</td>\n",
       "      <td>0</td>\n",
       "      <td>3015</td>\n",
       "      <td>4474</td>\n",
       "    </tr>\n",
       "    <tr>\n",
       "      <th>8som</th>\n",
       "      <td>756</td>\n",
       "      <td>3693</td>\n",
       "      <td>298</td>\n",
       "      <td>2357</td>\n",
       "      <td>904</td>\n",
       "      <td>3708</td>\n",
       "      <td>12270</td>\n",
       "      <td>3884</td>\n",
       "      <td>763</td>\n",
       "      <td>13939</td>\n",
       "      <td>...</td>\n",
       "      <td>402</td>\n",
       "      <td>23813</td>\n",
       "      <td>318</td>\n",
       "      <td>964</td>\n",
       "      <td>2790</td>\n",
       "      <td>408</td>\n",
       "      <td>1236</td>\n",
       "      <td>0</td>\n",
       "      <td>4242</td>\n",
       "      <td>5956</td>\n",
       "    </tr>\n",
       "    <tr>\n",
       "      <th>24h</th>\n",
       "      <td>785</td>\n",
       "      <td>3911</td>\n",
       "      <td>333</td>\n",
       "      <td>2504</td>\n",
       "      <td>963</td>\n",
       "      <td>3775</td>\n",
       "      <td>13310</td>\n",
       "      <td>4044</td>\n",
       "      <td>861</td>\n",
       "      <td>14794</td>\n",
       "      <td>...</td>\n",
       "      <td>450</td>\n",
       "      <td>26475</td>\n",
       "      <td>417</td>\n",
       "      <td>1132</td>\n",
       "      <td>3176</td>\n",
       "      <td>487</td>\n",
       "      <td>1452</td>\n",
       "      <td>0</td>\n",
       "      <td>4843</td>\n",
       "      <td>6715</td>\n",
       "    </tr>\n",
       "    <tr>\n",
       "      <th>48h</th>\n",
       "      <td>672</td>\n",
       "      <td>3333</td>\n",
       "      <td>335</td>\n",
       "      <td>2185</td>\n",
       "      <td>775</td>\n",
       "      <td>3078</td>\n",
       "      <td>11303</td>\n",
       "      <td>3355</td>\n",
       "      <td>785</td>\n",
       "      <td>12285</td>\n",
       "      <td>...</td>\n",
       "      <td>420</td>\n",
       "      <td>23411</td>\n",
       "      <td>367</td>\n",
       "      <td>965</td>\n",
       "      <td>2712</td>\n",
       "      <td>433</td>\n",
       "      <td>1294</td>\n",
       "      <td>0</td>\n",
       "      <td>4150</td>\n",
       "      <td>5916</td>\n",
       "    </tr>\n",
       "  </tbody>\n",
       "</table>\n",
       "<p>6 rows × 257 columns</p>\n",
       "</div>"
      ],
      "text/plain": [
       "fam     0     1    2     3    4     5      6     7    8      9    ...   247  \\\n",
       "dome    161   729   74   389  178   854   1924   701  140   2609  ...    38   \n",
       "shield  409  1931  165  1014  419  2058   5522  1855  336   7093  ...   136   \n",
       "80epi   638  2991  228  1657  708  3119   9240  2965  520  11323  ...   282   \n",
       "8som    756  3693  298  2357  904  3708  12270  3884  763  13939  ...   402   \n",
       "24h     785  3911  333  2504  963  3775  13310  4044  861  14794  ...   450   \n",
       "48h     672  3333  335  2185  775  3078  11303  3355  785  12285  ...   420   \n",
       "\n",
       "fam       248  249   250   251  252   253  254   255   256  \n",
       "dome     4441   50   166   452   91   142    0   566  1004  \n",
       "shield  10826  135   443  1241  176   471    0  1741  2660  \n",
       "80epi   17599  234   725  2060  260   846    0  3015  4474  \n",
       "8som    23813  318   964  2790  408  1236    0  4242  5956  \n",
       "24h     26475  417  1132  3176  487  1452    0  4843  6715  \n",
       "48h     23411  367   965  2712  433  1294    0  4150  5916  \n",
       "\n",
       "[6 rows x 257 columns]"
      ]
     },
     "execution_count": 18,
     "metadata": {},
     "output_type": "execute_result"
    }
   ],
   "source": [
    "# Finally, we make a DF with counts for each TF in each stage:\n",
    "# These are the counts in the dynamic peaks\n",
    "ddf = pd.DataFrame(TFids)\n",
    "ddf.columns = ['fam']\n",
    "\n",
    "for en,stage in enumerate(zebra_stages):\n",
    "    ddf[stage] = ddf['fam'].map(Counter(dan_lojs[en]['thickStart'].dropna().map(SFDu).dropna().astype(int)))\n",
    "    \n",
    "ddf.set_index('fam', inplace=True, drop=True)\n",
    "\n",
    "ddf = ddf.T.fillna(1)\n",
    "ddf"
   ]
  },
  {
   "cell_type": "code",
   "execution_count": 19,
   "metadata": {},
   "outputs": [
    {
     "data": {
      "text/html": [
       "<div>\n",
       "<style>\n",
       "    .dataframe thead tr:only-child th {\n",
       "        text-align: right;\n",
       "    }\n",
       "\n",
       "    .dataframe thead th {\n",
       "        text-align: left;\n",
       "    }\n",
       "\n",
       "    .dataframe tbody tr th {\n",
       "        vertical-align: top;\n",
       "    }\n",
       "</style>\n",
       "<table border=\"1\" class=\"dataframe\">\n",
       "  <thead>\n",
       "    <tr style=\"text-align: right;\">\n",
       "      <th>fam</th>\n",
       "      <th>0</th>\n",
       "      <th>1</th>\n",
       "      <th>2</th>\n",
       "      <th>3</th>\n",
       "      <th>4</th>\n",
       "      <th>5</th>\n",
       "      <th>6</th>\n",
       "      <th>7</th>\n",
       "      <th>8</th>\n",
       "      <th>9</th>\n",
       "      <th>...</th>\n",
       "      <th>247</th>\n",
       "      <th>248</th>\n",
       "      <th>249</th>\n",
       "      <th>250</th>\n",
       "      <th>251</th>\n",
       "      <th>252</th>\n",
       "      <th>253</th>\n",
       "      <th>254</th>\n",
       "      <th>255</th>\n",
       "      <th>256</th>\n",
       "    </tr>\n",
       "  </thead>\n",
       "  <tbody>\n",
       "    <tr>\n",
       "      <th>8</th>\n",
       "      <td>73</td>\n",
       "      <td>257</td>\n",
       "      <td>50</td>\n",
       "      <td>251</td>\n",
       "      <td>95</td>\n",
       "      <td>357</td>\n",
       "      <td>1093</td>\n",
       "      <td>438</td>\n",
       "      <td>73</td>\n",
       "      <td>789</td>\n",
       "      <td>...</td>\n",
       "      <td>22</td>\n",
       "      <td>2330</td>\n",
       "      <td>52</td>\n",
       "      <td>76</td>\n",
       "      <td>223</td>\n",
       "      <td>26</td>\n",
       "      <td>94</td>\n",
       "      <td>0</td>\n",
       "      <td>307</td>\n",
       "      <td>593</td>\n",
       "    </tr>\n",
       "    <tr>\n",
       "      <th>15</th>\n",
       "      <td>196</td>\n",
       "      <td>618</td>\n",
       "      <td>172</td>\n",
       "      <td>707</td>\n",
       "      <td>224</td>\n",
       "      <td>885</td>\n",
       "      <td>2838</td>\n",
       "      <td>1115</td>\n",
       "      <td>177</td>\n",
       "      <td>2482</td>\n",
       "      <td>...</td>\n",
       "      <td>72</td>\n",
       "      <td>6641</td>\n",
       "      <td>135</td>\n",
       "      <td>221</td>\n",
       "      <td>504</td>\n",
       "      <td>103</td>\n",
       "      <td>343</td>\n",
       "      <td>0</td>\n",
       "      <td>687</td>\n",
       "      <td>1550</td>\n",
       "    </tr>\n",
       "    <tr>\n",
       "      <th>36</th>\n",
       "      <td>219</td>\n",
       "      <td>652</td>\n",
       "      <td>177</td>\n",
       "      <td>942</td>\n",
       "      <td>266</td>\n",
       "      <td>998</td>\n",
       "      <td>3234</td>\n",
       "      <td>1287</td>\n",
       "      <td>200</td>\n",
       "      <td>2979</td>\n",
       "      <td>...</td>\n",
       "      <td>101</td>\n",
       "      <td>8168</td>\n",
       "      <td>153</td>\n",
       "      <td>275</td>\n",
       "      <td>588</td>\n",
       "      <td>140</td>\n",
       "      <td>500</td>\n",
       "      <td>0</td>\n",
       "      <td>766</td>\n",
       "      <td>2003</td>\n",
       "    </tr>\n",
       "    <tr>\n",
       "      <th>60</th>\n",
       "      <td>236</td>\n",
       "      <td>761</td>\n",
       "      <td>217</td>\n",
       "      <td>1155</td>\n",
       "      <td>297</td>\n",
       "      <td>1082</td>\n",
       "      <td>3316</td>\n",
       "      <td>1337</td>\n",
       "      <td>244</td>\n",
       "      <td>3079</td>\n",
       "      <td>...</td>\n",
       "      <td>123</td>\n",
       "      <td>10328</td>\n",
       "      <td>209</td>\n",
       "      <td>302</td>\n",
       "      <td>669</td>\n",
       "      <td>190</td>\n",
       "      <td>524</td>\n",
       "      <td>0</td>\n",
       "      <td>831</td>\n",
       "      <td>2391</td>\n",
       "    </tr>\n",
       "    <tr>\n",
       "      <th>hep</th>\n",
       "      <td>212</td>\n",
       "      <td>608</td>\n",
       "      <td>144</td>\n",
       "      <td>998</td>\n",
       "      <td>260</td>\n",
       "      <td>897</td>\n",
       "      <td>2761</td>\n",
       "      <td>1241</td>\n",
       "      <td>207</td>\n",
       "      <td>2389</td>\n",
       "      <td>...</td>\n",
       "      <td>77</td>\n",
       "      <td>8786</td>\n",
       "      <td>249</td>\n",
       "      <td>266</td>\n",
       "      <td>555</td>\n",
       "      <td>191</td>\n",
       "      <td>400</td>\n",
       "      <td>0</td>\n",
       "      <td>665</td>\n",
       "      <td>2306</td>\n",
       "    </tr>\n",
       "  </tbody>\n",
       "</table>\n",
       "<p>5 rows × 257 columns</p>\n",
       "</div>"
      ],
      "text/plain": [
       "fam  0    1    2     3    4     5     6     7    8     9    ...   247    248  \\\n",
       "8     73  257   50   251   95   357  1093   438   73   789  ...    22   2330   \n",
       "15   196  618  172   707  224   885  2838  1115  177  2482  ...    72   6641   \n",
       "36   219  652  177   942  266   998  3234  1287  200  2979  ...   101   8168   \n",
       "60   236  761  217  1155  297  1082  3316  1337  244  3079  ...   123  10328   \n",
       "hep  212  608  144   998  260   897  2761  1241  207  2389  ...    77   8786   \n",
       "\n",
       "fam  249  250  251  252  253  254  255   256  \n",
       "8     52   76  223   26   94    0  307   593  \n",
       "15   135  221  504  103  343    0  687  1550  \n",
       "36   153  275  588  140  500    0  766  2003  \n",
       "60   209  302  669  190  524    0  831  2391  \n",
       "hep  249  266  555  191  400    0  665  2306  \n",
       "\n",
       "[5 rows x 257 columns]"
      ]
     },
     "execution_count": 19,
     "metadata": {},
     "output_type": "execute_result"
    }
   ],
   "source": [
    "# And the same for amphioxus\n",
    "bdf = pd.DataFrame(TFids)\n",
    "bdf.columns = ['fam']\n",
    "for en,stage in enumerate(amphi_stages):\n",
    "    bdf[stage] = bdf['fam'].map(Counter(bla_lojs[en]['thickStart'].dropna().map(SFDu).dropna().astype(int)))\n",
    "    \n",
    "bdf.set_index('fam', inplace=True, drop=True)\n",
    "\n",
    "bdf = bdf.T.fillna(1)\n",
    "bdf"
   ]
  },
  {
   "cell_type": "code",
   "execution_count": 20,
   "metadata": {},
   "outputs": [
    {
     "data": {
      "text/html": [
       "<div>\n",
       "<style>\n",
       "    .dataframe thead tr:only-child th {\n",
       "        text-align: right;\n",
       "    }\n",
       "\n",
       "    .dataframe thead th {\n",
       "        text-align: left;\n",
       "    }\n",
       "\n",
       "    .dataframe tbody tr th {\n",
       "        vertical-align: top;\n",
       "    }\n",
       "</style>\n",
       "<table border=\"1\" class=\"dataframe\">\n",
       "  <thead>\n",
       "    <tr style=\"text-align: right;\">\n",
       "      <th>fam</th>\n",
       "      <th>0</th>\n",
       "      <th>1</th>\n",
       "      <th>2</th>\n",
       "      <th>3</th>\n",
       "      <th>4</th>\n",
       "      <th>5</th>\n",
       "      <th>6</th>\n",
       "      <th>7</th>\n",
       "      <th>8</th>\n",
       "      <th>9</th>\n",
       "      <th>...</th>\n",
       "      <th>247</th>\n",
       "      <th>248</th>\n",
       "      <th>249</th>\n",
       "      <th>250</th>\n",
       "      <th>251</th>\n",
       "      <th>252</th>\n",
       "      <th>253</th>\n",
       "      <th>254</th>\n",
       "      <th>255</th>\n",
       "      <th>256</th>\n",
       "    </tr>\n",
       "  </thead>\n",
       "  <tbody>\n",
       "    <tr>\n",
       "      <th>8</th>\n",
       "      <td>0.061448</td>\n",
       "      <td>0.071688</td>\n",
       "      <td>0.053763</td>\n",
       "      <td>0.052129</td>\n",
       "      <td>0.064189</td>\n",
       "      <td>0.075524</td>\n",
       "      <td>0.068462</td>\n",
       "      <td>0.068246</td>\n",
       "      <td>0.068224</td>\n",
       "      <td>0.060133</td>\n",
       "      <td>...</td>\n",
       "      <td>0.042553</td>\n",
       "      <td>0.050174</td>\n",
       "      <td>0.055556</td>\n",
       "      <td>0.059006</td>\n",
       "      <td>0.072473</td>\n",
       "      <td>0.030806</td>\n",
       "      <td>0.051450</td>\n",
       "      <td>0.0</td>\n",
       "      <td>0.079472</td>\n",
       "      <td>0.052725</td>\n",
       "    </tr>\n",
       "    <tr>\n",
       "      <th>15</th>\n",
       "      <td>0.164983</td>\n",
       "      <td>0.172385</td>\n",
       "      <td>0.184946</td>\n",
       "      <td>0.146833</td>\n",
       "      <td>0.151351</td>\n",
       "      <td>0.187222</td>\n",
       "      <td>0.177764</td>\n",
       "      <td>0.173730</td>\n",
       "      <td>0.165421</td>\n",
       "      <td>0.189162</td>\n",
       "      <td>...</td>\n",
       "      <td>0.139265</td>\n",
       "      <td>0.143008</td>\n",
       "      <td>0.144231</td>\n",
       "      <td>0.171584</td>\n",
       "      <td>0.163796</td>\n",
       "      <td>0.122038</td>\n",
       "      <td>0.187739</td>\n",
       "      <td>0.0</td>\n",
       "      <td>0.177841</td>\n",
       "      <td>0.137815</td>\n",
       "    </tr>\n",
       "    <tr>\n",
       "      <th>36</th>\n",
       "      <td>0.184343</td>\n",
       "      <td>0.181869</td>\n",
       "      <td>0.190323</td>\n",
       "      <td>0.195639</td>\n",
       "      <td>0.179730</td>\n",
       "      <td>0.211128</td>\n",
       "      <td>0.202568</td>\n",
       "      <td>0.200530</td>\n",
       "      <td>0.186916</td>\n",
       "      <td>0.227041</td>\n",
       "      <td>...</td>\n",
       "      <td>0.195358</td>\n",
       "      <td>0.175890</td>\n",
       "      <td>0.163462</td>\n",
       "      <td>0.213509</td>\n",
       "      <td>0.191095</td>\n",
       "      <td>0.165877</td>\n",
       "      <td>0.273673</td>\n",
       "      <td>0.0</td>\n",
       "      <td>0.198291</td>\n",
       "      <td>0.178092</td>\n",
       "    </tr>\n",
       "    <tr>\n",
       "      <th>60</th>\n",
       "      <td>0.198653</td>\n",
       "      <td>0.212273</td>\n",
       "      <td>0.233333</td>\n",
       "      <td>0.239875</td>\n",
       "      <td>0.200676</td>\n",
       "      <td>0.228898</td>\n",
       "      <td>0.207704</td>\n",
       "      <td>0.208320</td>\n",
       "      <td>0.228037</td>\n",
       "      <td>0.234662</td>\n",
       "      <td>...</td>\n",
       "      <td>0.237911</td>\n",
       "      <td>0.222404</td>\n",
       "      <td>0.223291</td>\n",
       "      <td>0.234472</td>\n",
       "      <td>0.217420</td>\n",
       "      <td>0.225118</td>\n",
       "      <td>0.286809</td>\n",
       "      <td>0.0</td>\n",
       "      <td>0.215118</td>\n",
       "      <td>0.212590</td>\n",
       "    </tr>\n",
       "    <tr>\n",
       "      <th>hep</th>\n",
       "      <td>0.178451</td>\n",
       "      <td>0.169596</td>\n",
       "      <td>0.154839</td>\n",
       "      <td>0.207269</td>\n",
       "      <td>0.175676</td>\n",
       "      <td>0.189761</td>\n",
       "      <td>0.172941</td>\n",
       "      <td>0.193362</td>\n",
       "      <td>0.193458</td>\n",
       "      <td>0.182075</td>\n",
       "      <td>...</td>\n",
       "      <td>0.148936</td>\n",
       "      <td>0.189199</td>\n",
       "      <td>0.266026</td>\n",
       "      <td>0.206522</td>\n",
       "      <td>0.180370</td>\n",
       "      <td>0.226303</td>\n",
       "      <td>0.218938</td>\n",
       "      <td>0.0</td>\n",
       "      <td>0.172146</td>\n",
       "      <td>0.205032</td>\n",
       "    </tr>\n",
       "  </tbody>\n",
       "</table>\n",
       "<p>5 rows × 257 columns</p>\n",
       "</div>"
      ],
      "text/plain": [
       "fam       0         1         2         3         4         5         6    \\\n",
       "8    0.061448  0.071688  0.053763  0.052129  0.064189  0.075524  0.068462   \n",
       "15   0.164983  0.172385  0.184946  0.146833  0.151351  0.187222  0.177764   \n",
       "36   0.184343  0.181869  0.190323  0.195639  0.179730  0.211128  0.202568   \n",
       "60   0.198653  0.212273  0.233333  0.239875  0.200676  0.228898  0.207704   \n",
       "hep  0.178451  0.169596  0.154839  0.207269  0.175676  0.189761  0.172941   \n",
       "\n",
       "fam       7         8         9      ...          247       248       249  \\\n",
       "8    0.068246  0.068224  0.060133    ...     0.042553  0.050174  0.055556   \n",
       "15   0.173730  0.165421  0.189162    ...     0.139265  0.143008  0.144231   \n",
       "36   0.200530  0.186916  0.227041    ...     0.195358  0.175890  0.163462   \n",
       "60   0.208320  0.228037  0.234662    ...     0.237911  0.222404  0.223291   \n",
       "hep  0.193362  0.193458  0.182075    ...     0.148936  0.189199  0.266026   \n",
       "\n",
       "fam       250       251       252       253  254       255       256  \n",
       "8    0.059006  0.072473  0.030806  0.051450  0.0  0.079472  0.052725  \n",
       "15   0.171584  0.163796  0.122038  0.187739  0.0  0.177841  0.137815  \n",
       "36   0.213509  0.191095  0.165877  0.273673  0.0  0.198291  0.178092  \n",
       "60   0.234472  0.217420  0.225118  0.286809  0.0  0.215118  0.212590  \n",
       "hep  0.206522  0.180370  0.226303  0.218938  0.0  0.172146  0.205032  \n",
       "\n",
       "[5 rows x 257 columns]"
      ]
     },
     "execution_count": 20,
     "metadata": {},
     "output_type": "execute_result"
    }
   ],
   "source": [
    "# we divide the count in each stage by the total count\n",
    "bdf = bdf/bla_normalizer\n",
    "ddf = ddf/dan_normalizer\n",
    "bdf"
   ]
  },
  {
   "cell_type": "code",
   "execution_count": 21,
   "metadata": {},
   "outputs": [],
   "source": [
    "# At this point, some TFs have 0 counts, so lets clean them out:\n",
    "btodrop = set(bdf.T[bdf.sum() ==0].index.values)\n",
    "dtodrop = set(ddf.T[ddf.sum() ==0].index.values)\n",
    "\n",
    "todrop = btodrop.union(dtodrop)\n",
    "\n",
    "bdf = bdf.drop(todrop, axis=1)\n",
    "ddf = ddf.drop(todrop, axis=1)"
   ]
  },
  {
   "cell_type": "code",
   "execution_count": 22,
   "metadata": {},
   "outputs": [
    {
     "data": {
      "image/png": "[encoded data removed]",
      "text/plain": [
       "<matplotlib.figure.Figure at 0x2ea4dd0>"
      ]
     },
     "metadata": {},
     "output_type": "display_data"
    }
   ],
   "source": [
    "# the distributions of the various stages at this point:\n",
    "for irow,row in ddf.iterrows():\n",
    "    sns.kdeplot(row)"
   ]
  },
  {
   "cell_type": "code",
   "execution_count": 23,
   "metadata": {},
   "outputs": [],
   "source": [
    "# let's scale the counts in order to make stages comparable\n",
    "ddf.loc[:,:] = preprocessing.scale(ddf.values, axis=1)\n",
    "bdf.loc[:,:] = preprocessing.scale(bdf.values, axis=1)"
   ]
  },
  {
   "cell_type": "code",
   "execution_count": 24,
   "metadata": {},
   "outputs": [
    {
     "data": {
      "image/png": "[encoded data removed]",
      "text/plain": [
       "<matplotlib.figure.Figure at 0x1ce4e5d0>"
      ]
     },
     "metadata": {},
     "output_type": "display_data"
    }
   ],
   "source": [
    "# the distributions after scaling:\n",
    "for irow,row in ddf.iterrows():\n",
    "    sns.kdeplot(row)"
   ]
  },
  {
   "cell_type": "markdown",
   "metadata": {
    "collapsed": true
   },
   "source": [
    "## The final table:\n",
    "In the end, we have a scaled count per motif for each organism-stage.\n",
    "For example the first 5 TF scaled counts in zebrafish-shield look like this:"
   ]
  },
  {
   "cell_type": "code",
   "execution_count": 26,
   "metadata": {},
   "outputs": [
    {
     "data": {
      "text/plain": [
       "fam\n",
       "0    1.143067\n",
       "1    1.350141\n",
       "2   -0.201232\n",
       "3   -0.462287\n",
       "4   -0.440515\n",
       "Name: shield, dtype: float64"
      ]
     },
     "execution_count": 26,
     "metadata": {},
     "output_type": "execute_result"
    }
   ],
   "source": [
    "ddf.loc['shield',:].head()"
   ]
  },
  {
   "cell_type": "markdown",
   "metadata": {},
   "source": [
    "We can then get a corellation between any two cases"
   ]
  },
  {
   "cell_type": "code",
   "execution_count": 27,
   "metadata": {},
   "outputs": [
    {
     "data": {
      "text/plain": [
       "(-0.18212360335862862, 0.0044786665950091106)"
      ]
     },
     "execution_count": 27,
     "metadata": {},
     "output_type": "execute_result"
    }
   ],
   "source": [
    "scaled_counts_in_zebra_shield = ddf.loc['shield',:]\n",
    "scaled_counts_in_amphi_hep = bdf.loc['hep',:]\n",
    "\n",
    "# The first value is the pearson metric and the second is the metric's pvalue,\n",
    "# how certain we are for the metric.\n",
    "pearsonr(scaled_counts_in_zebra_shield.values, scaled_counts_in_amphi_hep.values)"
   ]
  },
  {
   "cell_type": "code",
   "execution_count": 28,
   "metadata": {},
   "outputs": [
    {
     "data": {
      "text/html": [
       "<div>\n",
       "<style>\n",
       "    .dataframe thead tr:only-child th {\n",
       "        text-align: right;\n",
       "    }\n",
       "\n",
       "    .dataframe thead th {\n",
       "        text-align: left;\n",
       "    }\n",
       "\n",
       "    .dataframe tbody tr th {\n",
       "        vertical-align: top;\n",
       "    }\n",
       "</style>\n",
       "<table border=\"1\" class=\"dataframe\">\n",
       "  <thead>\n",
       "    <tr style=\"text-align: right;\">\n",
       "      <th></th>\n",
       "      <th>8</th>\n",
       "      <th>15</th>\n",
       "      <th>36</th>\n",
       "      <th>60</th>\n",
       "      <th>hep</th>\n",
       "    </tr>\n",
       "  </thead>\n",
       "  <tbody>\n",
       "    <tr>\n",
       "      <th>dome</th>\n",
       "      <td>0.472447</td>\n",
       "      <td>0.413344</td>\n",
       "      <td>-0.020947</td>\n",
       "      <td>-0.233493</td>\n",
       "      <td>-0.217931</td>\n",
       "    </tr>\n",
       "    <tr>\n",
       "      <th>shield</th>\n",
       "      <td>0.427724</td>\n",
       "      <td>0.620226</td>\n",
       "      <td>0.304749</td>\n",
       "      <td>-0.079934</td>\n",
       "      <td>-0.182124</td>\n",
       "    </tr>\n",
       "    <tr>\n",
       "      <th>80epi</th>\n",
       "      <td>0.248738</td>\n",
       "      <td>0.577668</td>\n",
       "      <td>0.509119</td>\n",
       "      <td>0.113895</td>\n",
       "      <td>-0.064038</td>\n",
       "    </tr>\n",
       "    <tr>\n",
       "      <th>8som</th>\n",
       "      <td>-0.016492</td>\n",
       "      <td>0.297138</td>\n",
       "      <td>0.525042</td>\n",
       "      <td>0.289232</td>\n",
       "      <td>0.156917</td>\n",
       "    </tr>\n",
       "    <tr>\n",
       "      <th>24h</th>\n",
       "      <td>-0.091795</td>\n",
       "      <td>0.182115</td>\n",
       "      <td>0.427101</td>\n",
       "      <td>0.263281</td>\n",
       "      <td>0.264657</td>\n",
       "    </tr>\n",
       "    <tr>\n",
       "      <th>48h</th>\n",
       "      <td>-0.225320</td>\n",
       "      <td>0.018198</td>\n",
       "      <td>0.359862</td>\n",
       "      <td>0.292274</td>\n",
       "      <td>0.196003</td>\n",
       "    </tr>\n",
       "  </tbody>\n",
       "</table>\n",
       "</div>"
      ],
      "text/plain": [
       "               8        15        36        60       hep\n",
       "dome    0.472447  0.413344 -0.020947 -0.233493 -0.217931\n",
       "shield  0.427724  0.620226  0.304749 -0.079934 -0.182124\n",
       "80epi   0.248738  0.577668  0.509119  0.113895 -0.064038\n",
       "8som   -0.016492  0.297138  0.525042  0.289232  0.156917\n",
       "24h    -0.091795  0.182115  0.427101  0.263281  0.264657\n",
       "48h    -0.225320  0.018198  0.359862  0.292274  0.196003"
      ]
     },
     "execution_count": 28,
     "metadata": {},
     "output_type": "execute_result"
    }
   ],
   "source": [
    "# We can make a table with pair-wise correlations for all stages\n",
    "TABLE = pd.DataFrame()\n",
    "for dstage in zebra_stages:\n",
    "    for bstage in amphi_stages:\n",
    "        TABLE.loc[dstage, bstage] = pearsonr(ddf.loc[dstage].values,bdf.loc[bstage].values)[0]\n",
    "TABLE"
   ]
  },
  {
   "cell_type": "markdown",
   "metadata": {},
   "source": [
    "We can visualize the table in a heatmap:"
   ]
  },
  {
   "cell_type": "code",
   "execution_count": 29,
   "metadata": {},
   "outputs": [],
   "source": [
    "sns.set_style('white')\n",
    "matplotlib.rcParams['pdf.fonttype'] = 42\n",
    "matplotlib.rcParams['ps.fonttype'] = 42"
   ]
  },
  {
   "cell_type": "code",
   "execution_count": 30,
   "metadata": {},
   "outputs": [
    {
     "data": {
      "text/plain": [
       "Text(0.5,1,u'TF Correlation')"
      ]
     },
     "execution_count": 30,
     "metadata": {},
     "output_type": "execute_result"
    },
    {
     "data": {
      "image/png": "[encoded data removed]",
      "text/plain": [
       "<matplotlib.figure.Figure at 0x6454f90>"
      ]
     },
     "metadata": {},
     "output_type": "display_data"
    }
   ],
   "source": [
    "\n",
    "fig, ax = plt.subplots(figsize=(16,9))\n",
    "sns.heatmap(TABLE,\n",
    "            annot=True,\n",
    "            cmap=\"RdBu_r\",\n",
    "            vmax=0.66, vmin=-0.66,\n",
    "            ax=ax\n",
    "           )\n",
    "\n",
    "ax.set_title(\"TF Correlation\")"
   ]
  },
  {
   "cell_type": "markdown",
   "metadata": {},
   "source": [
    "Or we can plot the minimum distance per amphioxus stage, to show the hourglass behaviour"
   ]
  },
  {
   "cell_type": "code",
   "execution_count": 31,
   "metadata": {},
   "outputs": [],
   "source": [
    "x = [ 0, 1, 2, 3, 4]\n",
    "labels = ['8h','15h','36h','60h','hepatic']"
   ]
  },
  {
   "cell_type": "code",
   "execution_count": 32,
   "metadata": {},
   "outputs": [
    {
     "data": {
      "image/png": "[encoded data removed]",
      "text/plain": [
       "<matplotlib.figure.Figure at 0x16230050>"
      ]
     },
     "metadata": {},
     "output_type": "display_data"
    }
   ],
   "source": [
    "fig, ax = plt.subplots(figsize=(27,9))\n",
    "\n",
    "ax.plot( TABLE.max().values, linewidth=2)\n",
    "\n",
    "ax.set_xticks(x)\n",
    "ax.set_xticklabels(labels)\n",
    "\n",
    "ax.tick_params(direction ='out',\n",
    "               length=10, width=3, colors='black',labelsize='xx-large')\n",
    "ax.invert_yaxis()"
   ]
  }
 ],
 "metadata": {
  "kernelspec": {
   "display_name": "Python2 venv",
   "language": "python",
   "name": "python2"
  },
  "language_info": {
   "codemirror_mode": {
    "name": "ipython",
    "version": 2
   },
   "file_extension": ".py",
   "mimetype": "text/x-python",
   "name": "python",
   "nbconvert_exporter": "python",
   "pygments_lexer": "ipython2",
   "version": "2.7.5"
  }
 },
 "nbformat": 4,
 "nbformat_minor": 1
}
