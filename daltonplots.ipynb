{
 "cells": [
  {
   "cell_type": "markdown",
   "metadata": {},
   "source": [
    "# Peak Counts Comparisons\n"
   ]
  },
  {
   "cell_type": "code",
   "execution_count": 32,
   "metadata": {
    "collapsed": true
   },
   "outputs": [],
   "source": [
    "import pandas as pd\n",
    "from pybedtools import BedTool as BT\n",
    "\n",
    "%matplotlib inline\n",
    "import seaborn as sns\n",
    "from matplotlib import pyplot as plt\n",
    "\n",
    "import numpy as np\n",
    "from scipy.stats import mannwhitneyu as MWU\n"
   ]
  },
  {
   "cell_type": "code",
   "execution_count": 1,
   "metadata": {
    "collapsed": true
   },
   "outputs": [],
   "source": [
    "def ann(x1,x2,y,text):\n",
    "    '''helper function to annotate figures with text'''\n",
    "    h, col = 1, 'k'\n",
    "    plt.plot([x1, x1, x2, x2], [y, y+h, y+h, y], lw=1, c=col)\n",
    "    plt.text((x1+x2)*.5, y+h, text, ha='center', va='bottom', color=col)"
   ]
  },
  {
   "cell_type": "markdown",
   "metadata": {},
   "source": [
    "## Needed data:\n",
    "\n",
    "### 1.    Assignment of genome regions to genes \n",
    "     \n",
    "We assign a BASAL region to each gene, it starts from its TSS and extends 5kb upstream and 1kb downstream,\n",
    "or untill it encounters another TSS. \n",
    "\n",
    "For the GREAT region, we extend the BASAL region UP TO 1Mb in each way, or until a BASAL\n",
    "region of another gene is encountered\n",
    " "
   ]
  },
  {
   "cell_type": "code",
   "execution_count": 4,
   "metadata": {},
   "outputs": [
    {
     "name": "stdout",
     "output_type": "stream",
     "text": [
      "[('Mmu', 18842), ('Bla', 20569), ('Dre', 20053), ('Ola', 15978)]\n"
     ]
    }
   ],
   "source": [
    "greg = {}\n",
    "\n",
    "greg['Dre'] = pd.read_csv(\"/home/ska/panos/d_great/zebra_GRCz10.80_GREAT_Aug.bed\", sep='\\t', header=None)\n",
    "greg['Dre'].columns = ['chrom','start','end','geneID','score','strand']\n",
    "greg['Dre']['score'] = greg['Dre']['end'] - greg['Dre']['start']\n",
    "\n",
    "greg['Bla'] = pd.read_csv(\"/home/ska/panos/d_great/amphi_GREAT_Aug.bed\", sep='\\t', header=None)\n",
    "greg['Bla'].columns = ['chrom','start','end','geneID','score','strand']\n",
    "greg['Bla']['score'] = greg['Bla']['end'] - greg['Bla']['start']\n",
    "\n",
    "greg['Ola'] = pd.read_csv(\"/home/ska/panos/d_great/medaka_orylat2.85_GREAT_Aug.bed\", sep='\\t', header=None)\n",
    "greg['Ola'].columns = ['chrom','start','end','geneID','score','strand']\n",
    "greg['Ola']['score'] = greg['Ola']['end'] - greg['Ola']['start']\n",
    "\n",
    "greg['Mmu'] = pd.read_csv(\"/home/ska/panos/d_great/mm10_GREAT_Aug.bed\", sep='\\t', header=None)\n",
    "greg['Mmu'].columns = ['chrom','start','end','geneID','score','strand']\n",
    "greg['Mmu']['score'] = greg['Mmu']['end'] - greg['Mmu']['start']\n",
    "\n",
    "print( [(k,len(v)) for k,v in greg.items()])"
   ]
  },
  {
   "cell_type": "code",
   "execution_count": 217,
   "metadata": {},
   "outputs": [
    {
     "data": {
      "text/html": [
       "<div>\n",
       "<style>\n",
       "    .dataframe thead tr:only-child th {\n",
       "        text-align: right;\n",
       "    }\n",
       "\n",
       "    .dataframe thead th {\n",
       "        text-align: left;\n",
       "    }\n",
       "\n",
       "    .dataframe tbody tr th {\n",
       "        vertical-align: top;\n",
       "    }\n",
       "</style>\n",
       "<table border=\"1\" class=\"dataframe\">\n",
       "  <thead>\n",
       "    <tr style=\"text-align: right;\">\n",
       "      <th></th>\n",
       "      <th>chrom</th>\n",
       "      <th>start</th>\n",
       "      <th>end</th>\n",
       "      <th>geneID</th>\n",
       "      <th>score</th>\n",
       "      <th>strand</th>\n",
       "    </tr>\n",
       "  </thead>\n",
       "  <tbody>\n",
       "    <tr>\n",
       "      <th>0</th>\n",
       "      <td>chr1</td>\n",
       "      <td>2670503</td>\n",
       "      <td>4359310</td>\n",
       "      <td>ENSMUSG00000051951</td>\n",
       "      <td>1688807</td>\n",
       "      <td>-</td>\n",
       "    </tr>\n",
       "    <tr>\n",
       "      <th>1</th>\n",
       "      <td>chr1</td>\n",
       "      <td>3676503</td>\n",
       "      <td>4495409</td>\n",
       "      <td>ENSMUSG00000025900</td>\n",
       "      <td>818906</td>\n",
       "      <td>-</td>\n",
       "    </tr>\n",
       "    <tr>\n",
       "      <th>2</th>\n",
       "      <td>chr1</td>\n",
       "      <td>4365319</td>\n",
       "      <td>4784706</td>\n",
       "      <td>ENSMUSG00000025902</td>\n",
       "      <td>419387</td>\n",
       "      <td>-</td>\n",
       "    </tr>\n",
       "    <tr>\n",
       "      <th>3</th>\n",
       "      <td>chr1</td>\n",
       "      <td>4501418</td>\n",
       "      <td>4802819</td>\n",
       "      <td>ENSMUSG00000033845</td>\n",
       "      <td>301401</td>\n",
       "      <td>-</td>\n",
       "    </tr>\n",
       "    <tr>\n",
       "      <th>4</th>\n",
       "      <td>chr1</td>\n",
       "      <td>4790715</td>\n",
       "      <td>4852810</td>\n",
       "      <td>ENSMUSG00000025903</td>\n",
       "      <td>62095</td>\n",
       "      <td>+</td>\n",
       "    </tr>\n",
       "  </tbody>\n",
       "</table>\n",
       "</div>"
      ],
      "text/plain": [
       "  chrom    start      end              geneID    score strand\n",
       "0  chr1  2670503  4359310  ENSMUSG00000051951  1688807      -\n",
       "1  chr1  3676503  4495409  ENSMUSG00000025900   818906      -\n",
       "2  chr1  4365319  4784706  ENSMUSG00000025902   419387      -\n",
       "3  chr1  4501418  4802819  ENSMUSG00000033845   301401      -\n",
       "4  chr1  4790715  4852810  ENSMUSG00000025903    62095      +"
      ]
     },
     "execution_count": 217,
     "metadata": {},
     "output_type": "execute_result"
    }
   ],
   "source": [
    "greg['Mmu'].head()"
   ]
  },
  {
   "cell_type": "markdown",
   "metadata": {},
   "source": [
    "### 2. ATACseq peaks"
   ]
  },
  {
   "cell_type": "code",
   "execution_count": 18,
   "metadata": {
    "collapsed": true
   },
   "outputs": [],
   "source": [
    "stages = {}\n",
    "stages['Bla'] = ['8','15','36','60']\n",
    "stages['Dre'] = [\"dome\",\"shield\",\"80epi\",\"8som\",\"24h\",\"48h\"]\n",
    "stages['Ola'] = [\"dome\",\"shield\",\"8som\",\"24h\",\"48h\"]\n",
    "stages['Mmu'] = ['DE','ED']"
   ]
  },
  {
   "cell_type": "code",
   "execution_count": 9,
   "metadata": {},
   "outputs": [],
   "source": [
    "pre_ = '/home/ska/panos/boxes/a_peaks/pools/'\n",
    "\n",
    "peak_beds = {}\n",
    "\n",
    "peak_beds['Dre'] = [ (BT(\"{}zebra_danRer10_{}_propidr.narrowPeak\".format(pre_,x))\n",
    "                    .sort()\n",
    "                    )for x in stages['Dre']]\n",
    "peak_beds['Bla'] = [(BT(\"{}amphi_{}_propidr.narrowPeak\".format(pre_,x))\n",
    "                     .sort()\n",
    "                     ) for x in stages['Bla']]\n",
    "peak_beds['Ola'] = [ (BT(\"{}medaka_{}_propidr.narrowPeak\".format(pre_,x))\n",
    "                    .sort()\n",
    "                    )for x in stages['Ola']]\n",
    "peak_beds['Mmu'] = [\n",
    "    (BT(\"/home/ska/panos/boxes/o_mouse_early/downloads/DE_optimal_idr.narrowPeak\").sort()),\n",
    "    (BT(\"/home/ska/panos/boxes/o_mouse_early/downloads/ED_optimal_idr.narrowPeak\").sort()),\n",
    "]"
   ]
  },
  {
   "cell_type": "markdown",
   "metadata": {},
   "source": [
    "### 3. Grouping of genes into homologous-families       \n",
    "\n",
    "We have in our disposal a precomputed table where genes of various species\n",
    "are separated into homologous families.\n",
    "\n",
    "Each row is a family, each column a species. \n",
    "The paralogues of each species are separated with \":\" so when we load this dataset\n",
    "we split the strings into lists.\n",
    "\n",
    "We also create a second dataframe \"genefamsC\" which has the same index and shape as the first one,\n",
    "but contains the count of genes in each cell."
   ]
  },
  {
   "cell_type": "code",
   "execution_count": 10,
   "metadata": {
    "collapsed": true
   },
   "outputs": [],
   "source": [
    "genefams = pd.read_csv(\"/home/ska/panos/d_gene_fams/MANU_FINAL_GENE_FAMS_WITH_DME_AND_REASONABLE_FORMAT_again.txt\",\n",
    "                      sep='\\t')\n",
    "genefams = genefams.applymap(lambda x: x.split(\":\") if x==x else x)\n",
    "\n",
    "genefamsC = genefams.applymap(lambda x: len(x) if x==x else 0)"
   ]
  },
  {
   "cell_type": "code",
   "execution_count": 177,
   "metadata": {
    "collapsed": true
   },
   "outputs": [],
   "source": [
    "# Make some masks for the dataframe\n",
    "mask_oto = (genefamsC['Bla']==1) & (genefamsC['Mmu']==1)  # 1-1\n",
    "mask_ottw = (genefamsC['Bla']==1) & (genefamsC['Mmu']==2) # 1-2\n",
    "mask_otth = (genefamsC['Bla']==1) & (genefamsC['Mmu']==3) # 1-3\n",
    "mask_otfo = (genefamsC['Bla']==1) & (genefamsC['Mmu']==4) # 1-4\n",
    "\n",
    "masks = [mask_oto, mask_ottw,mask_otth,mask_otfo]\n",
    "titles = ['1-1','1-2','1-3','1-4']\n",
    "\n",
    "# then some sets\n",
    "oto_genes = genefams.loc[mask_oto,['Bla','Dre','Mmu','Ola']]\n",
    "oto_genes = set([x for y in oto_genes.values.flatten() if y==y for x in y])\n",
    "ottw_genes = genefams.loc[mask_ottw,['Bla','Dre','Mmu','Ola']]\n",
    "ottw_genes = set([x for y in ottw_genes.values.flatten() if y==y for x in y])\n",
    "otth_genes = genefams.loc[mask_otth,['Bla','Dre','Mmu','Ola']]\n",
    "otth_genes = set([x for y in otth_genes.values.flatten() if y==y for x in y])\n",
    "otfo_genes = genefams.loc[mask_otfo,['Bla','Dre','Mmu','Ola']]\n",
    "otfo_genes = set([x for y in otfo_genes.values.flatten() if y==y for x in y])\n",
    "\n",
    "# and use the sets to categorize the genes\n",
    "def categorize(x):\n",
    "    if x in oto_genes:\n",
    "        return '1-1'\n",
    "    elif x in ottw_genes:\n",
    "        return '1-2'\n",
    "    elif x in otth_genes:\n",
    "        return '1-3'\n",
    "    elif x in otfo_genes:\n",
    "        return '1-4'\n",
    "    else:\n",
    "        return 'nop'"
   ]
  },
  {
   "cell_type": "markdown",
   "metadata": {},
   "source": [
    "### 4.  Grouping of genes \n",
    "#### > Depending on their 'fate'    \n",
    "    \n",
    "This is based on the transcriptomic activity of the ohnologues in each vertebrate and is created in another analysis."
   ]
  },
  {
   "cell_type": "code",
   "execution_count": 36,
   "metadata": {
    "collapsed": true
   },
   "outputs": [],
   "source": [
    "# this groups genes into 5 categories:\n",
    "# Subfunctionalized, REdundant, SpecializedStrong,SpecializedMild, SpecializedEqual\n",
    "fate_dict_zebra = dict(pd.read_csv(\"/home/ska/panos/d_postWGD_fates/Gene_types-Dre-v3.txt\", sep='\\t',header=None).set_index(0)[1])\n",
    "fate_dict_mouse = dict(pd.read_csv(\"/home/ska/panos/d_postWGD_fates/Gene_types-Mmu-v3.txt\", sep='\\t',header=None).set_index(0)[1])\n",
    "\n",
    "FATE_ORDER = ['REDUNDANT','SUBFUNCT','SPEC_EQUAL', 'SPEC_MILD','SPEC_STRONG']"
   ]
  },
  {
   "cell_type": "markdown",
   "metadata": {},
   "source": [
    "#### > Depending on how many domains they lost\n",
    "    \n",
    "We used 9 homologous tissues for which we had RNAseq data in both species.    \n",
    "We then kept genes that were active in all amphioxus experiments and their homologues in the vertebrate species. \n",
    "We finally split the vertebrate genes in categories, according to how many tissues they\n",
    "had lost expression in."
   ]
  },
  {
   "cell_type": "code",
   "execution_count": 50,
   "metadata": {
    "collapsed": true
   },
   "outputs": [],
   "source": [
    "domLost_dict_zebra = dict(pd.read_csv(\"/home/ska/panos/d_postWGD_fates/Spec_genes_byLost-Dre-v3.txt\", sep='\\t',header=None).set_index(0)[1])\n",
    "domLost_dict_mouse = dict(pd.read_csv(\"/home/ska/panos/d_postWGD_fates/Spec_genes_byLost-Mmu-v3.txt\", sep='\\t',header=None).set_index(0)[1])\n",
    "grouperino = {0:'0',1:'1-2',2:'1-2',3:'3-4',4:'3-4',5:'5-6',6:'5-6',7:'7-9',8:'7-9',9:'7-9'}\n",
    "\n",
    "domLost_ORDER = ['0','1-2','3-4','5-6','7-9']"
   ]
  },
  {
   "cell_type": "markdown",
   "metadata": {},
   "source": [
    "#### > House keeping vs Trans-Dev\n",
    "    \n",
    "Here we split genes in House-keeping, Trans-Dev and \"others\""
   ]
  },
  {
   "cell_type": "code",
   "execution_count": 73,
   "metadata": {
    "collapsed": true
   },
   "outputs": [],
   "source": [
    "hkgenes = pd.read_csv(\"/home/ska/panos/d_gene_fams/List_of_House_keeping-Sce_1to1-noDev-clusters-v3.tab\",sep='\\t', header=None)\n",
    "hkgenes = set(hkgenes.loc[hkgenes[1].isin(['Dre','Mmu','Bla']),2].values)\n",
    "tdgenes = pd.read_csv(\"/home/ska/panos/d_gene_fams/List_of_transdev_TF-SF-SIGN_DEV-DIFF-clusters-v3.tab\",sep='\\t', header=None)\n",
    "tdgenes = set(tdgenes.loc[tdgenes[1].isin(['Dre','Mmu','Bla']),2].values)\n",
    "\n",
    "tdhk_ORDER = ['houseK','others','transD']"
   ]
  },
  {
   "cell_type": "markdown",
   "metadata": {
    "collapsed": true
   },
   "source": [
    "## Count peaks in the genomic regions of genes\n",
    "\n",
    "Here we put our data together to end up with a count , per gene, of how many peaks\n",
    "were active in its GREAT region, per stage"
   ]
  },
  {
   "cell_type": "code",
   "execution_count": 19,
   "metadata": {},
   "outputs": [],
   "source": [
    "bedfields = ['chrom','start','end','name','score','strand']\n",
    "big = {}\n",
    "\n",
    "big['Dre'] = BT().from_dataframe(greg['Dre']).sort()\n",
    "for bee in peak_beds['Dre']:\n",
    "    big['Dre'] = big['Dre'].intersect(b = bee, c=True, sorted=True, nonamecheck=True)\n",
    "# we add an extra stage of merged peaks, the peaks of all other stages merged with bedtools\n",
    "mergedpeaks = BT(\"/home/ska/panos/boxes/a_peaks/final_peaks/zebra_danRer10_merged.bed\").sort()\n",
    "big['Dre'] = (big['Dre']\n",
    "              .intersect(b = mergedpeaks, c=True, sorted=True, nonamecheck=True) \n",
    "              .to_dataframe(names=range(13)))\n",
    "big['Dre'].columns = bedfields + stages['Dre'] + ['merged']\n",
    "\n",
    "# the other species:\n",
    "big['Bla'] = BT().from_dataframe(greg['Bla']).sort()\n",
    "for bee in peak_beds['Bla']:\n",
    "    big['Bla'] = big['Bla'].intersect(b = bee, c=True, sorted=True, nonamecheck=True)\n",
    "big['Bla'] = big['Bla'].to_dataframe()\n",
    "big['Bla'].columns = bedfields + stages['Bla']\n",
    "\n",
    "big['Ola'] = BT().from_dataframe(greg['Ola']).sort()\n",
    "for bee in peak_beds['Ola']:\n",
    "    big['Ola'] = big['Ola'].intersect(b = bee, c=True, sorted=True, nonamecheck=True)\n",
    "big['Ola'] = big['Ola'].to_dataframe()\n",
    "big['Ola'].columns = bedfields + stages['Ola']\n",
    "\n",
    "big['Mmu'] = BT().from_dataframe(greg['Mmu']).sort()\n",
    "for bee in peak_beds['Mmu']:\n",
    "    big['Mmu'] = big['Mmu'].intersect(b = bee, c=True, sorted=True, nonamecheck=True)\n",
    "big['Mmu'] = big['Mmu'].to_dataframe()\n",
    "big['Mmu'].columns = bedfields + stages['Mmu']"
   ]
  },
  {
   "cell_type": "code",
   "execution_count": 21,
   "metadata": {},
   "outputs": [
    {
     "data": {
      "text/html": [
       "<div>\n",
       "<style>\n",
       "    .dataframe thead tr:only-child th {\n",
       "        text-align: right;\n",
       "    }\n",
       "\n",
       "    .dataframe thead th {\n",
       "        text-align: left;\n",
       "    }\n",
       "\n",
       "    .dataframe tbody tr th {\n",
       "        vertical-align: top;\n",
       "    }\n",
       "</style>\n",
       "<table border=\"1\" class=\"dataframe\">\n",
       "  <thead>\n",
       "    <tr style=\"text-align: right;\">\n",
       "      <th></th>\n",
       "      <th>chrom</th>\n",
       "      <th>start</th>\n",
       "      <th>end</th>\n",
       "      <th>name</th>\n",
       "      <th>score</th>\n",
       "      <th>strand</th>\n",
       "      <th>dome</th>\n",
       "      <th>shield</th>\n",
       "      <th>80epi</th>\n",
       "      <th>8som</th>\n",
       "      <th>24h</th>\n",
       "      <th>48h</th>\n",
       "      <th>merged</th>\n",
       "    </tr>\n",
       "  </thead>\n",
       "  <tbody>\n",
       "    <tr>\n",
       "      <th>0</th>\n",
       "      <td>MT</td>\n",
       "      <td>0</td>\n",
       "      <td>4804</td>\n",
       "      <td>ENSDARG00000063895</td>\n",
       "      <td>4804</td>\n",
       "      <td>+</td>\n",
       "      <td>0</td>\n",
       "      <td>0</td>\n",
       "      <td>0</td>\n",
       "      <td>0</td>\n",
       "      <td>0</td>\n",
       "      <td>0</td>\n",
       "      <td>0</td>\n",
       "    </tr>\n",
       "    <tr>\n",
       "      <th>1</th>\n",
       "      <td>MT</td>\n",
       "      <td>3805</td>\n",
       "      <td>5994</td>\n",
       "      <td>ENSDARG00000063899</td>\n",
       "      <td>2189</td>\n",
       "      <td>+</td>\n",
       "      <td>0</td>\n",
       "      <td>0</td>\n",
       "      <td>0</td>\n",
       "      <td>0</td>\n",
       "      <td>0</td>\n",
       "      <td>0</td>\n",
       "      <td>0</td>\n",
       "    </tr>\n",
       "    <tr>\n",
       "      <th>2</th>\n",
       "      <td>MT</td>\n",
       "      <td>4995</td>\n",
       "      <td>7426</td>\n",
       "      <td>ENSDARG00000063905</td>\n",
       "      <td>2431</td>\n",
       "      <td>+</td>\n",
       "      <td>0</td>\n",
       "      <td>0</td>\n",
       "      <td>0</td>\n",
       "      <td>0</td>\n",
       "      <td>0</td>\n",
       "      <td>0</td>\n",
       "      <td>0</td>\n",
       "    </tr>\n",
       "    <tr>\n",
       "      <th>3</th>\n",
       "      <td>MT</td>\n",
       "      <td>6427</td>\n",
       "      <td>8893</td>\n",
       "      <td>ENSDARG00000063908</td>\n",
       "      <td>2466</td>\n",
       "      <td>+</td>\n",
       "      <td>0</td>\n",
       "      <td>0</td>\n",
       "      <td>0</td>\n",
       "      <td>0</td>\n",
       "      <td>0</td>\n",
       "      <td>0</td>\n",
       "      <td>0</td>\n",
       "    </tr>\n",
       "    <tr>\n",
       "      <th>4</th>\n",
       "      <td>MT</td>\n",
       "      <td>8132</td>\n",
       "      <td>9051</td>\n",
       "      <td>ENSDARG00000063910</td>\n",
       "      <td>919</td>\n",
       "      <td>+</td>\n",
       "      <td>0</td>\n",
       "      <td>0</td>\n",
       "      <td>0</td>\n",
       "      <td>0</td>\n",
       "      <td>0</td>\n",
       "      <td>0</td>\n",
       "      <td>0</td>\n",
       "    </tr>\n",
       "  </tbody>\n",
       "</table>\n",
       "</div>"
      ],
      "text/plain": [
       "  chrom  start   end                name  score strand  dome  shield  80epi  \\\n",
       "0    MT      0  4804  ENSDARG00000063895   4804      +     0       0      0   \n",
       "1    MT   3805  5994  ENSDARG00000063899   2189      +     0       0      0   \n",
       "2    MT   4995  7426  ENSDARG00000063905   2431      +     0       0      0   \n",
       "3    MT   6427  8893  ENSDARG00000063908   2466      +     0       0      0   \n",
       "4    MT   8132  9051  ENSDARG00000063910    919      +     0       0      0   \n",
       "\n",
       "   8som  24h  48h  merged  \n",
       "0     0    0    0       0  \n",
       "1     0    0    0       0  \n",
       "2     0    0    0       0  \n",
       "3     0    0    0       0  \n",
       "4     0    0    0       0  "
      ]
     },
     "execution_count": 21,
     "metadata": {},
     "output_type": "execute_result"
    }
   ],
   "source": [
    "big['Dre'].head()"
   ]
  },
  {
   "cell_type": "code",
   "execution_count": 218,
   "metadata": {
    "collapsed": true
   },
   "outputs": [],
   "source": [
    "# set the gene ID as index in all dataframes of 'big'\n",
    "big_ind = {}\n",
    "for k,v in big.items():\n",
    "    big_ind[k] = v.set_index('name')\n",
    "    big_ind[k].columns = [str(x) for x in big_ind[k].columns]"
   ]
  },
  {
   "cell_type": "code",
   "execution_count": null,
   "metadata": {
    "collapsed": true
   },
   "outputs": [],
   "source": []
  },
  {
   "cell_type": "markdown",
   "metadata": {},
   "source": [
    "## Final manipulations and plots\n",
    "\n",
    "### By fate\n",
    "\n",
    "#### Zebrafish"
   ]
  },
  {
   "cell_type": "code",
   "execution_count": 26,
   "metadata": {},
   "outputs": [
    {
     "data": {
      "text/html": [
       "<div>\n",
       "<style>\n",
       "    .dataframe thead tr:only-child th {\n",
       "        text-align: right;\n",
       "    }\n",
       "\n",
       "    .dataframe thead th {\n",
       "        text-align: left;\n",
       "    }\n",
       "\n",
       "    .dataframe tbody tr th {\n",
       "        vertical-align: top;\n",
       "    }\n",
       "</style>\n",
       "<table border=\"1\" class=\"dataframe\">\n",
       "  <thead>\n",
       "    <tr style=\"text-align: right;\">\n",
       "      <th></th>\n",
       "      <th>chrom</th>\n",
       "      <th>start</th>\n",
       "      <th>end</th>\n",
       "      <th>score</th>\n",
       "      <th>strand</th>\n",
       "      <th>dome</th>\n",
       "      <th>shield</th>\n",
       "      <th>80epi</th>\n",
       "      <th>8som</th>\n",
       "      <th>24h</th>\n",
       "      <th>48h</th>\n",
       "      <th>merged</th>\n",
       "      <th>genecat</th>\n",
       "    </tr>\n",
       "    <tr>\n",
       "      <th>name</th>\n",
       "      <th></th>\n",
       "      <th></th>\n",
       "      <th></th>\n",
       "      <th></th>\n",
       "      <th></th>\n",
       "      <th></th>\n",
       "      <th></th>\n",
       "      <th></th>\n",
       "      <th></th>\n",
       "      <th></th>\n",
       "      <th></th>\n",
       "      <th></th>\n",
       "      <th></th>\n",
       "    </tr>\n",
       "  </thead>\n",
       "  <tbody>\n",
       "    <tr>\n",
       "      <th>ENSDARG00000096578</th>\n",
       "      <td>chr1</td>\n",
       "      <td>157565</td>\n",
       "      <td>166311</td>\n",
       "      <td>8746</td>\n",
       "      <td>+</td>\n",
       "      <td>2</td>\n",
       "      <td>4</td>\n",
       "      <td>2</td>\n",
       "      <td>2</td>\n",
       "      <td>2</td>\n",
       "      <td>2</td>\n",
       "      <td>2</td>\n",
       "      <td>REDUNDANT</td>\n",
       "    </tr>\n",
       "    <tr>\n",
       "      <th>ENSDARG00000100181</th>\n",
       "      <td>chr1</td>\n",
       "      <td>158798</td>\n",
       "      <td>195876</td>\n",
       "      <td>37078</td>\n",
       "      <td>+</td>\n",
       "      <td>6</td>\n",
       "      <td>5</td>\n",
       "      <td>8</td>\n",
       "      <td>3</td>\n",
       "      <td>4</td>\n",
       "      <td>7</td>\n",
       "      <td>9</td>\n",
       "      <td>SPEC_MILD</td>\n",
       "    </tr>\n",
       "    <tr>\n",
       "      <th>ENSDARG00000041592</th>\n",
       "      <td>chr1</td>\n",
       "      <td>219453</td>\n",
       "      <td>244893</td>\n",
       "      <td>25440</td>\n",
       "      <td>-</td>\n",
       "      <td>4</td>\n",
       "      <td>5</td>\n",
       "      <td>8</td>\n",
       "      <td>6</td>\n",
       "      <td>9</td>\n",
       "      <td>8</td>\n",
       "      <td>9</td>\n",
       "      <td>SPEC_MILD</td>\n",
       "    </tr>\n",
       "    <tr>\n",
       "      <th>ENSDARG00000104279</th>\n",
       "      <td>chr1</td>\n",
       "      <td>624409</td>\n",
       "      <td>673560</td>\n",
       "      <td>49151</td>\n",
       "      <td>-</td>\n",
       "      <td>10</td>\n",
       "      <td>13</td>\n",
       "      <td>13</td>\n",
       "      <td>18</td>\n",
       "      <td>15</td>\n",
       "      <td>19</td>\n",
       "      <td>20</td>\n",
       "      <td>SPEC_EQUAL</td>\n",
       "    </tr>\n",
       "    <tr>\n",
       "      <th>ENSDARG00000001870</th>\n",
       "      <td>chr1</td>\n",
       "      <td>1484800</td>\n",
       "      <td>1559342</td>\n",
       "      <td>74542</td>\n",
       "      <td>+</td>\n",
       "      <td>7</td>\n",
       "      <td>6</td>\n",
       "      <td>7</td>\n",
       "      <td>13</td>\n",
       "      <td>11</td>\n",
       "      <td>15</td>\n",
       "      <td>17</td>\n",
       "      <td>SPEC_MILD</td>\n",
       "    </tr>\n",
       "  </tbody>\n",
       "</table>\n",
       "</div>"
      ],
      "text/plain": [
       "                   chrom    start      end  score strand  dome  shield  80epi  \\\n",
       "name                                                                            \n",
       "ENSDARG00000096578  chr1   157565   166311   8746      +     2       4      2   \n",
       "ENSDARG00000100181  chr1   158798   195876  37078      +     6       5      8   \n",
       "ENSDARG00000041592  chr1   219453   244893  25440      -     4       5      8   \n",
       "ENSDARG00000104279  chr1   624409   673560  49151      -    10      13     13   \n",
       "ENSDARG00000001870  chr1  1484800  1559342  74542      +     7       6      7   \n",
       "\n",
       "                    8som  24h  48h  merged     genecat  \n",
       "name                                                    \n",
       "ENSDARG00000096578     2    2    2       2   REDUNDANT  \n",
       "ENSDARG00000100181     3    4    7       9   SPEC_MILD  \n",
       "ENSDARG00000041592     6    9    8       9   SPEC_MILD  \n",
       "ENSDARG00000104279    18   15   19      20  SPEC_EQUAL  \n",
       "ENSDARG00000001870    13   11   15      17   SPEC_MILD  "
      ]
     },
     "execution_count": 26,
     "metadata": {},
     "output_type": "execute_result"
    }
   ],
   "source": [
    "# GEt a working copy of the peak count dataframe:\n",
    "dd = big_ind['Dre'].copy()\n",
    "# map the fate category\n",
    "dd['genecat'] = dd.index.to_series().map(fate_dict_zebra)\n",
    "dd = dd[~dd.genecat.isnull()]\n",
    "dd.head()"
   ]
  },
  {
   "cell_type": "code",
   "execution_count": 38,
   "metadata": {},
   "outputs": [
    {
     "data": {
      "text/html": [
       "<div>\n",
       "<style>\n",
       "    .dataframe thead tr:only-child th {\n",
       "        text-align: right;\n",
       "    }\n",
       "\n",
       "    .dataframe thead th {\n",
       "        text-align: left;\n",
       "    }\n",
       "\n",
       "    .dataframe tbody tr th {\n",
       "        vertical-align: top;\n",
       "    }\n",
       "</style>\n",
       "<table border=\"1\" class=\"dataframe\">\n",
       "  <thead>\n",
       "    <tr style=\"text-align: right;\">\n",
       "      <th></th>\n",
       "      <th>genecat</th>\n",
       "      <th>variable</th>\n",
       "      <th>value</th>\n",
       "    </tr>\n",
       "  </thead>\n",
       "  <tbody>\n",
       "    <tr>\n",
       "      <th>0</th>\n",
       "      <td>REDUNDANT</td>\n",
       "      <td>merged</td>\n",
       "      <td>2</td>\n",
       "    </tr>\n",
       "    <tr>\n",
       "      <th>1</th>\n",
       "      <td>SPEC_MILD</td>\n",
       "      <td>merged</td>\n",
       "      <td>9</td>\n",
       "    </tr>\n",
       "    <tr>\n",
       "      <th>2</th>\n",
       "      <td>SPEC_MILD</td>\n",
       "      <td>merged</td>\n",
       "      <td>9</td>\n",
       "    </tr>\n",
       "    <tr>\n",
       "      <th>3</th>\n",
       "      <td>SPEC_EQUAL</td>\n",
       "      <td>merged</td>\n",
       "      <td>20</td>\n",
       "    </tr>\n",
       "    <tr>\n",
       "      <th>4</th>\n",
       "      <td>SPEC_MILD</td>\n",
       "      <td>merged</td>\n",
       "      <td>17</td>\n",
       "    </tr>\n",
       "  </tbody>\n",
       "</table>\n",
       "</div>"
      ],
      "text/plain": [
       "      genecat variable  value\n",
       "0   REDUNDANT   merged      2\n",
       "1   SPEC_MILD   merged      9\n",
       "2   SPEC_MILD   merged      9\n",
       "3  SPEC_EQUAL   merged     20\n",
       "4   SPEC_MILD   merged     17"
      ]
     },
     "execution_count": 38,
     "metadata": {},
     "output_type": "execute_result"
    }
   ],
   "source": [
    "# Get our data in tidy format:\n",
    "toplot = pd.melt(dd[['merged','genecat']], id_vars=['genecat'])\n",
    "toplot.head()"
   ]
  },
  {
   "cell_type": "code",
   "execution_count": 40,
   "metadata": {},
   "outputs": [
    {
     "data": {
      "text/plain": [
       "<matplotlib.text.Text at 0xade6dd0>"
      ]
     },
     "execution_count": 40,
     "metadata": {},
     "output_type": "execute_result"
    },
    {
     "data": {
      "image/png": "[encoded data removed]",
      "text/plain": [
       "<matplotlib.figure.Figure at 0xaae7a50>"
      ]
     },
     "metadata": {},
     "output_type": "display_data"
    }
   ],
   "source": [
    "# Plot:\n",
    "plt.figure(figsize=(9,6))\n",
    "\n",
    "sns.boxplot(data = toplot, \n",
    "            x = 'genecat',  \n",
    "            y='value',\n",
    "            fliersize=0, \n",
    "            palette='Blues',\n",
    "            order = FATE_ORDER)\n",
    "plt.ylim((0,90))\n",
    "\n",
    "\n",
    "# We want to annotate the plot with a Mann-Whitney test pval:\n",
    "# First we need the values from each box:\n",
    "EL = [ toplot.loc[toplot.genecat==i,'value'].values for i in FATE_ORDER]\n",
    "\n",
    "# Then we compute the edge of the boxplot\n",
    "# https://stackoverflow.com/questions/36423362/about-boxplot-whiskers-calculation-with-numpy-or-matplotlib\n",
    "HIP = []\n",
    "for vals in EL:\n",
    "    Q1, median, Q3 = np.percentile(vals, [25, 50, 75])\n",
    "    hival = np.compress(vals <= Q3 + 1.5 * (Q3 - Q1), vals).max() +1\n",
    "    HIP.append(hival)\n",
    "    \n",
    "# We have the height where we want to annotate (in HIP)\n",
    "# we now get the pvalue:\n",
    "pv = MWU(EL[2], EL[3], alternative='less')[1]\n",
    "# and use our helper function to annotate the graph:\n",
    "ann(2,3,HIP[3],\"p: {0:.5f}\".format(pv))\n",
    "\n",
    "pv = MWU(EL[2], EL[4], alternative='less')[1]\n",
    "ann(2,4,HIP[4],\"p: {0:.5f}\".format(pv))\n",
    "\n",
    "sns.despine()\n",
    "plt.title('Zebrafish: merged peaks from all dev stages')"
   ]
  },
  {
   "cell_type": "markdown",
   "metadata": {},
   "source": [
    "#### Mouse"
   ]
  },
  {
   "cell_type": "code",
   "execution_count": 57,
   "metadata": {},
   "outputs": [
    {
     "data": {
      "text/html": [
       "<div>\n",
       "<style>\n",
       "    .dataframe thead tr:only-child th {\n",
       "        text-align: right;\n",
       "    }\n",
       "\n",
       "    .dataframe thead th {\n",
       "        text-align: left;\n",
       "    }\n",
       "\n",
       "    .dataframe tbody tr th {\n",
       "        vertical-align: top;\n",
       "    }\n",
       "</style>\n",
       "<table border=\"1\" class=\"dataframe\">\n",
       "  <thead>\n",
       "    <tr style=\"text-align: right;\">\n",
       "      <th></th>\n",
       "      <th>chrom</th>\n",
       "      <th>start</th>\n",
       "      <th>end</th>\n",
       "      <th>score</th>\n",
       "      <th>strand</th>\n",
       "      <th>DE</th>\n",
       "      <th>ED</th>\n",
       "      <th>genecat</th>\n",
       "    </tr>\n",
       "    <tr>\n",
       "      <th>name</th>\n",
       "      <th></th>\n",
       "      <th></th>\n",
       "      <th></th>\n",
       "      <th></th>\n",
       "      <th></th>\n",
       "      <th></th>\n",
       "      <th></th>\n",
       "      <th></th>\n",
       "    </tr>\n",
       "  </thead>\n",
       "  <tbody>\n",
       "    <tr>\n",
       "      <th>ENSMUSG00000025903</th>\n",
       "      <td>chr1</td>\n",
       "      <td>4790715</td>\n",
       "      <td>4852810</td>\n",
       "      <td>62095</td>\n",
       "      <td>+</td>\n",
       "      <td>3</td>\n",
       "      <td>5</td>\n",
       "      <td>SPEC_MILD</td>\n",
       "    </tr>\n",
       "    <tr>\n",
       "      <th>ENSMUSG00000033813</th>\n",
       "      <td>chr1</td>\n",
       "      <td>4808828</td>\n",
       "      <td>5018535</td>\n",
       "      <td>209707</td>\n",
       "      <td>+</td>\n",
       "      <td>21</td>\n",
       "      <td>20</td>\n",
       "      <td>SUBFUNCT</td>\n",
       "    </tr>\n",
       "  </tbody>\n",
       "</table>\n",
       "</div>"
      ],
      "text/plain": [
       "                   chrom    start      end   score strand  DE  ED    genecat\n",
       "name                                                                        \n",
       "ENSMUSG00000025903  chr1  4790715  4852810   62095      +   3   5  SPEC_MILD\n",
       "ENSMUSG00000033813  chr1  4808828  5018535  209707      +  21  20   SUBFUNCT"
      ]
     },
     "execution_count": 57,
     "metadata": {},
     "output_type": "execute_result"
    }
   ],
   "source": [
    "dd = big_ind['Mmu'].copy()\n",
    "dd['genecat'] = dd.index.to_series().map(fate_dict_mouse)\n",
    "dd = dd[~dd.genecat.isnull()]\n",
    "dd.head(2)"
   ]
  },
  {
   "cell_type": "code",
   "execution_count": 62,
   "metadata": {},
   "outputs": [
    {
     "data": {
      "text/plain": [
       "<matplotlib.text.Text at 0xddd7090>"
      ]
     },
     "execution_count": 62,
     "metadata": {},
     "output_type": "execute_result"
    },
    {
     "data": {
      "image/png": "[encoded data removed]",
      "text/plain": [
       "<matplotlib.figure.Figure at 0xd1c6150>"
      ]
     },
     "metadata": {},
     "output_type": "display_data"
    }
   ],
   "source": [
    "toplot = pd.melt(dd[['DE','genecat']], id_vars=['genecat'])\n",
    "\n",
    "plt.figure(figsize=(9,6))\n",
    "sns.boxplot(data = toplot, x = 'genecat',  y='value',\n",
    "           fliersize=0, palette='Blues',\n",
    "           order = FATE_ORDER)\n",
    "plt.ylim((0,90))\n",
    "EL = [ toplot.loc[toplot.genecat==i,'value'].values for i in FATE_ORDER]\n",
    "HIP = []\n",
    "for buz in EL:\n",
    "    Q1, median, Q3 = np.percentile(buz, [25, 50, 75])\n",
    "    hival = np.compress(buz <= Q3 + 1.5 * (Q3 - Q1), buz).max() +1\n",
    "    HIP.append(hival)   \n",
    "pv = MWU(EL[2], EL[3], alternative='less')[1]\n",
    "ann(2,3,HIP[3],\"p: {0:.5f}\".format(pv))\n",
    "pv = MWU(EL[2], EL[4], alternative='less')[1]\n",
    "ann(2,4,HIP[3]+5,\"p: {0:.5f}\".format(pv))\n",
    "sns.despine()\n",
    "plt.title('Mouse: DE cells')"
   ]
  },
  {
   "cell_type": "code",
   "execution_count": 63,
   "metadata": {},
   "outputs": [
    {
     "data": {
      "text/plain": [
       "<matplotlib.text.Text at 0xe12c5d0>"
      ]
     },
     "execution_count": 63,
     "metadata": {},
     "output_type": "execute_result"
    },
    {
     "data": {
      "image/png": "[encoded data removed]",
      "text/plain": [
       "<matplotlib.figure.Figure at 0xd17e550>"
      ]
     },
     "metadata": {},
     "output_type": "display_data"
    }
   ],
   "source": [
    "toplot = pd.melt(dd[['ED','genecat']], id_vars=['genecat'])\n",
    "plt.figure(figsize=(9,6))\n",
    "sns.boxplot(data = toplot, x = 'genecat',  y='value',\n",
    "           fliersize=0, palette='Blues',\n",
    "           order = FATE_ORDER)\n",
    "plt.ylim((0,90))\n",
    "EL = [ toplot.loc[toplot.genecat==i,'value'].values for i in FATE_ORDER]\n",
    "HIP = []\n",
    "for buz in EL:\n",
    "    Q1, median, Q3 = np.percentile(buz, [25, 50, 75])\n",
    "    hival = np.compress(buz <= Q3 + 1.5 * (Q3 - Q1), buz).max() +1\n",
    "    HIP.append(hival)   \n",
    "pv = MWU(EL[2], EL[3], alternative='less')[1]\n",
    "ann(2,3,HIP[3],\"p: {0:.5f}\".format(pv))\n",
    "pv = MWU(EL[2], EL[4], alternative='less')[1]\n",
    "ann(2,4,HIP[4],\"p: {0:.5f}\".format(pv))\n",
    "sns.despine()\n",
    "plt.title('Mouse: ED cells')"
   ]
  },
  {
   "cell_type": "markdown",
   "metadata": {},
   "source": [
    "### Genes groupped by domains lost\n",
    "\n",
    "#### Zebrafish"
   ]
  },
  {
   "cell_type": "code",
   "execution_count": 64,
   "metadata": {},
   "outputs": [
    {
     "data": {
      "text/html": [
       "<div>\n",
       "<style>\n",
       "    .dataframe thead tr:only-child th {\n",
       "        text-align: right;\n",
       "    }\n",
       "\n",
       "    .dataframe thead th {\n",
       "        text-align: left;\n",
       "    }\n",
       "\n",
       "    .dataframe tbody tr th {\n",
       "        vertical-align: top;\n",
       "    }\n",
       "</style>\n",
       "<table border=\"1\" class=\"dataframe\">\n",
       "  <thead>\n",
       "    <tr style=\"text-align: right;\">\n",
       "      <th></th>\n",
       "      <th>chrom</th>\n",
       "      <th>start</th>\n",
       "      <th>end</th>\n",
       "      <th>score</th>\n",
       "      <th>strand</th>\n",
       "      <th>dome</th>\n",
       "      <th>shield</th>\n",
       "      <th>80epi</th>\n",
       "      <th>8som</th>\n",
       "      <th>24h</th>\n",
       "      <th>48h</th>\n",
       "      <th>merged</th>\n",
       "      <th>genecat</th>\n",
       "    </tr>\n",
       "    <tr>\n",
       "      <th>name</th>\n",
       "      <th></th>\n",
       "      <th></th>\n",
       "      <th></th>\n",
       "      <th></th>\n",
       "      <th></th>\n",
       "      <th></th>\n",
       "      <th></th>\n",
       "      <th></th>\n",
       "      <th></th>\n",
       "      <th></th>\n",
       "      <th></th>\n",
       "      <th></th>\n",
       "      <th></th>\n",
       "    </tr>\n",
       "  </thead>\n",
       "  <tbody>\n",
       "    <tr>\n",
       "      <th>ENSDARG00000100181</th>\n",
       "      <td>chr1</td>\n",
       "      <td>158798</td>\n",
       "      <td>195876</td>\n",
       "      <td>37078</td>\n",
       "      <td>+</td>\n",
       "      <td>6</td>\n",
       "      <td>5</td>\n",
       "      <td>8</td>\n",
       "      <td>3</td>\n",
       "      <td>4</td>\n",
       "      <td>7</td>\n",
       "      <td>9</td>\n",
       "      <td>1-2</td>\n",
       "    </tr>\n",
       "    <tr>\n",
       "      <th>ENSDARG00000041592</th>\n",
       "      <td>chr1</td>\n",
       "      <td>219453</td>\n",
       "      <td>244893</td>\n",
       "      <td>25440</td>\n",
       "      <td>-</td>\n",
       "      <td>4</td>\n",
       "      <td>5</td>\n",
       "      <td>8</td>\n",
       "      <td>6</td>\n",
       "      <td>9</td>\n",
       "      <td>8</td>\n",
       "      <td>9</td>\n",
       "      <td>1-2</td>\n",
       "    </tr>\n",
       "    <tr>\n",
       "      <th>ENSDARG00000104279</th>\n",
       "      <td>chr1</td>\n",
       "      <td>624409</td>\n",
       "      <td>673560</td>\n",
       "      <td>49151</td>\n",
       "      <td>-</td>\n",
       "      <td>10</td>\n",
       "      <td>13</td>\n",
       "      <td>13</td>\n",
       "      <td>18</td>\n",
       "      <td>15</td>\n",
       "      <td>19</td>\n",
       "      <td>20</td>\n",
       "      <td>0</td>\n",
       "    </tr>\n",
       "    <tr>\n",
       "      <th>ENSDARG00000001870</th>\n",
       "      <td>chr1</td>\n",
       "      <td>1484800</td>\n",
       "      <td>1559342</td>\n",
       "      <td>74542</td>\n",
       "      <td>+</td>\n",
       "      <td>7</td>\n",
       "      <td>6</td>\n",
       "      <td>7</td>\n",
       "      <td>13</td>\n",
       "      <td>11</td>\n",
       "      <td>15</td>\n",
       "      <td>17</td>\n",
       "      <td>5-6</td>\n",
       "    </tr>\n",
       "    <tr>\n",
       "      <th>ENSDARG00000002791</th>\n",
       "      <td>chr1</td>\n",
       "      <td>1542986</td>\n",
       "      <td>1763169</td>\n",
       "      <td>220183</td>\n",
       "      <td>+</td>\n",
       "      <td>17</td>\n",
       "      <td>16</td>\n",
       "      <td>17</td>\n",
       "      <td>20</td>\n",
       "      <td>18</td>\n",
       "      <td>19</td>\n",
       "      <td>30</td>\n",
       "      <td>0</td>\n",
       "    </tr>\n",
       "  </tbody>\n",
       "</table>\n",
       "</div>"
      ],
      "text/plain": [
       "                   chrom    start      end   score strand  dome  shield  \\\n",
       "name                                                                      \n",
       "ENSDARG00000100181  chr1   158798   195876   37078      +     6       5   \n",
       "ENSDARG00000041592  chr1   219453   244893   25440      -     4       5   \n",
       "ENSDARG00000104279  chr1   624409   673560   49151      -    10      13   \n",
       "ENSDARG00000001870  chr1  1484800  1559342   74542      +     7       6   \n",
       "ENSDARG00000002791  chr1  1542986  1763169  220183      +    17      16   \n",
       "\n",
       "                    80epi  8som  24h  48h  merged genecat  \n",
       "name                                                       \n",
       "ENSDARG00000100181      8     3    4    7       9     1-2  \n",
       "ENSDARG00000041592      8     6    9    8       9     1-2  \n",
       "ENSDARG00000104279     13    18   15   19      20       0  \n",
       "ENSDARG00000001870      7    13   11   15      17     5-6  \n",
       "ENSDARG00000002791     17    20   18   19      30       0  "
      ]
     },
     "execution_count": 64,
     "metadata": {},
     "output_type": "execute_result"
    }
   ],
   "source": [
    "# GEt a working copy of the peak count dataframe:\n",
    "dd = big_ind['Dre'].copy()\n",
    "# map the fate category\n",
    "dd['genecat'] = dd.index.to_series().map(domLost_dict_zebra)\n",
    "dd = dd[~dd.genecat.isnull()]\n",
    "dd['genecat'] = dd['genecat'].map(grouperino)\n",
    "dd.head()"
   ]
  },
  {
   "cell_type": "code",
   "execution_count": 65,
   "metadata": {},
   "outputs": [
    {
     "data": {
      "text/plain": [
       "<matplotlib.text.Text at 0xd7f08d0>"
      ]
     },
     "execution_count": 65,
     "metadata": {},
     "output_type": "execute_result"
    },
    {
     "data": {
      "image/png": "[encoded data removed]",
      "text/plain": [
       "<matplotlib.figure.Figure at 0xddd2750>"
      ]
     },
     "metadata": {},
     "output_type": "display_data"
    }
   ],
   "source": [
    "toplot = pd.melt(dd[['merged','genecat']], id_vars=['genecat'])\n",
    "\n",
    "plt.figure(figsize=(9,6))\n",
    "sns.boxplot(data = toplot, x = 'genecat',  y='value',\n",
    "           fliersize=0, palette='Blues',\n",
    "           order = domLost_ORDER)\n",
    "plt.ylim((0,90))\n",
    "EL = [ toplot.loc[toplot.genecat==i,'value'].values for i in domLost_ORDER]\n",
    "HIP = []\n",
    "for buz in EL:\n",
    "    Q1, median, Q3 = np.percentile(buz, [25, 50, 75])\n",
    "    hival = np.compress(buz <= Q3 + 1.5 * (Q3 - Q1), buz).max() +1\n",
    "    HIP.append(hival)  \n",
    "pv = MWU(EL[0], EL[1], alternative='less')[1]\n",
    "ann(0,1,HIP[0],\"p: {0:.5f}\".format(pv))\n",
    "pv = MWU(EL[0], EL[2], alternative='less')[1]\n",
    "ann(0,2,HIP[2],\"p: {0:.5f}\".format(pv))\n",
    "pv = MWU(EL[0], EL[3], alternative='less')[1]\n",
    "ann(0,3,HIP[3],\"p: {0:.5f}\".format(pv))\n",
    "pv = MWU(EL[0], EL[4], alternative='less')[1]\n",
    "ann(0,4,HIP[3]+5,\"p: {0:.5f}\".format(pv))\n",
    "sns.despine()\n",
    "plt.title('Zebrafish: merged peaks from all dev stages')"
   ]
  },
  {
   "cell_type": "markdown",
   "metadata": {},
   "source": [
    "#### Mouse"
   ]
  },
  {
   "cell_type": "code",
   "execution_count": 220,
   "metadata": {},
   "outputs": [
    {
     "data": {
      "text/html": [
       "<div>\n",
       "<style>\n",
       "    .dataframe thead tr:only-child th {\n",
       "        text-align: right;\n",
       "    }\n",
       "\n",
       "    .dataframe thead th {\n",
       "        text-align: left;\n",
       "    }\n",
       "\n",
       "    .dataframe tbody tr th {\n",
       "        vertical-align: top;\n",
       "    }\n",
       "</style>\n",
       "<table border=\"1\" class=\"dataframe\">\n",
       "  <thead>\n",
       "    <tr style=\"text-align: right;\">\n",
       "      <th></th>\n",
       "      <th>chrom</th>\n",
       "      <th>start</th>\n",
       "      <th>end</th>\n",
       "      <th>score</th>\n",
       "      <th>strand</th>\n",
       "      <th>DE</th>\n",
       "      <th>ED</th>\n",
       "      <th>genecat</th>\n",
       "    </tr>\n",
       "    <tr>\n",
       "      <th>name</th>\n",
       "      <th></th>\n",
       "      <th></th>\n",
       "      <th></th>\n",
       "      <th></th>\n",
       "      <th></th>\n",
       "      <th></th>\n",
       "      <th></th>\n",
       "      <th></th>\n",
       "    </tr>\n",
       "  </thead>\n",
       "  <tbody>\n",
       "    <tr>\n",
       "      <th>ENSMUSG00000025903</th>\n",
       "      <td>chr1</td>\n",
       "      <td>4790715</td>\n",
       "      <td>4852810</td>\n",
       "      <td>62095</td>\n",
       "      <td>+</td>\n",
       "      <td>3</td>\n",
       "      <td>5</td>\n",
       "      <td>1-2</td>\n",
       "    </tr>\n",
       "    <tr>\n",
       "      <th>ENSMUSG00000025933</th>\n",
       "      <td>chr1</td>\n",
       "      <td>21084234</td>\n",
       "      <td>21235585</td>\n",
       "      <td>151351</td>\n",
       "      <td>+</td>\n",
       "      <td>23</td>\n",
       "      <td>17</td>\n",
       "      <td>7-9</td>\n",
       "    </tr>\n",
       "  </tbody>\n",
       "</table>\n",
       "</div>"
      ],
      "text/plain": [
       "                   chrom     start       end   score strand  DE  ED genecat\n",
       "name                                                                       \n",
       "ENSMUSG00000025903  chr1   4790715   4852810   62095      +   3   5     1-2\n",
       "ENSMUSG00000025933  chr1  21084234  21235585  151351      +  23  17     7-9"
      ]
     },
     "execution_count": 220,
     "metadata": {},
     "output_type": "execute_result"
    }
   ],
   "source": [
    "dd = big_ind['Mmu'].copy()\n",
    "dd['genecat'] = dd.index.to_series().map(domLost_dict_mouse)\n",
    "dd['genecat'] = dd['genecat'].map(grouperino)\n",
    "dd = dd[~dd.genecat.isnull()]\n",
    "dd.head(2)"
   ]
  },
  {
   "cell_type": "code",
   "execution_count": 221,
   "metadata": {},
   "outputs": [
    {
     "data": {
      "text/plain": [
       "<matplotlib.text.Text at 0x1a3a1390>"
      ]
     },
     "execution_count": 221,
     "metadata": {},
     "output_type": "execute_result"
    },
    {
     "data": {
      "image/png": "[encoded data removed]",
      "text/plain": [
       "<matplotlib.figure.Figure at 0x14de6a10>"
      ]
     },
     "metadata": {},
     "output_type": "display_data"
    }
   ],
   "source": [
    "toplot = pd.melt(dd[['ED','genecat']], id_vars=['genecat'])\n",
    "\n",
    "plt.figure(figsize=(9,6))\n",
    "sns.boxplot(data = toplot, x = 'genecat',  y='value',\n",
    "           fliersize=0, palette='Blues',\n",
    "           order = domLost_ORDER)\n",
    "\n",
    "plt.ylim((0,90))\n",
    "EL = [ toplot.loc[toplot.genecat==i,'value'].values for i in domLost_ORDER]\n",
    "HIP = []\n",
    "for buz in EL:\n",
    "    Q1, median, Q3 = np.percentile(buz, [25, 50, 75])\n",
    "    hival = np.compress(buz <= Q3 + 1.5 * (Q3 - Q1), buz).max() +1\n",
    "    HIP.append(hival)   \n",
    "pv = MWU(EL[0], EL[1], alternative='less')[1]\n",
    "ann(0,1,HIP[1],\"p: {0:.5f}\".format(pv))\n",
    "pv = MWU(EL[0], EL[2], alternative='less')[1]\n",
    "ann(0,2,HIP[2],\"p: {0:.5f}\".format(pv))\n",
    "pv = MWU(EL[0], EL[3], alternative='less')[1]\n",
    "ann(0,3,HIP[3],\"p: {0:.5f}\".format(pv))\n",
    "pv = MWU(EL[0], EL[4], alternative='less')[1]\n",
    "ann(0,4,HIP[3]+5,\"p: {0:.5f}\".format(pv))\n",
    "sns.despine()\n",
    "plt.title('Mouse: merged peaks from all dev stages')"
   ]
  },
  {
   "cell_type": "code",
   "execution_count": 225,
   "metadata": {},
   "outputs": [
    {
     "data": {
      "text/plain": [
       "<matplotlib.text.Text at 0x16879050>"
      ]
     },
     "execution_count": 225,
     "metadata": {},
     "output_type": "execute_result"
    },
    {
     "data": {
      "image/png": "[encoded data removed]",
      "text/plain": [
       "<matplotlib.figure.Figure at 0x13490b50>"
      ]
     },
     "metadata": {},
     "output_type": "display_data"
    }
   ],
   "source": [
    "ddtp = pd.melt(dd[['DE','genecat']], id_vars=['genecat'])\n",
    "plt.figure(figsize=(9,6))\n",
    "sns.boxplot(data = ddtp, x = 'genecat',  y='value',\n",
    "           fliersize=0, palette='Blues',\n",
    "           order = domLost_ORDER)\n",
    "plt.ylim((0,110))\n",
    "EL = [ ddtp.loc[ddtp.genecat==i,'value'].values for i in domLost_ORDER]\n",
    "HIP = []\n",
    "for category in domLost_ORDER:\n",
    "    buz = ddtp.loc[ddtp.genecat==category,'value'].values\n",
    "    Q1, median, Q3 = np.percentile(buz, [25, 50, 75])\n",
    "    hival = np.compress(buz <= Q3 + 1.5 * (Q3 - Q1), buz).max() +1\n",
    "    HIP.append(hival)\n",
    "\n",
    "pv = MWU(EL[0], EL[1], alternative='less')[1]\n",
    "ann(0,1,HIP[1],\"p: {0:.5f}\".format(pv))\n",
    "pv = MWU(EL[0], EL[2], alternative='less')[1]\n",
    "ann(0,2,HIP[2],\"p: {0:.5f}\".format(pv))\n",
    "pv = MWU(EL[0], EL[3], alternative='less')[1]\n",
    "ann(0,3,HIP[3],\"p: {0:.5f}\".format(pv))\n",
    "pv = MWU(EL[0], EL[4], alternative='less')[1]\n",
    "ann(0,4,HIP[3]+5,\"p: {0:.5f}\".format(pv))\n",
    "\n",
    "sns.despine()\n",
    "plt.title('Mouse: merged peaks from all dev stages')"
   ]
  },
  {
   "cell_type": "markdown",
   "metadata": {},
   "source": [
    "## Trans-dev VS House-keeping genes"
   ]
  },
  {
   "cell_type": "code",
   "execution_count": 70,
   "metadata": {
    "collapsed": true
   },
   "outputs": [],
   "source": [
    "def categ(x):\n",
    "    if x in hkgenes:\n",
    "        return \"houseK\"\n",
    "    elif x in tdgenes:\n",
    "        return \"transD\"\n",
    "    else:\n",
    "        return \"others\""
   ]
  },
  {
   "cell_type": "markdown",
   "metadata": {},
   "source": [
    "### Zebrafish"
   ]
  },
  {
   "cell_type": "code",
   "execution_count": 72,
   "metadata": {},
   "outputs": [
    {
     "data": {
      "text/html": [
       "<div>\n",
       "<style>\n",
       "    .dataframe thead tr:only-child th {\n",
       "        text-align: right;\n",
       "    }\n",
       "\n",
       "    .dataframe thead th {\n",
       "        text-align: left;\n",
       "    }\n",
       "\n",
       "    .dataframe tbody tr th {\n",
       "        vertical-align: top;\n",
       "    }\n",
       "</style>\n",
       "<table border=\"1\" class=\"dataframe\">\n",
       "  <thead>\n",
       "    <tr style=\"text-align: right;\">\n",
       "      <th></th>\n",
       "      <th>chrom</th>\n",
       "      <th>start</th>\n",
       "      <th>end</th>\n",
       "      <th>score</th>\n",
       "      <th>strand</th>\n",
       "      <th>dome</th>\n",
       "      <th>shield</th>\n",
       "      <th>80epi</th>\n",
       "      <th>8som</th>\n",
       "      <th>24h</th>\n",
       "      <th>48h</th>\n",
       "      <th>merged</th>\n",
       "      <th>genecat</th>\n",
       "    </tr>\n",
       "    <tr>\n",
       "      <th>name</th>\n",
       "      <th></th>\n",
       "      <th></th>\n",
       "      <th></th>\n",
       "      <th></th>\n",
       "      <th></th>\n",
       "      <th></th>\n",
       "      <th></th>\n",
       "      <th></th>\n",
       "      <th></th>\n",
       "      <th></th>\n",
       "      <th></th>\n",
       "      <th></th>\n",
       "      <th></th>\n",
       "    </tr>\n",
       "  </thead>\n",
       "  <tbody>\n",
       "    <tr>\n",
       "      <th>ENSDARG00000063895</th>\n",
       "      <td>MT</td>\n",
       "      <td>0</td>\n",
       "      <td>4804</td>\n",
       "      <td>4804</td>\n",
       "      <td>+</td>\n",
       "      <td>0</td>\n",
       "      <td>0</td>\n",
       "      <td>0</td>\n",
       "      <td>0</td>\n",
       "      <td>0</td>\n",
       "      <td>0</td>\n",
       "      <td>0</td>\n",
       "      <td>others</td>\n",
       "    </tr>\n",
       "    <tr>\n",
       "      <th>ENSDARG00000063899</th>\n",
       "      <td>MT</td>\n",
       "      <td>3805</td>\n",
       "      <td>5994</td>\n",
       "      <td>2189</td>\n",
       "      <td>+</td>\n",
       "      <td>0</td>\n",
       "      <td>0</td>\n",
       "      <td>0</td>\n",
       "      <td>0</td>\n",
       "      <td>0</td>\n",
       "      <td>0</td>\n",
       "      <td>0</td>\n",
       "      <td>others</td>\n",
       "    </tr>\n",
       "    <tr>\n",
       "      <th>ENSDARG00000063905</th>\n",
       "      <td>MT</td>\n",
       "      <td>4995</td>\n",
       "      <td>7426</td>\n",
       "      <td>2431</td>\n",
       "      <td>+</td>\n",
       "      <td>0</td>\n",
       "      <td>0</td>\n",
       "      <td>0</td>\n",
       "      <td>0</td>\n",
       "      <td>0</td>\n",
       "      <td>0</td>\n",
       "      <td>0</td>\n",
       "      <td>others</td>\n",
       "    </tr>\n",
       "    <tr>\n",
       "      <th>ENSDARG00000063908</th>\n",
       "      <td>MT</td>\n",
       "      <td>6427</td>\n",
       "      <td>8893</td>\n",
       "      <td>2466</td>\n",
       "      <td>+</td>\n",
       "      <td>0</td>\n",
       "      <td>0</td>\n",
       "      <td>0</td>\n",
       "      <td>0</td>\n",
       "      <td>0</td>\n",
       "      <td>0</td>\n",
       "      <td>0</td>\n",
       "      <td>others</td>\n",
       "    </tr>\n",
       "    <tr>\n",
       "      <th>ENSDARG00000063910</th>\n",
       "      <td>MT</td>\n",
       "      <td>8132</td>\n",
       "      <td>9051</td>\n",
       "      <td>919</td>\n",
       "      <td>+</td>\n",
       "      <td>0</td>\n",
       "      <td>0</td>\n",
       "      <td>0</td>\n",
       "      <td>0</td>\n",
       "      <td>0</td>\n",
       "      <td>0</td>\n",
       "      <td>0</td>\n",
       "      <td>others</td>\n",
       "    </tr>\n",
       "  </tbody>\n",
       "</table>\n",
       "</div>"
      ],
      "text/plain": [
       "                   chrom  start   end  score strand  dome  shield  80epi  \\\n",
       "name                                                                       \n",
       "ENSDARG00000063895    MT      0  4804   4804      +     0       0      0   \n",
       "ENSDARG00000063899    MT   3805  5994   2189      +     0       0      0   \n",
       "ENSDARG00000063905    MT   4995  7426   2431      +     0       0      0   \n",
       "ENSDARG00000063908    MT   6427  8893   2466      +     0       0      0   \n",
       "ENSDARG00000063910    MT   8132  9051    919      +     0       0      0   \n",
       "\n",
       "                    8som  24h  48h  merged genecat  \n",
       "name                                                \n",
       "ENSDARG00000063895     0    0    0       0  others  \n",
       "ENSDARG00000063899     0    0    0       0  others  \n",
       "ENSDARG00000063905     0    0    0       0  others  \n",
       "ENSDARG00000063908     0    0    0       0  others  \n",
       "ENSDARG00000063910     0    0    0       0  others  "
      ]
     },
     "execution_count": 72,
     "metadata": {},
     "output_type": "execute_result"
    }
   ],
   "source": [
    "# GEt a working copy of the peak count dataframe:\n",
    "dd = big_ind['Dre'].copy()\n",
    "# map the fate category\n",
    "dd['genecat'] = dd.index.to_series().map(categ)\n",
    "dd = dd[~dd.genecat.isnull()]\n",
    "dd.head()"
   ]
  },
  {
   "cell_type": "code",
   "execution_count": 74,
   "metadata": {},
   "outputs": [
    {
     "data": {
      "text/plain": [
       "<matplotlib.legend.Legend at 0xe468110>"
      ]
     },
     "execution_count": 74,
     "metadata": {},
     "output_type": "execute_result"
    },
    {
     "data": {
      "image/png": "[encoded data removed]",
      "text/plain": [
       "<matplotlib.figure.Figure at 0xe208b90>"
      ]
     },
     "metadata": {},
     "output_type": "display_data"
    }
   ],
   "source": [
    "toplot = pd.melt(dd[stages['Dre'] +['genecat']], id_vars=['genecat'])\n",
    "\n",
    "plt.figure(figsize=(9,6))\n",
    "\n",
    "sns.boxplot(data = toplot, \n",
    "            hue = 'genecat',\n",
    "            x='variable',  \n",
    "            y='value',\n",
    "            fliersize=0, \n",
    "            palette='Blues',\n",
    "            hue_order = tdhk_ORDER)\n",
    "\n",
    "plt.ylim((0,90))\n",
    "\n",
    "sns.despine()\n",
    "plt.title('Zebrafish: merged peaks from all dev stages')\n",
    "plt.legend(loc='upper left')"
   ]
  },
  {
   "cell_type": "markdown",
   "metadata": {},
   "source": [
    "### Mouse"
   ]
  },
  {
   "cell_type": "code",
   "execution_count": 75,
   "metadata": {},
   "outputs": [
    {
     "data": {
      "text/html": [
       "<div>\n",
       "<style>\n",
       "    .dataframe thead tr:only-child th {\n",
       "        text-align: right;\n",
       "    }\n",
       "\n",
       "    .dataframe thead th {\n",
       "        text-align: left;\n",
       "    }\n",
       "\n",
       "    .dataframe tbody tr th {\n",
       "        vertical-align: top;\n",
       "    }\n",
       "</style>\n",
       "<table border=\"1\" class=\"dataframe\">\n",
       "  <thead>\n",
       "    <tr style=\"text-align: right;\">\n",
       "      <th></th>\n",
       "      <th>chrom</th>\n",
       "      <th>start</th>\n",
       "      <th>end</th>\n",
       "      <th>score</th>\n",
       "      <th>strand</th>\n",
       "      <th>DE</th>\n",
       "      <th>ED</th>\n",
       "      <th>genecat</th>\n",
       "    </tr>\n",
       "    <tr>\n",
       "      <th>name</th>\n",
       "      <th></th>\n",
       "      <th></th>\n",
       "      <th></th>\n",
       "      <th></th>\n",
       "      <th></th>\n",
       "      <th></th>\n",
       "      <th></th>\n",
       "      <th></th>\n",
       "    </tr>\n",
       "  </thead>\n",
       "  <tbody>\n",
       "    <tr>\n",
       "      <th>ENSMUSG00000051951</th>\n",
       "      <td>chr1</td>\n",
       "      <td>2670503</td>\n",
       "      <td>4359310</td>\n",
       "      <td>1688807</td>\n",
       "      <td>-</td>\n",
       "      <td>98</td>\n",
       "      <td>96</td>\n",
       "      <td>others</td>\n",
       "    </tr>\n",
       "    <tr>\n",
       "      <th>ENSMUSG00000025900</th>\n",
       "      <td>chr1</td>\n",
       "      <td>3676503</td>\n",
       "      <td>4495409</td>\n",
       "      <td>818906</td>\n",
       "      <td>-</td>\n",
       "      <td>63</td>\n",
       "      <td>66</td>\n",
       "      <td>others</td>\n",
       "    </tr>\n",
       "    <tr>\n",
       "      <th>ENSMUSG00000025902</th>\n",
       "      <td>chr1</td>\n",
       "      <td>4365319</td>\n",
       "      <td>4784706</td>\n",
       "      <td>419387</td>\n",
       "      <td>-</td>\n",
       "      <td>63</td>\n",
       "      <td>61</td>\n",
       "      <td>transD</td>\n",
       "    </tr>\n",
       "    <tr>\n",
       "      <th>ENSMUSG00000033845</th>\n",
       "      <td>chr1</td>\n",
       "      <td>4501418</td>\n",
       "      <td>4802819</td>\n",
       "      <td>301401</td>\n",
       "      <td>-</td>\n",
       "      <td>43</td>\n",
       "      <td>42</td>\n",
       "      <td>houseK</td>\n",
       "    </tr>\n",
       "    <tr>\n",
       "      <th>ENSMUSG00000025903</th>\n",
       "      <td>chr1</td>\n",
       "      <td>4790715</td>\n",
       "      <td>4852810</td>\n",
       "      <td>62095</td>\n",
       "      <td>+</td>\n",
       "      <td>3</td>\n",
       "      <td>5</td>\n",
       "      <td>others</td>\n",
       "    </tr>\n",
       "  </tbody>\n",
       "</table>\n",
       "</div>"
      ],
      "text/plain": [
       "                   chrom    start      end    score strand  DE  ED genecat\n",
       "name                                                                      \n",
       "ENSMUSG00000051951  chr1  2670503  4359310  1688807      -  98  96  others\n",
       "ENSMUSG00000025900  chr1  3676503  4495409   818906      -  63  66  others\n",
       "ENSMUSG00000025902  chr1  4365319  4784706   419387      -  63  61  transD\n",
       "ENSMUSG00000033845  chr1  4501418  4802819   301401      -  43  42  houseK\n",
       "ENSMUSG00000025903  chr1  4790715  4852810    62095      +   3   5  others"
      ]
     },
     "execution_count": 75,
     "metadata": {},
     "output_type": "execute_result"
    }
   ],
   "source": [
    "# GEt a working copy of the peak count dataframe:\n",
    "dd = big_ind['Mmu'].copy()\n",
    "# map the fate category\n",
    "dd['genecat'] = dd.index.to_series().map(categ)\n",
    "dd = dd[~dd.genecat.isnull()]\n",
    "dd.head()"
   ]
  },
  {
   "cell_type": "code",
   "execution_count": 76,
   "metadata": {},
   "outputs": [
    {
     "data": {
      "text/plain": [
       "<matplotlib.legend.Legend at 0xe10d0d0>"
      ]
     },
     "execution_count": 76,
     "metadata": {},
     "output_type": "execute_result"
    },
    {
     "data": {
      "image/png": "[encoded data removed]",
      "text/plain": [
       "<matplotlib.figure.Figure at 0xe115050>"
      ]
     },
     "metadata": {},
     "output_type": "display_data"
    }
   ],
   "source": [
    "ddtp = pd.melt(dd[['DE','ED','genecat']], id_vars=['genecat'])\n",
    "\n",
    "\n",
    "plt.figure(figsize=(9,6))\n",
    "\n",
    "sns.boxplot(data = ddtp, hue = 'genecat',x='variable',  y='value',\n",
    "           fliersize=0, palette='Blues',\n",
    "           hue_order = tdhk_ORDER)\n",
    "\n",
    "plt.ylim((0,90))\n",
    "\n",
    "\n",
    "sns.despine()\n",
    "plt.title('Mouse: peaks from DE and ED cells')\n",
    "plt.legend(loc='upper left')"
   ]
  },
  {
   "cell_type": "markdown",
   "metadata": {},
   "source": [
    "## Genes groupped by orthology"
   ]
  },
  {
   "cell_type": "code",
   "execution_count": 83,
   "metadata": {},
   "outputs": [
    {
     "data": {
      "text/html": [
       "<div>\n",
       "<style>\n",
       "    .dataframe thead tr:only-child th {\n",
       "        text-align: right;\n",
       "    }\n",
       "\n",
       "    .dataframe thead th {\n",
       "        text-align: left;\n",
       "    }\n",
       "\n",
       "    .dataframe tbody tr th {\n",
       "        vertical-align: top;\n",
       "    }\n",
       "</style>\n",
       "<table border=\"1\" class=\"dataframe\">\n",
       "  <thead>\n",
       "    <tr style=\"text-align: right;\">\n",
       "      <th></th>\n",
       "      <th>category</th>\n",
       "      <th>variable</th>\n",
       "      <th>value</th>\n",
       "    </tr>\n",
       "  </thead>\n",
       "  <tbody>\n",
       "    <tr>\n",
       "      <th>0</th>\n",
       "      <td>1-1</td>\n",
       "      <td>Dre_8som</td>\n",
       "      <td>1</td>\n",
       "    </tr>\n",
       "    <tr>\n",
       "      <th>1</th>\n",
       "      <td>1-1</td>\n",
       "      <td>Dre_8som</td>\n",
       "      <td>1</td>\n",
       "    </tr>\n",
       "  </tbody>\n",
       "</table>\n",
       "</div>"
      ],
      "text/plain": [
       "  category  variable  value\n",
       "0      1-1  Dre_8som      1\n",
       "1      1-1  Dre_8som      1"
      ]
     },
     "execution_count": 83,
     "metadata": {},
     "output_type": "execute_result"
    }
   ],
   "source": [
    "# apply the categorization,\n",
    "# Filter non interesting genes\n",
    "dd_dre = big_ind['Dre'].copy()\n",
    "dd_dre['category'] = dd_dre.index.to_series().map(categorize)\n",
    "dd_dre = dd_dre[dd_dre.category != 'nop']\n",
    "dd_dre = dd_dre[['8som','category']]\n",
    "dd_dre.columns = ['Dre_8som','category']\n",
    "\n",
    "dd_ola = big_ind['Ola'].copy()\n",
    "dd_ola['category'] = dd_ola.index.to_series().map(categorize)\n",
    "dd_ola = dd_ola[dd_ola.category != 'nop']\n",
    "dd_ola = dd_ola[['8som','category']]\n",
    "dd_ola.columns = ['Ola_8som','category']\n",
    "\n",
    "dd_bla = big_ind['Bla'].copy()\n",
    "dd_bla['category'] = dd_bla.index.to_series().map(categorize)\n",
    "dd_bla = dd_bla[dd_bla.category != 'nop']\n",
    "dd_bla = dd_bla[['15','category']]\n",
    "dd_bla.columns = ['Bla_15hpf','category']\n",
    "\n",
    "# then melt the DFs from each species and concatenate those\n",
    "TP = pd.concat([pd.melt(dd_dre, id_vars='category'),\n",
    "            pd.melt(dd_bla, id_vars='category'),\n",
    "            pd.melt(dd_ola, id_vars='category')])\n",
    "TP.head(2)"
   ]
  },
  {
   "cell_type": "markdown",
   "metadata": {},
   "source": [
    "### Zebrafish"
   ]
  },
  {
   "cell_type": "code",
   "execution_count": 112,
   "metadata": {},
   "outputs": [
    {
     "data": {
      "text/plain": [
       "(0, 55)"
      ]
     },
     "execution_count": 112,
     "metadata": {},
     "output_type": "execute_result"
    },
    {
     "data": {
      "image/png": "[encoded data removed]",
      "text/plain": [
       "<matplotlib.figure.Figure at 0x13117bd0>"
      ]
     },
     "metadata": {},
     "output_type": "display_data"
    }
   ],
   "source": [
    "ORDER = ['Bla_15hpf','Dre_8som','Ola_8som']\n",
    "plt.figure(figsize=(3,9))\n",
    "\n",
    "sns.boxplot(data = TP, \n",
    "            \n",
    "            x='variable',\n",
    "            y='value',\n",
    "           fliersize=0, palette='Blues',\n",
    "            order = ORDER\n",
    "           )\n",
    "\n",
    "data = {}\n",
    "HIP = {}\n",
    "\n",
    "for ggn,gg in TP.groupby('variable'):\n",
    "        buz = gg.value.values\n",
    "        data[ggn] = buz\n",
    "        Q1, median, Q3 = np.percentile(buz, [25, 50, 75])\n",
    "        hival = np.compress(buz <= Q3 + 1.5 * (Q3 - Q1), buz).max() +1\n",
    "        HIP[ggn] = hival\n",
    "        \n",
    "pv = MWU( data['Dre_8som'], data['Bla_15hpf'], alternative='greater')[1]\n",
    "y = HIP['Dre_8som']\n",
    "ann(0,1, y, \"{}\".format(pv))\n",
    "\n",
    "pv = MWU( data['Ola_8som'], data['Bla_15hpf'], alternative='greater')[1]\n",
    "\n",
    "ann(0,2, y+5, \"{}\".format(pv))    \n",
    "\n",
    "plt.ylim((0,55))"
   ]
  },
  {
   "cell_type": "code",
   "execution_count": 84,
   "metadata": {},
   "outputs": [
    {
     "data": {
      "text/plain": [
       "(0, 55)"
      ]
     },
     "execution_count": 84,
     "metadata": {},
     "output_type": "execute_result"
    },
    {
     "data": {
      "image/png": "[encoded data removed]",
      "text/plain": [
       "<matplotlib.figure.Figure at 0x10411c10>"
      ]
     },
     "metadata": {},
     "output_type": "display_data"
    }
   ],
   "source": [
    "ORDER = ['Bla_15hpf','Dre_8som','Ola_8som']\n",
    "plt.figure(figsize=(9,6))\n",
    "\n",
    "sns.boxplot(data = TP, \n",
    "            hue = 'category',\n",
    "            x='variable',\n",
    "            y='value',\n",
    "           fliersize=0, palette='Blues',\n",
    "            order = ORDER\n",
    "           )\n",
    "\n",
    "data = {}\n",
    "HIP = {}\n",
    "for gn,g in TP.groupby('category'):\n",
    "    data[gn] = {}\n",
    "    HIP[gn] = {}\n",
    "    for ggn,gg in g.groupby('variable'):\n",
    "        buz = gg.value.values\n",
    "        data[gn][ggn] = buz\n",
    "        Q1, median, Q3 = np.percentile(buz, [25, 50, 75])\n",
    "        hival = np.compress(buz <= Q3 + 1.5 * (Q3 - Q1), buz).max() +1\n",
    "        HIP[gn][ggn] = hival\n",
    "        \n",
    "        \n",
    "plt.text(0.7,\n",
    "         HIP['1-1']['Dre_8som'] , \n",
    "         \"{0:.5f}\".format( MWU( data['1-1']['Bla_15hpf'], data['1-1']['Dre_8som'], alternative='less')[1]),\n",
    "         ha='center', va='bottom', color='black')\n",
    "plt.text(0.9,\n",
    "         HIP['1-2']['Dre_8som'] , \n",
    "         \"{0:.5f}\".format( MWU( data['1-2']['Bla_15hpf'], data['1-1']['Dre_8som'], alternative='less')[1]),\n",
    "         ha='center', va='bottom', color='black')\n",
    "plt.text(1.1,\n",
    "         HIP['1-3']['Dre_8som'] , \n",
    "         \"{0:.5f}\".format( MWU( data['1-3']['Bla_15hpf'], data['1-1']['Dre_8som'], alternative='less')[1]),\n",
    "         ha='center', va='bottom', color='black')\n",
    "plt.text(1.3,\n",
    "         HIP['1-4']['Dre_8som'] , \n",
    "         \"{0:.5f}\".format( MWU( data['1-4']['Bla_15hpf'], data['1-1']['Dre_8som'], alternative='less')[1]),\n",
    "         ha='center', va='bottom', color='black')\n",
    "\n",
    "plt.text(1.7,\n",
    "         HIP['1-1']['Ola_8som'] , \n",
    "         \"{0:.5f}\".format( MWU( data['1-1']['Bla_15hpf'], data['1-1']['Ola_8som'], alternative='less')[1]),\n",
    "         ha='center', va='bottom', color='black')\n",
    "plt.text(1.9,\n",
    "         HIP['1-2']['Ola_8som'] , \n",
    "         \"{0:.5f}\".format( MWU( data['1-2']['Bla_15hpf'], data['1-1']['Ola_8som'], alternative='less')[1]),\n",
    "         ha='center', va='bottom', color='black')\n",
    "plt.text(2.1,\n",
    "         HIP['1-3']['Ola_8som'] , \n",
    "         \"{0:.5f}\".format( MWU( data['1-3']['Bla_15hpf'], data['1-1']['Ola_8som'], alternative='less')[1]),\n",
    "         ha='center', va='bottom', color='black')\n",
    "plt.text(2.3,\n",
    "         HIP['1-4']['Ola_8som'] , \n",
    "         \"{0:.5f}\".format( MWU( data['1-4']['Bla_15hpf'], data['1-1']['Ola_8som'], alternative='less')[1]),\n",
    "         ha='center', va='bottom', color='black')\n",
    "\n",
    "plt.ylim((0,55))"
   ]
  },
  {
   "cell_type": "code",
   "execution_count": 226,
   "metadata": {},
   "outputs": [
    {
     "data": {
      "image/png": "[encoded data removed]",
      "text/plain": [
       "<matplotlib.figure.Figure at 0x10d50190>"
      ]
     },
     "metadata": {},
     "output_type": "display_data"
    }
   ],
   "source": [
    "o = ['Bla_8','Bla_15','Bla_36','Bla_60',' ',\n",
    "    'Dre_dome','Dre_shield','Dre_80epi','Dre_8som','Dre_24h','Dre_48h',' ',\n",
    "    'Ola_dome','Ola_shield','Ola_8som','Ola_24h','Ola_48h']\n",
    "\n",
    "\n",
    "toplot = bigmelt3.copy()\n",
    "toplot['hew'] = toplot.title  + toplot.variable\n",
    "\n",
    "plt.figure(figsize=(16,9))\n",
    "\n",
    "g = sns.boxplot(\n",
    "            \n",
    "            x=\"stage\",\n",
    "            y=\"value\",\n",
    "            hue=\"title\",\n",
    "            fliersize=0,\n",
    "            order=o,\n",
    "            palette = 'Blues',\n",
    "#             order=['Bla_15','Dre_8som','Ola_8som'],\n",
    "            data=toplot\n",
    "            )\n",
    "plt.legend(loc='upper left')\n",
    "sns.despine()\n",
    "\n",
    "plt.title(\"Number of peaks in each gene's GREAT region \\n\\\n",
    "          Genes are split in categories depending on how many paralogs exist in Mmu (1-2, 1-3 etc) \\n\\\n",
    "          In each category, the paralogue with the least and the one with the most peaks are plotted separately (min, max)\")\n",
    "\n",
    "plt.ylim((0,60))\n",
    "\n",
    "_ = g.set_xticklabels(g.xaxis.get_majorticklabels(), rotation=90)"
   ]
  },
  {
   "cell_type": "markdown",
   "metadata": {},
   "source": [
    "##  Splitting min and max ohnologues"
   ]
  },
  {
   "cell_type": "code",
   "execution_count": 178,
   "metadata": {
    "collapsed": true
   },
   "outputs": [],
   "source": [
    "lot = {}\n",
    "lot['Dre'] = []\n",
    "lot['Bla'] = []\n",
    "lot['Ola'] = []\n",
    "\n",
    "\n",
    "for mask,title in zip(masks, titles):\n",
    "    for i,row in genefams.loc[mask,['Bla','Dre','Ola']].iterrows():\n",
    "        for spec in ['Bla','Dre','Ola']:\n",
    "            try:\n",
    "                lgl = row[spec]\n",
    "                if lgl == lgl:\n",
    "                    slaice = big_ind[spec].loc[lgl, stages[spec]]\n",
    "                    slaice = pd.concat([slaice.min(),slaice.max()], axis=1)\n",
    "                    slaice.columns = ['min','max']\n",
    "                    slaice['stage'] = spec + \"_\" + slaice.index.values\n",
    "                    slaice = pd.melt(slaice, id_vars=['stage'])\n",
    "                    slaice['title'] = title\n",
    "                    \n",
    "                    lot[spec].append( slaice )\n",
    "            except:\n",
    "                pass\n",
    "lot['Dre'] = pd.concat(lot['Dre'])\n",
    "lot['Bla'] = pd.concat(lot['Bla'])\n",
    "lot['Ola'] = pd.concat(lot['Ola'])\n",
    "\n",
    "\n",
    "bigmelt3 = pd.concat([lot['Dre']\n",
    "                     , lot['Bla']\n",
    "                     , lot['Ola']])"
   ]
  },
  {
   "cell_type": "code",
   "execution_count": 179,
   "metadata": {},
   "outputs": [
    {
     "data": {
      "image/png": "[encoded data removed]",
      "text/plain": [
       "<matplotlib.figure.Figure at 0xc066b10>"
      ]
     },
     "metadata": {},
     "output_type": "display_data"
    },
    {
     "data": {
      "image/png": "[encoded data removed]",
      "text/plain": [
       "<matplotlib.figure.Figure at 0xfb47c10>"
      ]
     },
     "metadata": {},
     "output_type": "display_data"
    }
   ],
   "source": [
    "# a hand-made palette\n",
    "bcp = sns.color_palette('Blues',4)\n",
    "sns.palplot(bcp)\n",
    "rcp = sns.color_palette('Reds',4)\n",
    "sns.palplot(rcp)\n",
    "mycp = {\n",
    "#  '1-1max':(0.8141176470588235, 0.883921568627451, 0.9498039215686275),\n",
    "    '1-1max':(0.9027451 ,  0.83764706,  0.82901961),\n",
    "    '1-1min':(0.9913725490196079, 0.7913725490196079, 0.7082352941176471),\n",
    "    '1-2max':(0.5796078431372549, 0.7701960784313725, 0.8737254901960784),\n",
    "    '1-2min':(0.9874509803921568, 0.5411764705882353, 0.41568627450980394),\n",
    "    '1-3max':(0.2909803921568628, 0.5945098039215686, 0.7890196078431373),\n",
    "    '1-3min':(0.9466666666666667, 0.26823529411764707, 0.19607843137254902),\n",
    "    '1-4max':(0.09019607843137256, 0.39294117647058824, 0.6705882352941177),\n",
    "    '1-4min':(0.7364705882352941, 0.08, 0.10117647058823528),\n",
    "    '_':(0,0,0)}"
   ]
  },
  {
   "cell_type": "code",
   "execution_count": 180,
   "metadata": {
    "collapsed": true
   },
   "outputs": [],
   "source": [
    "oMF2 = ['Bla_15','Dre_8som','Ola_8som']\n",
    "foo = bigmelt3[bigmelt3.stage.isin(oMF2)].copy()\n",
    "foo['nf'] = foo.title + foo.variable\n",
    "\n",
    "foo['norm'] = 0"
   ]
  },
  {
   "cell_type": "code",
   "execution_count": 211,
   "metadata": {},
   "outputs": [
    {
     "data": {
      "text/plain": [
       "(0, 60)"
      ]
     },
     "execution_count": 211,
     "metadata": {},
     "output_type": "execute_result"
    },
    {
     "data": {
      "image/png": "[encoded data removed]",
      "text/plain": [
       "<matplotlib.figure.Figure at 0x1184b710>"
      ]
     },
     "metadata": {},
     "output_type": "display_data"
    }
   ],
   "source": [
    "toplot = foo.copy()\n",
    "toplot['hew'] = toplot.title  + toplot.variable\n",
    "\n",
    "plt.figure(figsize=(12,9))\n",
    "\n",
    "g = sns.boxplot(\n",
    "            \n",
    "            x=\"stage\",\n",
    "            y=\"value\",\n",
    "            hue=\"hew\",\n",
    "            fliersize=0,\n",
    "            hue_order=['1-1max','_','1-2min','1-2max','1-3min','1-3max','1-4min','1-4max'],\n",
    "            palette = mycp,\n",
    "            order=['Bla_15','Dre_8som','Ola_8som'],\n",
    "            data=toplot\n",
    "            )\n",
    "plt.legend(loc='upper left')\n",
    "sns.despine()\n",
    "\n",
    "\n",
    "# It has gotten a bit too hairy to dynamically annotate at this point\n",
    "# so we'll do a bit of manual work\n",
    "# The pvalues are calculated in the following cell\n",
    "plt.text( 0.65 , 40, \"0.0\", ha='center', va='bottom',  rotation=90)\n",
    "plt.text( 0.85 , 30, \"greater: 3.46e-14\", ha='center', va='bottom',  rotation=90)\n",
    "plt.text( 0.92 , 50, \"9.61e-174\", ha='center', va='bottom',  rotation=90)\n",
    "plt.text( 1.05 , 30, \"-\", ha='center', va='bottom',  rotation=90)\n",
    "plt.text( 1.12 , 50, \"1.47e-89\", ha='center', va='bottom',  rotation=90)\n",
    "plt.text( 1.25 , 30, \"less: 0.01\", ha='center', va='bottom',  rotation=90)\n",
    "plt.text( 1.32 , 50, \"3.23e-33\", ha='center', va='bottom',  rotation=90)\n",
    "plt.text( 1.65 , 40, \"0.0\", ha='center', va='bottom',  rotation=90)\n",
    "plt.text( 1.85 , 30, \" 3.30e-24\", ha='center', va='bottom',  rotation=90)\n",
    "plt.text( 1.95 , 50, \"3.38e-172\", ha='center', va='bottom',  rotation=90)\n",
    "plt.text( 2.05 , 30, \"greater: 0.005\", ha='center', va='bottom',  rotation=90)\n",
    "plt.text( 2.12 , 50, \"2.18e-74\", ha='center', va='bottom',  rotation=90)\n",
    "plt.text( 2.25 , 30, \"less: 0.02\", ha='center', va='bottom',  rotation=90)\n",
    "plt.text( 2.32 , 50, \"8.37e-30\", ha='center', va='bottom',  rotation=90)\n",
    "\n",
    "\n",
    "plt.title(\"Number of peaks in each gene's GREAT region \\n\\\n",
    "          Genes are split in categories depending on how many paralogs exist in Mmu (1-2, 1-3 etc) \\n\\\n",
    "          In each category, the paralogue with the least and the one with the most peaks are plotted separately (min, max)\")\n",
    "\n",
    "plt.ylim((0,60))"
   ]
  },
  {
   "cell_type": "code",
   "execution_count": 212,
   "metadata": {},
   "outputs": [
    {
     "name": "stdout",
     "output_type": "stream",
     "text": [
      "('Dre', '1-1max', 'more', 0.0)\n",
      "('Ola', '1-1max', 'more', 0.0)\n",
      "('Dre', '1-2min', 'less', 0.99999999999996547)\n",
      "('Ola', '1-2min', 'less', 1.0)\n",
      "('Dre', '1-2min', 'more', 3.459507310252893e-14)\n",
      "('Ola', '1-2min', 'more', 3.3047851343871662e-24)\n",
      "('Dre', '1-3min', 'less', 0.66659114337340575)\n",
      "('Ola', '1-3min', 'less', 0.99464562024448655)\n",
      "('Dre', '1-3min', 'more', 0.33350122204750859)\n",
      "('Ola', '1-3min', 'more', 0.0053583481767077784)\n",
      "('Dre', '1-4min', 'less', 0.015763434616092996)\n",
      "('Ola', '1-4min', 'less', 0.028104217143940482)\n",
      "('Dre', '1-4min', 'more', 0.98429894545485386)\n",
      "('Ola', '1-4min', 'more', 0.97199877782001332)\n",
      "('Dre', '1-2max', 'more', 9.6127869431728075e-174)\n",
      "('Ola', '1-2max', 'more', 3.3811788730221686e-172)\n",
      "('Dre', '1-3max', 'more', 1.4682607834187557e-89)\n",
      "('Ola', '1-3max', 'more', 2.1794964873640723e-74)\n",
      "('Dre', '1-4max', 'more', 3.2280779910634794e-33)\n",
      "('Ola', '1-4max', 'more', 8.3695742514410374e-30)\n"
     ]
    }
   ],
   "source": [
    "sel = lambda enef,variable: toplot.loc[(toplot.hew==enef) & (toplot.stage==variable), 'value'].values\n",
    "for enef in ['1-1max','1-2min','1-3min','1-4min','1-2max','1-3max','1-4max']:\n",
    "    if enef.endswith(\"min\"):\n",
    "        print('Dre',enef,'less', MWU(sel(enef,'Dre_8som'),sel(enef,'Bla_15'), alternative='less')[1])\n",
    "        print('Ola',enef,'less', MWU(sel(enef,'Ola_8som'),sel(enef,'Bla_15'), alternative='less')[1])\n",
    "        print('Dre',enef,'more', MWU(sel(enef,'Dre_8som'),sel(enef,'Bla_15'), alternative='greater')[1])\n",
    "        print('Ola',enef,'more', MWU(sel(enef,'Ola_8som'),sel(enef,'Bla_15'), alternative='greater')[1])\n",
    "    else:\n",
    "        print('Dre',enef,'more', MWU(sel(enef,'Dre_8som'),sel(enef,'Bla_15'), alternative='greater')[1])\n",
    "        print('Ola',enef,'more', MWU(sel(enef,'Ola_8som'),sel(enef,'Bla_15'), alternative='greater')[1])"
   ]
  },
  {
   "cell_type": "code",
   "execution_count": null,
   "metadata": {
    "collapsed": true
   },
   "outputs": [],
   "source": []
  },
  {
   "cell_type": "code",
   "execution_count": 216,
   "metadata": {},
   "outputs": [
    {
     "data": {
      "image/png": "[encoded data removed]",
      "text/plain": [
       "<matplotlib.figure.Figure at 0x797a410>"
      ]
     },
     "metadata": {},
     "output_type": "display_data"
    }
   ],
   "source": [
    "o = ['Bla_8','Bla_15','Bla_36','Bla_60',' ',\n",
    "    'Dre_dome','Dre_shield','Dre_80epi','Dre_8som','Dre_24h','Dre_48h',' ',\n",
    "    'Ola_dome','Ola_shield','Ola_8som','Ola_24h','Ola_48h']\n",
    "\n",
    "foo = bigmelt3[bigmelt3.stage.isin(o)].copy()\n",
    "foo['nf'] = foo.title + foo.variable\n",
    "foo['norm'] = 0\n",
    "fig, ax = plt.subplots(figsize=(27,9))\n",
    "\n",
    "\n",
    "g = sns.boxplot(\n",
    "            \n",
    "            x=\"stage\",\n",
    "            y=\"value\",\n",
    "            hue=\"nf\",\n",
    "            fliersize=0,\n",
    "            hue_order=['1-1max','_','1-2min','1-2max','1-3min','1-3max','1-4min','1-4max'],\n",
    "            palette = mycp,\n",
    "            order=o,\n",
    "#             palette='Blues',\n",
    "            \n",
    "            data=foo,\n",
    "            ax=ax\n",
    "            )\n",
    "plt.legend(loc='upper left')\n",
    "sns.despine()\n",
    "\n",
    "\n",
    "# plt.title(\"Number of peaks in each gene's GREAT region \\n\\\n",
    "#           Genes are split in categories depending on how many paralogs exist in Mmu (1-2, 1-3 etc) \\n\\\n",
    "#           In each category, the paralogue with the least and the one with the most peaks are plotted separately (min, max)\")\n",
    "\n",
    "ax.set_ylim((0,58))\n",
    "\n",
    "\n",
    "\n",
    "ax.tick_params(direction ='in', axis='y',\n",
    "               length=10, width=1, colors='black',labelsize='x-large')\n",
    "_ = ax.set_xticklabels(ax.xaxis.get_majorticklabels(), rotation=90)\n",
    "\n",
    "sns.despine()"
   ]
  }
 ],
 "metadata": {
  "kernelspec": {
   "display_name": "Python2 venv",
   "language": "python",
   "name": "python2"
  },
  "language_info": {
   "codemirror_mode": {
    "name": "ipython",
    "version": 2
   },
   "file_extension": ".py",
   "mimetype": "text/x-python",
   "name": "python",
   "nbconvert_exporter": "python",
   "pygments_lexer": "ipython2",
   "version": "2.7.5"
  }
 },
 "nbformat": 4,
 "nbformat_minor": 1
}
