{
 "cells": [
  {
   "cell_type": "code",
   "execution_count": 1,
   "metadata": {},
   "outputs": [],
   "source": [
    "import pandas as pd\n",
    "import numpy as np\n",
    "\n",
    "from glob import glob\n",
    "import re\n",
    "\n",
    "from pybedtools import BedTool as BT\n",
    "\n",
    "%matplotlib inline\n",
    "import seaborn as sns\n",
    "from matplotlib import pyplot as plt\n",
    "import matplotlib\n",
    "\n",
    "from scipy.stats import mannwhitneyu as MWU\n",
    "from math import log"
   ]
  },
  {
   "cell_type": "markdown",
   "metadata": {},
   "source": [
    "### Downsampling\n",
    "\n",
    "In this analysis, we have called peaks (macs2 in each replicate, then idr peaks on the results of the macs2 peaks) in all stages, with increasingly lower number of reads. \n",
    "\n",
    "The number of reads was chosen so as to have 100%, 90%, 80% etc of the amphioxus number.    \n",
    "    \n",
    "The question is, do we still have more peaks in the vertebrates with worse (less reads) experiments?"
   ]
  },
  {
   "cell_type": "code",
   "execution_count": 3,
   "metadata": {},
   "outputs": [
    {
     "name": "stdout",
     "output_type": "stream",
     "text": [
      "[('Mmu', 18814), ('Bla', 18943), ('Dre', 19837), ('Ola', 15473)]\n"
     ]
    }
   ],
   "source": [
    "greg = {}\n",
    "\n",
    "greg['Dre'] = pd.read_csv(\"./data/genomic_regions/intergenics_Dre.tsv.gz\", sep='\\t', header=None)\n",
    "greg['Dre'].columns = ['chrom','start','end','gene1','gene2']\n",
    "greg['Dre']['score'] = greg['Dre']['end'] - greg['Dre']['start']\n",
    "\n",
    "greg['Bla'] = pd.read_csv(\"./data/genomic_regions/intergenics_Bla.tsv.gz\", sep='\\t', header=None)\n",
    "greg['Bla'].columns = ['chrom','start','end','gene1','gene2']\n",
    "greg['Bla']['score'] = greg['Bla']['end'] - greg['Bla']['start']\n",
    "\n",
    "greg['Ola'] = pd.read_csv(\"./data/genomic_regions/intergenics_Ola.tsv.gz\", sep='\\t', header=None)\n",
    "greg['Ola'].columns = ['chrom','start','end','gene1','gene2']\n",
    "greg['Ola']['score'] = greg['Ola']['end'] - greg['Ola']['start']\n",
    "\n",
    "greg['Mmu'] = pd.read_csv(\"./data/genomic_regions/intergenics_Mmu.tsv.gz\", sep='\\t', header=None)\n",
    "greg['Mmu'].columns = ['chrom','start','end','gene1','gene2']\n",
    "greg['Mmu']['score'] = greg['Mmu']['end'] - greg['Mmu']['start']\n",
    "\n",
    "print( [(k,len(v)) for k,v in greg.items()])"
   ]
  },
  {
   "cell_type": "code",
   "execution_count": 4,
   "metadata": {},
   "outputs": [],
   "source": [
    "stages = {}\n",
    "stages['Bla'] = ['15']\n",
    "stages['Dre'] = [\"8som\"]\n",
    "stages['Ola'] = [\"8som\"]"
   ]
  },
  {
   "cell_type": "markdown",
   "metadata": {},
   "source": [
    "We will normalize the number of reads based on the amount of available genome in each species.    \n",
    "That is the total genome minus the regions covered by the repeat masker.    \n",
    "    \n",
    "Unintuitively, medaka ends up with more available genome that zebrafish because of the very large number\n",
    "of blacklisted regions in zebrafish."
   ]
  },
  {
   "cell_type": "code",
   "execution_count": 5,
   "metadata": {},
   "outputs": [
    {
     "data": {
      "text/plain": [
       "{'Bla': 347547588.0, 'Dre': 653072511.0, 'Ola': 846778620.0}"
      ]
     },
     "execution_count": 5,
     "metadata": {},
     "output_type": "execute_result"
    }
   ],
   "source": [
    "genome_size = {'Dre': 1.37e9,\n",
    "              'Bla' : 0.5e9,\n",
    "              'Ola' : 0.87e9}\n",
    "rep_regions = {'Dre' : 716927489,\n",
    "              'Bla' : 152452412,\n",
    "               'Ola': 23221380\n",
    "              }\n",
    "avail_genome = { k:genome_size[k]-rep_regions[k] for k in ['Dre','Bla','Ola']  }\n",
    "avail_genome"
   ]
  },
  {
   "cell_type": "code",
   "execution_count": null,
   "metadata": {},
   "outputs": [],
   "source": []
  },
  {
   "cell_type": "code",
   "execution_count": 6,
   "metadata": {},
   "outputs": [],
   "source": [
    "# # This is how many reads the bla sample has.\n",
    "# # It was much easier to hard code this number than to count in this notebook:\n",
    "\n",
    "# We calculate coverage as the #ofReads per kilobase of available genome:\n",
    "Bla_coverage = 9200000*1000/ avail_genome['Bla']\n",
    "# the percentages are not exactly 70 or 80 etc, so we will force-smooth them a tiny bit to\n",
    "# make the graphs better.\n",
    "fixcols =[1,10,20,30,40,50,60,70,80,90,100]"
   ]
  },
  {
   "cell_type": "markdown",
   "metadata": {},
   "source": [
    "We have the downsample series in the data subfolder, so lets load them up:"
   ]
  },
  {
   "cell_type": "code",
   "execution_count": 26,
   "metadata": {},
   "outputs": [],
   "source": [
    "greg_ = BT().from_dataframe(greg['Dre']).sort()\n",
    "pre_cols = ['chrom','start','end','gene1','gene2','score']\n",
    "cols = []\n",
    "    \n",
    "for thing in glob(\"./data/atac_peaks/downsampling/zebra_danRer10_8som_*_idr01Peaks.bed.gz\"):\n",
    "    reads = int(re.findall(r\"[0-9]+\", thing)[2])\n",
    "    \n",
    "    #     The coverage in this experiment:\n",
    "    cov = reads*1000/avail_genome['Dre']\n",
    "    #    The coverage in relation to the Bla one\n",
    "    cov = round(cov*100 / Bla_coverage,2)\n",
    "    cov = int(round(cov))\n",
    "    cols.append( cov )\n",
    "    greg_ = greg_.intersect(b=BT( thing ), nonamecheck=True, c=True)\n",
    "\n",
    "counts_Dre = greg_.to_dataframe(names=pre_cols+cols)   \n",
    "counts_Dre = counts_Dre[pre_cols+ sorted(cols)]\n",
    "counts_Dre.columns = pre_cols + fixcols\n",
    "\n",
    "dre_melt1 = pd.melt(counts_Dre[['gene1']+fixcols], id_vars='gene1')\n",
    "dre_melt1.columns = ['gene','pc','count']\n",
    "\n",
    "dre_melt2 = pd.melt(counts_Dre[['gene2']+fixcols], id_vars='gene2')\n",
    "dre_melt2.columns = ['gene','pc','count']\n",
    "\n",
    "dre_melt = pd.concat([dre_melt1,dre_melt2]).groupby(['gene','pc']).sum().reset_index(drop=False)"
   ]
  },
  {
   "cell_type": "markdown",
   "metadata": {},
   "source": [
    "Same for medaka:"
   ]
  },
  {
   "cell_type": "code",
   "execution_count": 27,
   "metadata": {},
   "outputs": [],
   "source": [
    "greg_ = BT().from_dataframe(greg['Ola']).sort()\n",
    "pre_cols = ['chrom','start','end','gene1','gene2','score']\n",
    "cols = []\n",
    "    \n",
    "for thing in glob(\"./data/atac_peaks/downsampling/medaka_8som_*_idr01Peaks.bed.gz\"):\n",
    "    reads = int(re.findall(r\"[0-9]+\", thing)[1])\n",
    "    \n",
    "    cov = reads*1000/avail_genome['Ola']\n",
    "    cov = round(cov*100 / Bla_coverage,2)\n",
    "    cov = int(round(cov))\n",
    "    \n",
    "    cols.append( cov )\n",
    "    greg_ = greg_.intersect(b=BT( thing ), nonamecheck=True, c=True)\n",
    "\n",
    "counts_Ola = greg_.to_dataframe(names=pre_cols+cols)   \n",
    "counts_Ola = counts_Ola[pre_cols+ sorted(cols)]\n",
    "counts_Ola.columns = pre_cols + fixcols\n",
    "\n",
    "ola_melt1 = pd.melt(counts_Ola[['gene1']+fixcols], id_vars='gene1')\n",
    "ola_melt1.columns = ['gene','pc','count']\n",
    "\n",
    "ola_melt2 = pd.melt(counts_Ola[['gene2']+fixcols], id_vars='gene2')\n",
    "ola_melt2.columns = ['gene','pc','count']\n",
    "\n",
    "ola_melt = pd.concat([ola_melt1,ola_melt2]).groupby(['gene','pc']).sum().reset_index(drop=False)"
   ]
  },
  {
   "cell_type": "markdown",
   "metadata": {},
   "source": [
    "For amphioxus we'll only load two stages, the full non-downsampled one (101%) and the very minimally downsampled one (100%), which has only been downsampled so that the two replicates have the same number of reads."
   ]
  },
  {
   "cell_type": "code",
   "execution_count": 37,
   "metadata": {},
   "outputs": [],
   "source": [
    "org = \"bla\"\n",
    "stage='15'\n",
    "\n",
    "full_peaks = './data/atac_peaks/amphi_15_idrpeaks.bed.gz'\n",
    "sub_peaks = './data/atac_peaks/downsampling/amphi_15_9200000_idr01Peaks.bed.gz'\n",
    "\n",
    "\n",
    "greg_ = BT().from_dataframe(greg['Bla']).sort()\n",
    "cols = ['chrom','start','end','gene1','gene2','score']\n",
    "\n",
    "greg_ = greg_.intersect(b=BT( full_peaks ), nonamecheck=True, c=True)\n",
    "greg_ = greg_.intersect(b=BT( sub_peaks ), nonamecheck=True, c=True)\n",
    "\n",
    "counts_Bla = greg_.to_dataframe(names=cols + [101,100])\n",
    "\n",
    "bla_melt1 = pd.melt(counts_Bla[['gene1']+[101,100]], id_vars='gene1')\n",
    "bla_melt1.columns = ['gene','pc','count']\n",
    "\n",
    "bla_melt2 = pd.melt(counts_Bla[['gene2']+[101,100]], id_vars='gene2')\n",
    "bla_melt2.columns = ['gene','pc','count']\n",
    "\n",
    "bla_melt = pd.concat([bla_melt1,bla_melt2]).groupby(['gene','pc']).sum().reset_index(drop=False)"
   ]
  },
  {
   "cell_type": "code",
   "execution_count": 38,
   "metadata": {},
   "outputs": [],
   "source": [
    "bla_melt['species'] = 'bla'\n",
    "ola_melt['species'] = 'ola'\n",
    "dre_melt['species'] = 'dre'"
   ]
  },
  {
   "cell_type": "code",
   "execution_count": 39,
   "metadata": {},
   "outputs": [
    {
     "data": {
      "text/html": [
       "<div>\n",
       "<style>\n",
       "    .dataframe thead tr:only-child th {\n",
       "        text-align: right;\n",
       "    }\n",
       "\n",
       "    .dataframe thead th {\n",
       "        text-align: left;\n",
       "    }\n",
       "\n",
       "    .dataframe tbody tr th {\n",
       "        vertical-align: top;\n",
       "    }\n",
       "</style>\n",
       "<table border=\"1\" class=\"dataframe\">\n",
       "  <thead>\n",
       "    <tr style=\"text-align: right;\">\n",
       "      <th></th>\n",
       "      <th>gene</th>\n",
       "      <th>pc</th>\n",
       "      <th>count</th>\n",
       "      <th>species</th>\n",
       "    </tr>\n",
       "  </thead>\n",
       "  <tbody>\n",
       "    <tr>\n",
       "      <th>0</th>\n",
       "      <td>BL00000</td>\n",
       "      <td>100</td>\n",
       "      <td>6</td>\n",
       "      <td>bla</td>\n",
       "    </tr>\n",
       "    <tr>\n",
       "      <th>1</th>\n",
       "      <td>BL00000</td>\n",
       "      <td>101</td>\n",
       "      <td>7</td>\n",
       "      <td>bla</td>\n",
       "    </tr>\n",
       "  </tbody>\n",
       "</table>\n",
       "</div>"
      ],
      "text/plain": [
       "      gene   pc  count species\n",
       "0  BL00000  100      6     bla\n",
       "1  BL00000  101      7     bla"
      ]
     },
     "execution_count": 39,
     "metadata": {},
     "output_type": "execute_result"
    }
   ],
   "source": [
    "bla_melt.head(2)"
   ]
  },
  {
   "cell_type": "code",
   "execution_count": 40,
   "metadata": {},
   "outputs": [
    {
     "data": {
      "text/html": [
       "<div>\n",
       "<style>\n",
       "    .dataframe thead tr:only-child th {\n",
       "        text-align: right;\n",
       "    }\n",
       "\n",
       "    .dataframe thead th {\n",
       "        text-align: left;\n",
       "    }\n",
       "\n",
       "    .dataframe tbody tr th {\n",
       "        vertical-align: top;\n",
       "    }\n",
       "</style>\n",
       "<table border=\"1\" class=\"dataframe\">\n",
       "  <thead>\n",
       "    <tr style=\"text-align: right;\">\n",
       "      <th></th>\n",
       "      <th>gene</th>\n",
       "      <th>pc</th>\n",
       "      <th>count</th>\n",
       "      <th>species</th>\n",
       "    </tr>\n",
       "  </thead>\n",
       "  <tbody>\n",
       "    <tr>\n",
       "      <th>0</th>\n",
       "      <td>ENSORLG00000000002</td>\n",
       "      <td>1</td>\n",
       "      <td>0</td>\n",
       "      <td>ola</td>\n",
       "    </tr>\n",
       "    <tr>\n",
       "      <th>1</th>\n",
       "      <td>ENSORLG00000000002</td>\n",
       "      <td>10</td>\n",
       "      <td>1</td>\n",
       "      <td>ola</td>\n",
       "    </tr>\n",
       "  </tbody>\n",
       "</table>\n",
       "</div>"
      ],
      "text/plain": [
       "                 gene  pc  count species\n",
       "0  ENSORLG00000000002   1      0     ola\n",
       "1  ENSORLG00000000002  10      1     ola"
      ]
     },
     "execution_count": 40,
     "metadata": {},
     "output_type": "execute_result"
    }
   ],
   "source": [
    "ola_melt.head(2)"
   ]
  },
  {
   "cell_type": "code",
   "execution_count": 41,
   "metadata": {},
   "outputs": [
    {
     "data": {
      "text/html": [
       "<div>\n",
       "<style>\n",
       "    .dataframe thead tr:only-child th {\n",
       "        text-align: right;\n",
       "    }\n",
       "\n",
       "    .dataframe thead th {\n",
       "        text-align: left;\n",
       "    }\n",
       "\n",
       "    .dataframe tbody tr th {\n",
       "        vertical-align: top;\n",
       "    }\n",
       "</style>\n",
       "<table border=\"1\" class=\"dataframe\">\n",
       "  <thead>\n",
       "    <tr style=\"text-align: right;\">\n",
       "      <th></th>\n",
       "      <th>gene</th>\n",
       "      <th>pc</th>\n",
       "      <th>count</th>\n",
       "      <th>species</th>\n",
       "    </tr>\n",
       "  </thead>\n",
       "  <tbody>\n",
       "    <tr>\n",
       "      <th>0</th>\n",
       "      <td>ENSDARG00000000001</td>\n",
       "      <td>1</td>\n",
       "      <td>0</td>\n",
       "      <td>dre</td>\n",
       "    </tr>\n",
       "    <tr>\n",
       "      <th>1</th>\n",
       "      <td>ENSDARG00000000001</td>\n",
       "      <td>10</td>\n",
       "      <td>0</td>\n",
       "      <td>dre</td>\n",
       "    </tr>\n",
       "  </tbody>\n",
       "</table>\n",
       "</div>"
      ],
      "text/plain": [
       "                 gene  pc  count species\n",
       "0  ENSDARG00000000001   1      0     dre\n",
       "1  ENSDARG00000000001  10      0     dre"
      ]
     },
     "execution_count": 41,
     "metadata": {},
     "output_type": "execute_result"
    }
   ],
   "source": [
    "dre_melt.head(2)"
   ]
  },
  {
   "cell_type": "code",
   "execution_count": 42,
   "metadata": {},
   "outputs": [
    {
     "data": {
      "text/html": [
       "<div>\n",
       "<style>\n",
       "    .dataframe thead tr:only-child th {\n",
       "        text-align: right;\n",
       "    }\n",
       "\n",
       "    .dataframe thead th {\n",
       "        text-align: left;\n",
       "    }\n",
       "\n",
       "    .dataframe tbody tr th {\n",
       "        vertical-align: top;\n",
       "    }\n",
       "</style>\n",
       "<table border=\"1\" class=\"dataframe\">\n",
       "  <thead>\n",
       "    <tr style=\"text-align: right;\">\n",
       "      <th></th>\n",
       "      <th>gene</th>\n",
       "      <th>pc</th>\n",
       "      <th>count</th>\n",
       "      <th>species</th>\n",
       "    </tr>\n",
       "  </thead>\n",
       "  <tbody>\n",
       "    <tr>\n",
       "      <th>166483</th>\n",
       "      <td>ENSORLG00000019726</td>\n",
       "      <td>90</td>\n",
       "      <td>4</td>\n",
       "      <td>ola</td>\n",
       "    </tr>\n",
       "    <tr>\n",
       "      <th>133702</th>\n",
       "      <td>ENSDARG00000070284</td>\n",
       "      <td>80</td>\n",
       "      <td>4</td>\n",
       "      <td>dre</td>\n",
       "    </tr>\n",
       "    <tr>\n",
       "      <th>122603</th>\n",
       "      <td>ENSDARG00000062770</td>\n",
       "      <td>80</td>\n",
       "      <td>8</td>\n",
       "      <td>dre</td>\n",
       "    </tr>\n",
       "    <tr>\n",
       "      <th>143676</th>\n",
       "      <td>ENSDARG00000075007</td>\n",
       "      <td>50</td>\n",
       "      <td>8</td>\n",
       "      <td>dre</td>\n",
       "    </tr>\n",
       "    <tr>\n",
       "      <th>131704</th>\n",
       "      <td>ENSORLG00000014929</td>\n",
       "      <td>10</td>\n",
       "      <td>3</td>\n",
       "      <td>ola</td>\n",
       "    </tr>\n",
       "  </tbody>\n",
       "</table>\n",
       "</div>"
      ],
      "text/plain": [
       "                      gene  pc  count species\n",
       "166483  ENSORLG00000019726  90      4     ola\n",
       "133702  ENSDARG00000070284  80      4     dre\n",
       "122603  ENSDARG00000062770  80      8     dre\n",
       "143676  ENSDARG00000075007  50      8     dre\n",
       "131704  ENSORLG00000014929  10      3     ola"
      ]
     },
     "execution_count": 42,
     "metadata": {},
     "output_type": "execute_result"
    }
   ],
   "source": [
    "toplot = pd.concat([dre_melt, ola_melt, bla_melt])\n",
    "toplot.sample(5)"
   ]
  },
  {
   "cell_type": "code",
   "execution_count": 43,
   "metadata": {},
   "outputs": [
    {
     "data": {
      "text/plain": [
       "<matplotlib.legend.Legend at 0x7836990>"
      ]
     },
     "execution_count": 43,
     "metadata": {},
     "output_type": "execute_result"
    },
    {
     "data": {
      "image/png": "[encoded data removed]",
      "text/plain": [
       "<matplotlib.figure.Figure at 0x78361d0>"
      ]
     },
     "metadata": {},
     "output_type": "display_data"
    }
   ],
   "source": [
    "plt.figure(figsize=(16,9))\n",
    "\n",
    "\n",
    "\n",
    "sns.boxplot(\n",
    "    data=toplot,\n",
    "    \n",
    "    x = 'species',\n",
    "    order= ['bla','dre','ola'],\n",
    "    hue='pc',\n",
    "    hue_order=[101,100,90,80,70,60,50,40,30,20,10,0],\n",
    "    \n",
    "    fliersize=0,\n",
    "    y='count',\n",
    "    palette='Blues_r'\n",
    ")\n",
    "\n",
    "plt.ylim((0,25))\n",
    "plt.legend(loc='upper left')"
   ]
  },
  {
   "cell_type": "markdown",
   "metadata": {},
   "source": [
    "Let's calculate some PValues:"
   ]
  },
  {
   "cell_type": "code",
   "execution_count": 44,
   "metadata": {},
   "outputs": [
    {
     "data": {
      "text/html": [
       "<div>\n",
       "<style>\n",
       "    .dataframe thead tr:only-child th {\n",
       "        text-align: right;\n",
       "    }\n",
       "\n",
       "    .dataframe thead th {\n",
       "        text-align: left;\n",
       "    }\n",
       "\n",
       "    .dataframe tbody tr th {\n",
       "        vertical-align: top;\n",
       "    }\n",
       "</style>\n",
       "<table border=\"1\" class=\"dataframe\">\n",
       "  <thead>\n",
       "    <tr style=\"text-align: right;\">\n",
       "      <th></th>\n",
       "      <th>species</th>\n",
       "      <th>% of reads</th>\n",
       "      <th>pVal to downsampled Amphi</th>\n",
       "      <th>pVal to full Amphi</th>\n",
       "    </tr>\n",
       "  </thead>\n",
       "  <tbody>\n",
       "    <tr>\n",
       "      <th>0</th>\n",
       "      <td>dre</td>\n",
       "      <td>1</td>\n",
       "      <td>1.000000e+00</td>\n",
       "      <td>1.000000e+00</td>\n",
       "    </tr>\n",
       "    <tr>\n",
       "      <th>1</th>\n",
       "      <td>dre</td>\n",
       "      <td>10</td>\n",
       "      <td>1.000000e+00</td>\n",
       "      <td>1.000000e+00</td>\n",
       "    </tr>\n",
       "    <tr>\n",
       "      <th>2</th>\n",
       "      <td>dre</td>\n",
       "      <td>20</td>\n",
       "      <td>4.746324e-186</td>\n",
       "      <td>3.194226e-28</td>\n",
       "    </tr>\n",
       "    <tr>\n",
       "      <th>3</th>\n",
       "      <td>dre</td>\n",
       "      <td>30</td>\n",
       "      <td>8.176680e-251</td>\n",
       "      <td>1.137817e-55</td>\n",
       "    </tr>\n",
       "    <tr>\n",
       "      <th>4</th>\n",
       "      <td>dre</td>\n",
       "      <td>40</td>\n",
       "      <td>0.000000e+00</td>\n",
       "      <td>0.000000e+00</td>\n",
       "    </tr>\n",
       "    <tr>\n",
       "      <th>5</th>\n",
       "      <td>dre</td>\n",
       "      <td>50</td>\n",
       "      <td>0.000000e+00</td>\n",
       "      <td>0.000000e+00</td>\n",
       "    </tr>\n",
       "    <tr>\n",
       "      <th>6</th>\n",
       "      <td>dre</td>\n",
       "      <td>60</td>\n",
       "      <td>0.000000e+00</td>\n",
       "      <td>0.000000e+00</td>\n",
       "    </tr>\n",
       "    <tr>\n",
       "      <th>7</th>\n",
       "      <td>dre</td>\n",
       "      <td>70</td>\n",
       "      <td>0.000000e+00</td>\n",
       "      <td>0.000000e+00</td>\n",
       "    </tr>\n",
       "    <tr>\n",
       "      <th>8</th>\n",
       "      <td>dre</td>\n",
       "      <td>80</td>\n",
       "      <td>0.000000e+00</td>\n",
       "      <td>0.000000e+00</td>\n",
       "    </tr>\n",
       "    <tr>\n",
       "      <th>9</th>\n",
       "      <td>dre</td>\n",
       "      <td>90</td>\n",
       "      <td>0.000000e+00</td>\n",
       "      <td>0.000000e+00</td>\n",
       "    </tr>\n",
       "    <tr>\n",
       "      <th>10</th>\n",
       "      <td>dre</td>\n",
       "      <td>100</td>\n",
       "      <td>0.000000e+00</td>\n",
       "      <td>0.000000e+00</td>\n",
       "    </tr>\n",
       "    <tr>\n",
       "      <th>11</th>\n",
       "      <td>ola</td>\n",
       "      <td>1</td>\n",
       "      <td>1.000000e+00</td>\n",
       "      <td>1.000000e+00</td>\n",
       "    </tr>\n",
       "    <tr>\n",
       "      <th>12</th>\n",
       "      <td>ola</td>\n",
       "      <td>10</td>\n",
       "      <td>1.126460e-37</td>\n",
       "      <td>1.000000e+00</td>\n",
       "    </tr>\n",
       "    <tr>\n",
       "      <th>13</th>\n",
       "      <td>ola</td>\n",
       "      <td>20</td>\n",
       "      <td>0.000000e+00</td>\n",
       "      <td>0.000000e+00</td>\n",
       "    </tr>\n",
       "    <tr>\n",
       "      <th>14</th>\n",
       "      <td>ola</td>\n",
       "      <td>30</td>\n",
       "      <td>0.000000e+00</td>\n",
       "      <td>0.000000e+00</td>\n",
       "    </tr>\n",
       "    <tr>\n",
       "      <th>15</th>\n",
       "      <td>ola</td>\n",
       "      <td>40</td>\n",
       "      <td>0.000000e+00</td>\n",
       "      <td>0.000000e+00</td>\n",
       "    </tr>\n",
       "    <tr>\n",
       "      <th>16</th>\n",
       "      <td>ola</td>\n",
       "      <td>50</td>\n",
       "      <td>0.000000e+00</td>\n",
       "      <td>0.000000e+00</td>\n",
       "    </tr>\n",
       "    <tr>\n",
       "      <th>17</th>\n",
       "      <td>ola</td>\n",
       "      <td>60</td>\n",
       "      <td>0.000000e+00</td>\n",
       "      <td>0.000000e+00</td>\n",
       "    </tr>\n",
       "    <tr>\n",
       "      <th>18</th>\n",
       "      <td>ola</td>\n",
       "      <td>70</td>\n",
       "      <td>0.000000e+00</td>\n",
       "      <td>0.000000e+00</td>\n",
       "    </tr>\n",
       "    <tr>\n",
       "      <th>19</th>\n",
       "      <td>ola</td>\n",
       "      <td>80</td>\n",
       "      <td>0.000000e+00</td>\n",
       "      <td>0.000000e+00</td>\n",
       "    </tr>\n",
       "    <tr>\n",
       "      <th>20</th>\n",
       "      <td>ola</td>\n",
       "      <td>90</td>\n",
       "      <td>0.000000e+00</td>\n",
       "      <td>0.000000e+00</td>\n",
       "    </tr>\n",
       "    <tr>\n",
       "      <th>21</th>\n",
       "      <td>ola</td>\n",
       "      <td>100</td>\n",
       "      <td>0.000000e+00</td>\n",
       "      <td>0.000000e+00</td>\n",
       "    </tr>\n",
       "  </tbody>\n",
       "</table>\n",
       "</div>"
      ],
      "text/plain": [
       "   species  % of reads  pVal to downsampled Amphi  pVal to full Amphi\n",
       "0      dre           1               1.000000e+00        1.000000e+00\n",
       "1      dre          10               1.000000e+00        1.000000e+00\n",
       "2      dre          20              4.746324e-186        3.194226e-28\n",
       "3      dre          30              8.176680e-251        1.137817e-55\n",
       "4      dre          40               0.000000e+00        0.000000e+00\n",
       "5      dre          50               0.000000e+00        0.000000e+00\n",
       "6      dre          60               0.000000e+00        0.000000e+00\n",
       "7      dre          70               0.000000e+00        0.000000e+00\n",
       "8      dre          80               0.000000e+00        0.000000e+00\n",
       "9      dre          90               0.000000e+00        0.000000e+00\n",
       "10     dre         100               0.000000e+00        0.000000e+00\n",
       "11     ola           1               1.000000e+00        1.000000e+00\n",
       "12     ola          10               1.126460e-37        1.000000e+00\n",
       "13     ola          20               0.000000e+00        0.000000e+00\n",
       "14     ola          30               0.000000e+00        0.000000e+00\n",
       "15     ola          40               0.000000e+00        0.000000e+00\n",
       "16     ola          50               0.000000e+00        0.000000e+00\n",
       "17     ola          60               0.000000e+00        0.000000e+00\n",
       "18     ola          70               0.000000e+00        0.000000e+00\n",
       "19     ola          80               0.000000e+00        0.000000e+00\n",
       "20     ola          90               0.000000e+00        0.000000e+00\n",
       "21     ola         100               0.000000e+00        0.000000e+00"
      ]
     },
     "execution_count": 44,
     "metadata": {},
     "output_type": "execute_result"
    }
   ],
   "source": [
    "lot = []\n",
    "blavals = toplot.loc[(toplot.species=='bla') & (toplot.pc==101),'count'].values\n",
    "blavals_sub = toplot.loc[(toplot.species=='bla') & (toplot.pc==100),'count'].values\n",
    "\n",
    "for gn,g in toplot.groupby(['species','pc']):\n",
    "    species,pc = gn\n",
    "    if species=='bla':\n",
    "        continue\n",
    "    pv = MWU( g['count'].values , blavals, alternative='greater' ).pvalue\n",
    "    pv_sub = MWU( g['count'].values , blavals_sub, alternative='greater' ).pvalue\n",
    "    \n",
    "    lot.append([ species, pc, pv_sub,pv])\n",
    "    \n",
    "    \n",
    "df = pd.DataFrame(lot)\n",
    "df.columns = ['species','% of reads','pVal to downsampled Amphi','pVal to full Amphi']\n",
    "df"
   ]
  }
 ],
 "metadata": {
  "kernelspec": {
   "display_name": "Python2 venv",
   "language": "python",
   "name": "python2"
  },
  "language_info": {
   "codemirror_mode": {
    "name": "ipython",
    "version": 2
   },
   "file_extension": ".py",
   "mimetype": "text/x-python",
   "name": "python",
   "nbconvert_exporter": "python",
   "pygments_lexer": "ipython2",
   "version": "2.7.5"
  }
 },
 "nbformat": 4,
 "nbformat_minor": 1
}
