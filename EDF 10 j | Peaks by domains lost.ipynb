{
 "cells": [
  {
   "cell_type": "code",
   "execution_count": 1,
   "metadata": {},
   "outputs": [],
   "source": [
    "import pandas as pd\n",
    "from pybedtools import BedTool as BT\n",
    "\n",
    "%matplotlib inline\n",
    "import seaborn as sns\n",
    "from matplotlib import pyplot as plt\n",
    "# This saves fonts as fonts in the svg and not as shapes\n",
    "plt.rcParams['svg.fonttype'] = 'none'\n",
    "\n",
    "import numpy as np\n",
    "from scipy.stats import mannwhitneyu as MWU\n",
    "\n",
    "import warnings\n",
    "warnings.filterwarnings('ignore')"
   ]
  },
  {
   "cell_type": "markdown",
   "metadata": {},
   "source": [
    "## Data Load\n",
    "\n",
    "We assign a BASAL region to each gene, it starts from its TSS and extends 5kb upstream and 1kb downstream, or untill it encounters another TSS.\n",
    "\n",
    "For the GREAT region, we extend the BASAL region UP TO 1Mb in each way, or until a BASAL region of another gene is encountered.    \n",
    "     \n",
    "Here, we load and use the GREAT regions"
   ]
  },
  {
   "cell_type": "code",
   "execution_count": 2,
   "metadata": {},
   "outputs": [
    {
     "name": "stdout",
     "output_type": "stream",
     "text": [
      "[('Dre', 20053), ('Bla', 20569), ('Ola', 15978), ('Mmu', 18842)]\n"
     ]
    }
   ],
   "source": [
    "greg = {}\n",
    "\n",
    "greg['Dre'] = pd.read_csv(\"./data/genomic_regions/GREAT_dre.bed\", sep='\\t', header=None)\n",
    "greg['Dre'].columns = ['chrom','start','end','geneID','score','strand']\n",
    "greg['Dre']['score'] = greg['Dre']['end'] - greg['Dre']['start']\n",
    "\n",
    "greg['Bla'] = pd.read_csv(\"./data/genomic_regions/GREAT_bla.bed\", sep='\\t', header=None)\n",
    "greg['Bla'].columns = ['chrom','start','end','geneID','score','strand']\n",
    "greg['Bla']['score'] = greg['Bla']['end'] - greg['Bla']['start']\n",
    "\n",
    "greg['Ola'] = pd.read_csv(\"./data/genomic_regions/GREAT_ola.bed\", sep='\\t', header=None)\n",
    "greg['Ola'].columns = ['chrom','start','end','geneID','score','strand']\n",
    "greg['Ola']['score'] = greg['Ola']['end'] - greg['Ola']['start']\n",
    "\n",
    "greg['Mmu'] = pd.read_csv(\"./data/genomic_regions/GREAT_mmu.bed\", sep='\\t', header=None)\n",
    "greg['Mmu'].columns = ['chrom','start','end','geneID','score','strand']\n",
    "greg['Mmu']['score'] = greg['Mmu']['end'] - greg['Mmu']['start']\n",
    "\n",
    "print( [(k,len(v)) for k,v in greg.items()])"
   ]
  },
  {
   "cell_type": "code",
   "execution_count": 3,
   "metadata": {},
   "outputs": [
    {
     "data": {
      "text/html": [
       "<div>\n",
       "<table border=\"1\" class=\"dataframe\">\n",
       "  <thead>\n",
       "    <tr style=\"text-align: right;\">\n",
       "      <th></th>\n",
       "      <th>chrom</th>\n",
       "      <th>start</th>\n",
       "      <th>end</th>\n",
       "      <th>geneID</th>\n",
       "      <th>score</th>\n",
       "      <th>strand</th>\n",
       "    </tr>\n",
       "  </thead>\n",
       "  <tbody>\n",
       "    <tr>\n",
       "      <th>0</th>\n",
       "      <td>chr1</td>\n",
       "      <td>2670503</td>\n",
       "      <td>4359310</td>\n",
       "      <td>ENSMUSG00000051951</td>\n",
       "      <td>1688807</td>\n",
       "      <td>-</td>\n",
       "    </tr>\n",
       "    <tr>\n",
       "      <th>1</th>\n",
       "      <td>chr1</td>\n",
       "      <td>3676503</td>\n",
       "      <td>4495409</td>\n",
       "      <td>ENSMUSG00000025900</td>\n",
       "      <td>818906</td>\n",
       "      <td>-</td>\n",
       "    </tr>\n",
       "    <tr>\n",
       "      <th>2</th>\n",
       "      <td>chr1</td>\n",
       "      <td>4365319</td>\n",
       "      <td>4784706</td>\n",
       "      <td>ENSMUSG00000025902</td>\n",
       "      <td>419387</td>\n",
       "      <td>-</td>\n",
       "    </tr>\n",
       "    <tr>\n",
       "      <th>3</th>\n",
       "      <td>chr1</td>\n",
       "      <td>4501418</td>\n",
       "      <td>4802819</td>\n",
       "      <td>ENSMUSG00000033845</td>\n",
       "      <td>301401</td>\n",
       "      <td>-</td>\n",
       "    </tr>\n",
       "    <tr>\n",
       "      <th>4</th>\n",
       "      <td>chr1</td>\n",
       "      <td>4790715</td>\n",
       "      <td>4852810</td>\n",
       "      <td>ENSMUSG00000025903</td>\n",
       "      <td>62095</td>\n",
       "      <td>+</td>\n",
       "    </tr>\n",
       "  </tbody>\n",
       "</table>\n",
       "</div>"
      ],
      "text/plain": [
       "  chrom    start      end              geneID    score strand\n",
       "0  chr1  2670503  4359310  ENSMUSG00000051951  1688807      -\n",
       "1  chr1  3676503  4495409  ENSMUSG00000025900   818906      -\n",
       "2  chr1  4365319  4784706  ENSMUSG00000025902   419387      -\n",
       "3  chr1  4501418  4802819  ENSMUSG00000033845   301401      -\n",
       "4  chr1  4790715  4852810  ENSMUSG00000025903    62095      +"
      ]
     },
     "execution_count": 3,
     "metadata": {},
     "output_type": "execute_result"
    }
   ],
   "source": [
    "greg['Mmu'].head()"
   ]
  },
  {
   "cell_type": "code",
   "execution_count": 4,
   "metadata": {},
   "outputs": [],
   "source": [
    "stages = {}\n",
    "stages['Bla'] = ['8','15','36','60']\n",
    "stages['Dre'] = [\"dome\",\"shield\",\"80epi\",\"8som\",\"24h\",\"48h\"]\n",
    "stages['Ola'] = [\"dome\",\"shield\",\"8som\",\"24h\",\"48h\"]\n",
    "stages['Mmu'] = ['DE','ESC']"
   ]
  },
  {
   "cell_type": "markdown",
   "metadata": {},
   "source": [
    "### The ATAC-seq peaks\n",
    "\n",
    "As determined by the idr \"pipeline\", see more in the peak-calling notebook"
   ]
  },
  {
   "cell_type": "code",
   "execution_count": 5,
   "metadata": {},
   "outputs": [],
   "source": [
    "pre_ = './data/atac_peaks/'\n",
    "\n",
    "peak_beds = {}\n",
    "\n",
    "peak_beds['Dre'] = [ (BT(\"{}zebra_danRer10_{}_idrpeaks.bed\".format(pre_,x))\n",
    "                    .sort()\n",
    "                    )for x in stages['Dre']]\n",
    "peak_beds['Bla'] = [(BT(\"{}amphi_{}_idrpeaks.bed\".format(pre_,x))\n",
    "                     .sort()\n",
    "                     ) for x in stages['Bla']]\n",
    "peak_beds['Ola'] = [ (BT(\"{}medaka_{}_idrpeaks.bed\".format(pre_,x))\n",
    "                    .sort()\n",
    "                    )for x in stages['Ola']]\n",
    "peak_beds['Mmu'] = [ (BT(\"{}mouse_{}_idrpeaks.bed\".format(pre_,x))\n",
    "                    .sort()\n",
    "                    )for x in stages['Mmu']]\n"
   ]
  },
  {
   "cell_type": "code",
   "execution_count": 6,
   "metadata": {},
   "outputs": [],
   "source": [
    "fate_dict_zebra = dict(pd.read_csv(\"./data/gene_fates/Spec_genes_byLost-Dre-v3.txt\", sep='\\t',header=None).set_index(0)[1])\n",
    "fate_dict_mouse = dict(pd.read_csv(\"./data/gene_fates/Spec_genes_byLost-Mmu-v3.txt\", sep='\\t',header=None).set_index(0)[1])"
   ]
  },
  {
   "cell_type": "code",
   "execution_count": 8,
   "metadata": {},
   "outputs": [],
   "source": [
    "bedfields = ['chrom','start','end','name','score','strand']\n",
    "big = {}\n",
    "\n",
    "big['Dre'] = BT().from_dataframe(greg['Dre']).sort()\n",
    "for bee in peak_beds['Dre']:\n",
    "    big['Dre'] = big['Dre'].intersect(b = bee, c=True, sorted=True, nonamecheck=True)\n",
    "big['Dre'] = big['Dre'].to_dataframe()\n",
    "big['Dre'].columns = bedfields + stages['Dre']\n",
    "\n",
    "big['Mmu'] = BT().from_dataframe(greg['Mmu']).sort()\n",
    "for bee in peak_beds['Mmu']:\n",
    "    big['Mmu'] = big['Mmu'].intersect(b = bee, c=True, sorted=True, nonamecheck=True)\n",
    "big['Mmu'] = big['Mmu'].to_dataframe()\n",
    "big['Mmu'].columns = bedfields + stages['Mmu']"
   ]
  },
  {
   "cell_type": "code",
   "execution_count": 9,
   "metadata": {},
   "outputs": [
    {
     "data": {
      "text/html": [
       "<div>\n",
       "<table border=\"1\" class=\"dataframe\">\n",
       "  <thead>\n",
       "    <tr style=\"text-align: right;\">\n",
       "      <th></th>\n",
       "      <th>chrom</th>\n",
       "      <th>start</th>\n",
       "      <th>end</th>\n",
       "      <th>name</th>\n",
       "      <th>score</th>\n",
       "      <th>strand</th>\n",
       "      <th>dome</th>\n",
       "      <th>shield</th>\n",
       "      <th>80epi</th>\n",
       "      <th>8som</th>\n",
       "      <th>24h</th>\n",
       "      <th>48h</th>\n",
       "    </tr>\n",
       "  </thead>\n",
       "  <tbody>\n",
       "    <tr>\n",
       "      <th>3096</th>\n",
       "      <td>chr13</td>\n",
       "      <td>2318446</td>\n",
       "      <td>2392107</td>\n",
       "      <td>ENSDARG00000099997</td>\n",
       "      <td>73661</td>\n",
       "      <td>-</td>\n",
       "      <td>6</td>\n",
       "      <td>7</td>\n",
       "      <td>7</td>\n",
       "      <td>9</td>\n",
       "      <td>9</td>\n",
       "      <td>9</td>\n",
       "    </tr>\n",
       "    <tr>\n",
       "      <th>8292</th>\n",
       "      <td>chr2</td>\n",
       "      <td>6325640</td>\n",
       "      <td>6349555</td>\n",
       "      <td>ENSDARG00000039830</td>\n",
       "      <td>23915</td>\n",
       "      <td>+</td>\n",
       "      <td>3</td>\n",
       "      <td>2</td>\n",
       "      <td>3</td>\n",
       "      <td>2</td>\n",
       "      <td>2</td>\n",
       "      <td>2</td>\n",
       "    </tr>\n",
       "    <tr>\n",
       "      <th>212</th>\n",
       "      <td>chr1</td>\n",
       "      <td>13245188</td>\n",
       "      <td>13328892</td>\n",
       "      <td>ENSDARG00000079626</td>\n",
       "      <td>83704</td>\n",
       "      <td>-</td>\n",
       "      <td>10</td>\n",
       "      <td>10</td>\n",
       "      <td>15</td>\n",
       "      <td>19</td>\n",
       "      <td>19</td>\n",
       "      <td>20</td>\n",
       "    </tr>\n",
       "    <tr>\n",
       "      <th>6089</th>\n",
       "      <td>chr17</td>\n",
       "      <td>5617105</td>\n",
       "      <td>5702122</td>\n",
       "      <td>ENSDARG00000089458</td>\n",
       "      <td>85017</td>\n",
       "      <td>+</td>\n",
       "      <td>7</td>\n",
       "      <td>4</td>\n",
       "      <td>6</td>\n",
       "      <td>11</td>\n",
       "      <td>8</td>\n",
       "      <td>9</td>\n",
       "    </tr>\n",
       "    <tr>\n",
       "      <th>6063</th>\n",
       "      <td>chr17</td>\n",
       "      <td>2645654</td>\n",
       "      <td>2686527</td>\n",
       "      <td>ENSDARG00000020744</td>\n",
       "      <td>40873</td>\n",
       "      <td>-</td>\n",
       "      <td>3</td>\n",
       "      <td>2</td>\n",
       "      <td>3</td>\n",
       "      <td>4</td>\n",
       "      <td>4</td>\n",
       "      <td>5</td>\n",
       "    </tr>\n",
       "  </tbody>\n",
       "</table>\n",
       "</div>"
      ],
      "text/plain": [
       "      chrom     start       end                name  score strand  dome  \\\n",
       "3096  chr13   2318446   2392107  ENSDARG00000099997  73661      -     6   \n",
       "8292   chr2   6325640   6349555  ENSDARG00000039830  23915      +     3   \n",
       "212    chr1  13245188  13328892  ENSDARG00000079626  83704      -    10   \n",
       "6089  chr17   5617105   5702122  ENSDARG00000089458  85017      +     7   \n",
       "6063  chr17   2645654   2686527  ENSDARG00000020744  40873      -     3   \n",
       "\n",
       "      shield  80epi  8som  24h  48h  \n",
       "3096       7      7     9    9    9  \n",
       "8292       2      3     2    2    2  \n",
       "212       10     15    19   19   20  \n",
       "6089       4      6    11    8    9  \n",
       "6063       2      3     4    4    5  "
      ]
     },
     "execution_count": 9,
     "metadata": {},
     "output_type": "execute_result"
    }
   ],
   "source": [
    "big['Dre'].sample(5)"
   ]
  },
  {
   "cell_type": "code",
   "execution_count": 29,
   "metadata": {},
   "outputs": [],
   "source": [
    "dre_melt = pd.melt(big['Dre'][['name']+stages['Dre']], id_vars='name')\n",
    "dre_melt['DomL'] = dre_melt['name'].map(fate_dict_zebra)\n",
    "dre_melt = dre_melt.dropna()"
   ]
  },
  {
   "cell_type": "code",
   "execution_count": 30,
   "metadata": {},
   "outputs": [],
   "source": [
    "mmu_melt = pd.melt(big['Mmu'][['name']+stages['Mmu']], id_vars='name')\n",
    "mmu_melt['DomL'] = mmu_melt['name'].map(fate_dict_mouse)\n",
    "mmu_melt = mmu_melt.dropna()"
   ]
  },
  {
   "cell_type": "code",
   "execution_count": null,
   "metadata": {},
   "outputs": [],
   "source": []
  },
  {
   "cell_type": "code",
   "execution_count": 36,
   "metadata": {},
   "outputs": [],
   "source": [
    "mergerdic = {0 : '0',\n",
    "            1 : '1-2',\n",
    "            2: '1-2',\n",
    "            3: '3-4',\n",
    "            4: '3-4',\n",
    "            5: '5-6',\n",
    "            6: '5-6',\n",
    "            7: '7+',\n",
    "            8: '7+',\n",
    "            9: '7+'}"
   ]
  },
  {
   "cell_type": "code",
   "execution_count": 46,
   "metadata": {},
   "outputs": [],
   "source": [
    "dre_melt['mergedfate'] = dre_melt.DomL.map(mergerdic)\n",
    "mmu_melt['mergedfate'] = mmu_melt.DomL.map(mergerdic)"
   ]
  },
  {
   "cell_type": "code",
   "execution_count": 38,
   "metadata": {},
   "outputs": [
    {
     "data": {
      "text/html": [
       "<div>\n",
       "<table border=\"1\" class=\"dataframe\">\n",
       "  <thead>\n",
       "    <tr style=\"text-align: right;\">\n",
       "      <th></th>\n",
       "      <th>name</th>\n",
       "      <th>variable</th>\n",
       "      <th>value</th>\n",
       "      <th>DomL</th>\n",
       "      <th>mergedfate</th>\n",
       "    </tr>\n",
       "  </thead>\n",
       "  <tbody>\n",
       "    <tr>\n",
       "      <th>28</th>\n",
       "      <td>ENSDARG00000100181</td>\n",
       "      <td>dome</td>\n",
       "      <td>6</td>\n",
       "      <td>1.0</td>\n",
       "      <td>1-2</td>\n",
       "    </tr>\n",
       "    <tr>\n",
       "      <th>32</th>\n",
       "      <td>ENSDARG00000041592</td>\n",
       "      <td>dome</td>\n",
       "      <td>4</td>\n",
       "      <td>1.0</td>\n",
       "      <td>1-2</td>\n",
       "    </tr>\n",
       "  </tbody>\n",
       "</table>\n",
       "</div>"
      ],
      "text/plain": [
       "                  name variable  value  DomL mergedfate\n",
       "28  ENSDARG00000100181     dome      6   1.0        1-2\n",
       "32  ENSDARG00000041592     dome      4   1.0        1-2"
      ]
     },
     "execution_count": 38,
     "metadata": {},
     "output_type": "execute_result"
    }
   ],
   "source": [
    "dre_melt.head(2)"
   ]
  },
  {
   "cell_type": "code",
   "execution_count": 41,
   "metadata": {},
   "outputs": [
    {
     "data": {
      "text/plain": [
       "(0, 55)"
      ]
     },
     "execution_count": 41,
     "metadata": {},
     "output_type": "execute_result"
    },
    {
     "data": {
      "image/png": "[encoded data removed]",
      "text/plain": [
       "<matplotlib.figure.Figure at 0x7f4d89121668>"
      ]
     },
     "metadata": {},
     "output_type": "display_data"
    }
   ],
   "source": [
    "# All stages of zebra:\n",
    "plt.figure(figsize=(16,9))\n",
    "sns.boxplot( data=dre_melt, \n",
    "           y='value',\n",
    "           x='variable',\n",
    "            hue='mergedfate',\n",
    "        fliersize=0,\n",
    "            hue_order = ['0','1-2','3-4','5-6','7+']\n",
    "           )\n",
    "\n",
    "\n",
    "plt.ylim((0,55))"
   ]
  },
  {
   "cell_type": "code",
   "execution_count": 45,
   "metadata": {},
   "outputs": [
    {
     "data": {
      "text/plain": [
       "(0, 55)"
      ]
     },
     "execution_count": 45,
     "metadata": {},
     "output_type": "execute_result"
    },
    {
     "data": {
      "image/png": "[encoded data removed]",
      "text/plain": [
       "<matplotlib.figure.Figure at 0x7f4d88edd438>"
      ]
     },
     "metadata": {},
     "output_type": "display_data"
    }
   ],
   "source": [
    "# Phyloty. stage:\n",
    "plt.figure(figsize=(16,9))\n",
    "sns.boxplot( data=dre_melt[dre_melt.variable == '8som'], \n",
    "           y='value',\n",
    "           x='mergedfate',\n",
    "           order = ['0','1-2','3-4','5-6','7+'],\n",
    "            \n",
    "        fliersize=0\n",
    "           )\n",
    "\n",
    "\n",
    "plt.ylim((0,55))"
   ]
  },
  {
   "cell_type": "code",
   "execution_count": null,
   "metadata": {},
   "outputs": [],
   "source": []
  },
  {
   "cell_type": "code",
   "execution_count": 47,
   "metadata": {},
   "outputs": [
    {
     "data": {
      "text/plain": [
       "(0, 55)"
      ]
     },
     "execution_count": 47,
     "metadata": {},
     "output_type": "execute_result"
    },
    {
     "data": {
      "image/png": "[encoded data removed]",
      "text/plain": [
       "<matplotlib.figure.Figure at 0x7f4d8903a438>"
      ]
     },
     "metadata": {},
     "output_type": "display_data"
    }
   ],
   "source": [
    "# All stages of zebra:\n",
    "plt.figure(figsize=(16,9))\n",
    "sns.boxplot( data=mmu_melt, \n",
    "           y='value',\n",
    "           x='variable',\n",
    "            hue='mergedfate',\n",
    "        fliersize=0,\n",
    "            hue_order = ['0','1-2','3-4','5-6','7+']\n",
    "           )\n",
    "\n",
    "\n",
    "plt.ylim((0,55))"
   ]
  },
  {
   "cell_type": "code",
   "execution_count": null,
   "metadata": {},
   "outputs": [],
   "source": []
  },
  {
   "cell_type": "code",
   "execution_count": 50,
   "metadata": {},
   "outputs": [
    {
     "data": {
      "text/plain": [
       "(0, 55)"
      ]
     },
     "execution_count": 50,
     "metadata": {},
     "output_type": "execute_result"
    },
    {
     "data": {
      "image/png": "[encoded data removed]",
      "text/plain": [
       "<matplotlib.figure.Figure at 0x7f4d88f09048>"
      ]
     },
     "metadata": {},
     "output_type": "display_data"
    }
   ],
   "source": [
    "# Phyloty. stage:\n",
    "plt.figure(figsize=(16,9))\n",
    "sns.boxplot( data=mmu_melt[mmu_melt.variable == 'DE'], \n",
    "           y='value',\n",
    "           x='mergedfate',\n",
    "           order = ['0','1-2','3-4','5-6','7+'],\n",
    "            \n",
    "        fliersize=0\n",
    "           )\n",
    "\n",
    "\n",
    "plt.ylim((0,55))"
   ]
  },
  {
   "cell_type": "code",
   "execution_count": null,
   "metadata": {},
   "outputs": [],
   "source": []
  }
 ],
 "metadata": {
  "kernelspec": {
   "display_name": "Python 3",
   "language": "python",
   "name": "python3"
  },
  "language_info": {
   "codemirror_mode": {
    "name": "ipython",
    "version": 3
   },
   "file_extension": ".py",
   "mimetype": "text/x-python",
   "name": "python",
   "nbconvert_exporter": "python",
   "pygments_lexer": "ipython3",
   "version": "3.6.1"
  }
 },
 "nbformat": 4,
 "nbformat_minor": 2
}
