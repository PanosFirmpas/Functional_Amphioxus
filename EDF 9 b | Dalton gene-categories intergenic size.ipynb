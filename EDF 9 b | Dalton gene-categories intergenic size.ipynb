{
 "cells": [
  {
   "cell_type": "code",
   "execution_count": 24,
   "metadata": {},
   "outputs": [],
   "source": [
    "import pandas as pd\n",
    "from pybedtools import BedTool as BT\n",
    "\n",
    "%matplotlib inline\n",
    "import seaborn as sns\n",
    "from matplotlib import pyplot as plt\n",
    "# This saves fonts as fonts in the svg and not as shapes\n",
    "plt.rcParams['svg.fonttype'] = 'none'\n",
    "\n",
    "import numpy as np\n",
    "from scipy.stats import mannwhitneyu as MWU\n",
    "\n",
    "import warnings\n",
    "warnings.filterwarnings('ignore')\n",
    "\n",
    "from functools import reduce\n",
    "from operator import add"
   ]
  },
  {
   "cell_type": "code",
   "execution_count": 74,
   "metadata": {},
   "outputs": [],
   "source": [
    "from math import log"
   ]
  },
  {
   "cell_type": "markdown",
   "metadata": {},
   "source": [
    "## Data Load\n",
    "\n",
    "We assign a BASAL region to each gene, it starts from its TSS and extends 5kb upstream and 1kb downstream, or untill it encounters another TSS.\n",
    "\n",
    "For the GREAT region, we extend the BASAL region UP TO 1Mb in each way, or until a BASAL region of another gene is encountered.    \n",
    "     \n",
    "Here, we load and use the GREAT regions"
   ]
  },
  {
   "cell_type": "code",
   "execution_count": 37,
   "metadata": {},
   "outputs": [
    {
     "name": "stdout",
     "output_type": "stream",
     "text": [
      "[('Dre', 19837), ('Bla', 18943), ('Ola', 15473), ('Mmu', 18814)]\n"
     ]
    }
   ],
   "source": [
    "greg = {}\n",
    "\n",
    "greg['Dre'] = pd.read_csv(\"./data/genomic_regions/intergenics_Dre.tsv\", sep='\\t', header=None)\n",
    "greg['Dre'].columns = ['chrom','start','end','gene1','gene2']\n",
    "greg['Dre']['score'] = greg['Dre']['end'] - greg['Dre']['start']\n",
    "\n",
    "greg['Bla'] = pd.read_csv(\"./data/genomic_regions/intergenics_Bla.tsv\", sep='\\t', header=None)\n",
    "greg['Bla'].columns = ['chrom','start','end','gene1','gene2']\n",
    "greg['Bla']['score'] = greg['Bla']['end'] - greg['Bla']['start']\n",
    "\n",
    "greg['Ola'] = pd.read_csv(\"./data/genomic_regions/intergenics_Ola.tsv\", sep='\\t', header=None)\n",
    "greg['Ola'].columns = ['chrom','start','end','gene1','gene2']\n",
    "greg['Ola']['score'] = greg['Ola']['end'] - greg['Ola']['start']\n",
    "\n",
    "greg['Mmu'] = pd.read_csv(\"./data/genomic_regions/intergenics_Mmu.tsv\", sep='\\t', header=None)\n",
    "greg['Mmu'].columns = ['chrom','start','end','gene1','gene2']\n",
    "greg['Mmu']['score'] = greg['Mmu']['end'] - greg['Mmu']['start']\n",
    "\n",
    "print( [(k,len(v)) for k,v in greg.items()])"
   ]
  },
  {
   "cell_type": "code",
   "execution_count": 8,
   "metadata": {},
   "outputs": [
    {
     "data": {
      "text/html": [
       "<div>\n",
       "<table border=\"1\" class=\"dataframe\">\n",
       "  <thead>\n",
       "    <tr style=\"text-align: right;\">\n",
       "      <th></th>\n",
       "      <th>chrom</th>\n",
       "      <th>start</th>\n",
       "      <th>end</th>\n",
       "      <th>gene1</th>\n",
       "      <th>gene2</th>\n",
       "      <th>score</th>\n",
       "    </tr>\n",
       "  </thead>\n",
       "  <tbody>\n",
       "    <tr>\n",
       "      <th>0</th>\n",
       "      <td>MT</td>\n",
       "      <td>3803</td>\n",
       "      <td>4994</td>\n",
       "      <td>ENSDARG00000063895</td>\n",
       "      <td>ENSDARG00000063899</td>\n",
       "      <td>1191</td>\n",
       "    </tr>\n",
       "    <tr>\n",
       "      <th>1</th>\n",
       "      <td>MT</td>\n",
       "      <td>4993</td>\n",
       "      <td>6426</td>\n",
       "      <td>ENSDARG00000063899</td>\n",
       "      <td>ENSDARG00000063905</td>\n",
       "      <td>1433</td>\n",
       "    </tr>\n",
       "    <tr>\n",
       "      <th>2</th>\n",
       "      <td>MT</td>\n",
       "      <td>6425</td>\n",
       "      <td>8131</td>\n",
       "      <td>ENSDARG00000063905</td>\n",
       "      <td>ENSDARG00000063908</td>\n",
       "      <td>1706</td>\n",
       "    </tr>\n",
       "    <tr>\n",
       "      <th>3</th>\n",
       "      <td>MT</td>\n",
       "      <td>8130</td>\n",
       "      <td>8895</td>\n",
       "      <td>ENSDARG00000063908</td>\n",
       "      <td>ENSDARG00000063910</td>\n",
       "      <td>765</td>\n",
       "    </tr>\n",
       "    <tr>\n",
       "      <th>4</th>\n",
       "      <td>MT</td>\n",
       "      <td>8894</td>\n",
       "      <td>9053</td>\n",
       "      <td>ENSDARG00000063910</td>\n",
       "      <td>ENSDARG00000063911</td>\n",
       "      <td>159</td>\n",
       "    </tr>\n",
       "  </tbody>\n",
       "</table>\n",
       "</div>"
      ],
      "text/plain": [
       "  chrom  start   end               gene1               gene2  score\n",
       "0    MT   3803  4994  ENSDARG00000063895  ENSDARG00000063899   1191\n",
       "1    MT   4993  6426  ENSDARG00000063899  ENSDARG00000063905   1433\n",
       "2    MT   6425  8131  ENSDARG00000063905  ENSDARG00000063908   1706\n",
       "3    MT   8130  8895  ENSDARG00000063908  ENSDARG00000063910    765\n",
       "4    MT   8894  9053  ENSDARG00000063910  ENSDARG00000063911    159"
      ]
     },
     "execution_count": 8,
     "metadata": {},
     "output_type": "execute_result"
    }
   ],
   "source": [
    "greg['Dre'].head()"
   ]
  },
  {
   "cell_type": "code",
   "execution_count": 9,
   "metadata": {},
   "outputs": [],
   "source": [
    "stages = {}\n",
    "stages['Bla'] = ['8','15','36','60']\n",
    "stages['Dre'] = [\"dome\",\"shield\",\"80epi\",\"8som\",\"24h\",\"48h\"]\n",
    "stages['Ola'] = [\"dome\",\"shield\",\"8som\",\"24h\",\"48h\"]\n",
    "stages['Mmu'] = ['DE','ESC']"
   ]
  },
  {
   "cell_type": "markdown",
   "metadata": {},
   "source": [
    "### The ATAC-seq peaks\n",
    "\n",
    "As determined by the idr \"pipeline\", see more in the peak-calling notebook"
   ]
  },
  {
   "cell_type": "code",
   "execution_count": 10,
   "metadata": {},
   "outputs": [],
   "source": [
    "pre_ = './data/atac_peaks/'\n",
    "\n",
    "peak_beds = {}\n",
    "\n",
    "peak_beds['Dre'] = [ (BT(\"{}zebra_danRer10_{}_idrpeaks.bed\".format(pre_,x))\n",
    "                    .sort()\n",
    "                    )for x in stages['Dre']]\n",
    "peak_beds['Bla'] = [(BT(\"{}amphi_{}_idrpeaks.bed\".format(pre_,x))\n",
    "                     .sort()\n",
    "                     ) for x in stages['Bla']]\n",
    "peak_beds['Ola'] = [ (BT(\"{}medaka_{}_idrpeaks.bed\".format(pre_,x))\n",
    "                    .sort()\n",
    "                    )for x in stages['Ola']]\n",
    "peak_beds['Mmu'] = [ (BT(\"{}mouse_{}_idrpeaks.bed\".format(pre_,x))\n",
    "                    .sort()\n",
    "                    )for x in stages['Mmu']]\n"
   ]
  },
  {
   "cell_type": "markdown",
   "metadata": {},
   "source": [
    "### Grouping of genes into homologous-families       \n",
    "\n",
    "We have in our disposal a precomputed table where genes of various species\n",
    "are separated into homologous families.\n",
    "\n",
    "Each row is a family, each column a species. \n",
    "The paralogues of each species are separated with \":\" so when we load this dataset\n",
    "we split the strings into lists.\n",
    "\n",
    "We also create a second dataframe \"genefamsC\" which has the same index and shape as the first one,\n",
    "but contains the count of genes in each cell."
   ]
  },
  {
   "cell_type": "code",
   "execution_count": 11,
   "metadata": {},
   "outputs": [],
   "source": [
    "genefams = pd.read_csv(\"./data/gene_families_table.tsv\",\n",
    "                      sep='\\t')\n",
    "genefams = genefams.applymap(lambda x: x.split(\":\") if x==x else x)\n",
    "\n",
    "genefamsC = genefams.applymap(lambda x: len(x) if x==x else 0)"
   ]
  },
  {
   "cell_type": "code",
   "execution_count": 12,
   "metadata": {},
   "outputs": [
    {
     "data": {
      "text/html": [
       "<div>\n",
       "<table border=\"1\" class=\"dataframe\">\n",
       "  <thead>\n",
       "    <tr style=\"text-align: right;\">\n",
       "      <th></th>\n",
       "      <th>Bbe</th>\n",
       "      <th>Bla</th>\n",
       "      <th>Cmi</th>\n",
       "      <th>Dre</th>\n",
       "      <th>Gga</th>\n",
       "      <th>Hsa</th>\n",
       "      <th>Mmu</th>\n",
       "      <th>Ola</th>\n",
       "      <th>Sko</th>\n",
       "      <th>Spu</th>\n",
       "      <th>Xtr</th>\n",
       "      <th>Dme</th>\n",
       "    </tr>\n",
       "  </thead>\n",
       "  <tbody>\n",
       "    <tr>\n",
       "      <th>0</th>\n",
       "      <td>1</td>\n",
       "      <td>1</td>\n",
       "      <td>0</td>\n",
       "      <td>0</td>\n",
       "      <td>0</td>\n",
       "      <td>0</td>\n",
       "      <td>0</td>\n",
       "      <td>0</td>\n",
       "      <td>0</td>\n",
       "      <td>0</td>\n",
       "      <td>0</td>\n",
       "      <td>0</td>\n",
       "    </tr>\n",
       "    <tr>\n",
       "      <th>1</th>\n",
       "      <td>0</td>\n",
       "      <td>1</td>\n",
       "      <td>0</td>\n",
       "      <td>0</td>\n",
       "      <td>0</td>\n",
       "      <td>0</td>\n",
       "      <td>0</td>\n",
       "      <td>0</td>\n",
       "      <td>0</td>\n",
       "      <td>1</td>\n",
       "      <td>0</td>\n",
       "      <td>0</td>\n",
       "    </tr>\n",
       "    <tr>\n",
       "      <th>2</th>\n",
       "      <td>1</td>\n",
       "      <td>1</td>\n",
       "      <td>0</td>\n",
       "      <td>0</td>\n",
       "      <td>0</td>\n",
       "      <td>0</td>\n",
       "      <td>0</td>\n",
       "      <td>0</td>\n",
       "      <td>0</td>\n",
       "      <td>0</td>\n",
       "      <td>0</td>\n",
       "      <td>0</td>\n",
       "    </tr>\n",
       "    <tr>\n",
       "      <th>3</th>\n",
       "      <td>28</td>\n",
       "      <td>36</td>\n",
       "      <td>6</td>\n",
       "      <td>9</td>\n",
       "      <td>1</td>\n",
       "      <td>4</td>\n",
       "      <td>4</td>\n",
       "      <td>3</td>\n",
       "      <td>61</td>\n",
       "      <td>8</td>\n",
       "      <td>16</td>\n",
       "      <td>0</td>\n",
       "    </tr>\n",
       "    <tr>\n",
       "      <th>4</th>\n",
       "      <td>1</td>\n",
       "      <td>1</td>\n",
       "      <td>0</td>\n",
       "      <td>0</td>\n",
       "      <td>0</td>\n",
       "      <td>0</td>\n",
       "      <td>0</td>\n",
       "      <td>0</td>\n",
       "      <td>0</td>\n",
       "      <td>0</td>\n",
       "      <td>0</td>\n",
       "      <td>0</td>\n",
       "    </tr>\n",
       "  </tbody>\n",
       "</table>\n",
       "</div>"
      ],
      "text/plain": [
       "   Bbe  Bla  Cmi  Dre  Gga  Hsa  Mmu  Ola  Sko  Spu  Xtr  Dme\n",
       "0    1    1    0    0    0    0    0    0    0    0    0    0\n",
       "1    0    1    0    0    0    0    0    0    0    1    0    0\n",
       "2    1    1    0    0    0    0    0    0    0    0    0    0\n",
       "3   28   36    6    9    1    4    4    3   61    8   16    0\n",
       "4    1    1    0    0    0    0    0    0    0    0    0    0"
      ]
     },
     "execution_count": 12,
     "metadata": {},
     "output_type": "execute_result"
    }
   ],
   "source": [
    "genefamsC.head()"
   ]
  },
  {
   "cell_type": "code",
   "execution_count": 13,
   "metadata": {},
   "outputs": [],
   "source": [
    "# Make some masks for the dataframe\n",
    "mask_oto = (genefamsC['Bla']==1) & (genefamsC['Mmu']==1)  # 1-1\n",
    "mask_ottw = (genefamsC['Bla']==1) & (genefamsC['Mmu']==2) # 1-2\n",
    "mask_otth = (genefamsC['Bla']==1) & (genefamsC['Mmu']==3) # 1-3\n",
    "mask_otfo = (genefamsC['Bla']==1) & (genefamsC['Mmu']==4) # 1-4\n",
    "\n",
    "masks = [mask_oto, mask_ottw,mask_otth,mask_otfo]\n",
    "titles = ['1-1','1-2','1-3','1-4']\n",
    "\n",
    "# then some sets\n",
    "oto_genes = genefams.loc[mask_oto,['Bla','Dre','Mmu','Ola']]\n",
    "oto_genes = set([x for y in oto_genes.values.flatten() if y==y for x in y])\n",
    "ottw_genes = genefams.loc[mask_ottw,['Bla','Dre','Mmu','Ola']]\n",
    "ottw_genes = set([x for y in ottw_genes.values.flatten() if y==y for x in y])\n",
    "otth_genes = genefams.loc[mask_otth,['Bla','Dre','Mmu','Ola']]\n",
    "otth_genes = set([x for y in otth_genes.values.flatten() if y==y for x in y])\n",
    "otfo_genes = genefams.loc[mask_otfo,['Bla','Dre','Mmu','Ola']]\n",
    "otfo_genes = set([x for y in otfo_genes.values.flatten() if y==y for x in y])\n",
    "\n",
    "# and use the sets to categorize the genes\n",
    "def categorize(x):\n",
    "    if x in oto_genes:\n",
    "        return '1-1'\n",
    "    elif x in ottw_genes:\n",
    "        return '1-2'\n",
    "    elif x in otth_genes:\n",
    "        return '1-3'\n",
    "    elif x in otfo_genes:\n",
    "        return '1-4'\n",
    "    else:\n",
    "        return 'nop'"
   ]
  },
  {
   "cell_type": "code",
   "execution_count": 97,
   "metadata": {},
   "outputs": [],
   "source": [
    "bedfields = ['chrom','start','end','name','score','strand']\n",
    "big = {}\n",
    "\n",
    "big['Dre'] = BT().from_dataframe(greg['Dre']).sort()\n",
    "for bee in peak_beds['Dre']:\n",
    "    big['Dre'] = big['Dre'].intersect(b = bee, c=True, sorted=True, nonamecheck=True)\n",
    "big['Dre'] = big['Dre'].to_dataframe()\n",
    "big['Dre'].columns = bedfields + stages['Dre']\n",
    "\n",
    "# the other species:\n",
    "big['Bla'] = BT().from_dataframe(greg['Bla']).sort()\n",
    "for bee in peak_beds['Bla']:\n",
    "    big['Bla'] = big['Bla'].intersect(b = bee, c=True, sorted=True, nonamecheck=True)\n",
    "big['Bla'] = big['Bla'].to_dataframe()\n",
    "big['Bla'].columns = bedfields + stages['Bla']\n",
    "\n",
    "big['Ola'] = BT().from_dataframe(greg['Ola']).sort()\n",
    "for bee in peak_beds['Ola']:\n",
    "    big['Ola'] = big['Ola'].intersect(b = bee, c=True, sorted=True, nonamecheck=True)\n",
    "big['Ola'] = big['Ola'].to_dataframe()\n",
    "big['Ola'].columns = bedfields + stages['Ola']\n",
    "\n",
    "big['Mmu'] = BT().from_dataframe(greg['Mmu']).sort()\n",
    "for bee in peak_beds['Mmu']:\n",
    "    big['Mmu'] = big['Mmu'].intersect(b = bee, c=True, sorted=True, nonamecheck=True)\n",
    "big['Mmu'] = big['Mmu'].to_dataframe()\n",
    "big['Mmu'].columns = bedfields + stages['Mmu']"
   ]
  },
  {
   "cell_type": "code",
   "execution_count": 102,
   "metadata": {},
   "outputs": [
    {
     "data": {
      "text/html": [
       "<div>\n",
       "<table border=\"1\" class=\"dataframe\">\n",
       "  <thead>\n",
       "    <tr style=\"text-align: right;\">\n",
       "      <th></th>\n",
       "      <th>chrom</th>\n",
       "      <th>start</th>\n",
       "      <th>end</th>\n",
       "      <th>name</th>\n",
       "      <th>score</th>\n",
       "      <th>strand</th>\n",
       "      <th>dome</th>\n",
       "      <th>shield</th>\n",
       "      <th>80epi</th>\n",
       "      <th>8som</th>\n",
       "      <th>24h</th>\n",
       "      <th>48h</th>\n",
       "    </tr>\n",
       "  </thead>\n",
       "  <tbody>\n",
       "    <tr>\n",
       "      <th>0</th>\n",
       "      <td>MT</td>\n",
       "      <td>3803</td>\n",
       "      <td>4994</td>\n",
       "      <td>ENSDARG00000063895</td>\n",
       "      <td>ENSDARG00000063899</td>\n",
       "      <td>1191</td>\n",
       "      <td>0</td>\n",
       "      <td>0</td>\n",
       "      <td>0</td>\n",
       "      <td>0</td>\n",
       "      <td>0</td>\n",
       "      <td>0</td>\n",
       "    </tr>\n",
       "    <tr>\n",
       "      <th>1</th>\n",
       "      <td>MT</td>\n",
       "      <td>4993</td>\n",
       "      <td>6426</td>\n",
       "      <td>ENSDARG00000063899</td>\n",
       "      <td>ENSDARG00000063905</td>\n",
       "      <td>1433</td>\n",
       "      <td>0</td>\n",
       "      <td>0</td>\n",
       "      <td>0</td>\n",
       "      <td>0</td>\n",
       "      <td>0</td>\n",
       "      <td>0</td>\n",
       "    </tr>\n",
       "  </tbody>\n",
       "</table>\n",
       "</div>"
      ],
      "text/plain": [
       "  chrom  start   end                name               score  strand  dome  \\\n",
       "0    MT   3803  4994  ENSDARG00000063895  ENSDARG00000063899    1191     0   \n",
       "1    MT   4993  6426  ENSDARG00000063899  ENSDARG00000063905    1433     0   \n",
       "\n",
       "   shield  80epi  8som  24h  48h  \n",
       "0       0      0     0    0    0  \n",
       "1       0      0     0    0    0  "
      ]
     },
     "execution_count": 102,
     "metadata": {},
     "output_type": "execute_result"
    }
   ],
   "source": [
    "big['Dre'].head(2)"
   ]
  },
  {
   "cell_type": "code",
   "execution_count": 107,
   "metadata": {},
   "outputs": [],
   "source": [
    "a = big['Dre'][['name','strand','8som']]\n",
    "a.columns = [1,2,3]\n",
    "b = big['Dre'][['score','strand', '8som']]\n",
    "b.columns = [1,2,3]\n",
    "dre_ = pd.concat([a,b]).groupby(1).sum()\n",
    "dre_.columns = ['size','count']\n",
    "dre_['category'] = dre_.index.to_series().apply(categorize)\n",
    "dre_['species'] = 'Dre'\n",
    "dre_['logsize'] = dre_['size'].apply(lambda x: log(x,10))\n",
    "\n",
    "a = big['Bla'][['name','strand','15']]\n",
    "a.columns = [1,2,3]\n",
    "b = big['Bla'][['score','strand', '15']]\n",
    "b.columns = [1,2,3]\n",
    "bla_ = pd.concat([a,b]).groupby(1).sum()\n",
    "bla_.columns = ['size','count']\n",
    "bla_['category'] = bla_.index.to_series().apply(categorize)\n",
    "bla_['species'] = 'Bla'\n",
    "bla_['logsize'] = bla_['size'].apply(lambda x: log(x,10))\n",
    "\n",
    "a = big['Ola'][['name','strand','8som']]\n",
    "a.columns = [1,2,3]\n",
    "b = big['Ola'][['score','strand', '8som']]\n",
    "b.columns = [1,2,3]\n",
    "ola_ = pd.concat([a,b]).groupby(1).sum()\n",
    "ola_.columns = ['size','count']\n",
    "ola_['category'] = ola_.index.to_series().apply(categorize)\n",
    "ola_['species'] = 'Ola'\n",
    "ola_['logsize'] = ola_['size'].apply(lambda x: log(x,10))\n",
    "\n",
    "a = big['Mmu'][['name','strand','ESC']]\n",
    "a.columns = [1,2,3]\n",
    "b = big['Mmu'][['score','strand', 'ESC']]\n",
    "b.columns = [1,2,3]\n",
    "mmu_ = pd.concat([a,b]).groupby(1).sum()\n",
    "mmu_.columns = ['size','count']\n",
    "mmu_['category'] = mmu_.index.to_series().apply(categorize)\n",
    "mmu_['species'] = 'Mmu'\n",
    "mmu_['logsize'] = mmu_['size'].apply(lambda x: log(x,10))"
   ]
  },
  {
   "cell_type": "code",
   "execution_count": 117,
   "metadata": {},
   "outputs": [],
   "source": [
    "tp = pd.concat([dre_, bla_, ola_,mmu_])\n",
    "tp.columns = ['size','count','category','species','logsize']"
   ]
  },
  {
   "cell_type": "code",
   "execution_count": 118,
   "metadata": {},
   "outputs": [
    {
     "data": {
      "text/html": [
       "<div>\n",
       "<table border=\"1\" class=\"dataframe\">\n",
       "  <thead>\n",
       "    <tr style=\"text-align: right;\">\n",
       "      <th></th>\n",
       "      <th>size</th>\n",
       "      <th>count</th>\n",
       "      <th>category</th>\n",
       "      <th>species</th>\n",
       "      <th>logsize</th>\n",
       "    </tr>\n",
       "    <tr>\n",
       "      <th>1</th>\n",
       "      <th></th>\n",
       "      <th></th>\n",
       "      <th></th>\n",
       "      <th></th>\n",
       "      <th></th>\n",
       "    </tr>\n",
       "  </thead>\n",
       "  <tbody>\n",
       "    <tr>\n",
       "      <th>ENSDARG00000000001</th>\n",
       "      <td>37852</td>\n",
       "      <td>4</td>\n",
       "      <td>nop</td>\n",
       "      <td>Dre</td>\n",
       "      <td>4.578089</td>\n",
       "    </tr>\n",
       "    <tr>\n",
       "      <th>ENSDARG00000000002</th>\n",
       "      <td>244365</td>\n",
       "      <td>36</td>\n",
       "      <td>1-3</td>\n",
       "      <td>Dre</td>\n",
       "      <td>5.388039</td>\n",
       "    </tr>\n",
       "    <tr>\n",
       "      <th>ENSDARG00000000018</th>\n",
       "      <td>409113</td>\n",
       "      <td>52</td>\n",
       "      <td>1-1</td>\n",
       "      <td>Dre</td>\n",
       "      <td>5.611843</td>\n",
       "    </tr>\n",
       "    <tr>\n",
       "      <th>ENSDARG00000000019</th>\n",
       "      <td>97431</td>\n",
       "      <td>20</td>\n",
       "      <td>nop</td>\n",
       "      <td>Dre</td>\n",
       "      <td>4.988697</td>\n",
       "    </tr>\n",
       "    <tr>\n",
       "      <th>ENSDARG00000000068</th>\n",
       "      <td>98087</td>\n",
       "      <td>13</td>\n",
       "      <td>nop</td>\n",
       "      <td>Dre</td>\n",
       "      <td>4.991611</td>\n",
       "    </tr>\n",
       "  </tbody>\n",
       "</table>\n",
       "</div>"
      ],
      "text/plain": [
       "                      size  count category species   logsize\n",
       "1                                                           \n",
       "ENSDARG00000000001   37852      4      nop     Dre  4.578089\n",
       "ENSDARG00000000002  244365     36      1-3     Dre  5.388039\n",
       "ENSDARG00000000018  409113     52      1-1     Dre  5.611843\n",
       "ENSDARG00000000019   97431     20      nop     Dre  4.988697\n",
       "ENSDARG00000000068   98087     13      nop     Dre  4.991611"
      ]
     },
     "execution_count": 118,
     "metadata": {},
     "output_type": "execute_result"
    }
   ],
   "source": [
    "tp.head()"
   ]
  },
  {
   "cell_type": "code",
   "execution_count": null,
   "metadata": {},
   "outputs": [],
   "source": []
  },
  {
   "cell_type": "code",
   "execution_count": 126,
   "metadata": {},
   "outputs": [
    {
     "data": {
      "text/plain": [
       "Text(0,0.5,'log10 of assigned intragenic regions total size')"
      ]
     },
     "execution_count": 126,
     "metadata": {},
     "output_type": "execute_result"
    },
    {
     "data": {
      "image/png": "[encoded data removed]",
      "text/plain": [
       "<matplotlib.figure.Figure at 0x7f3faa6422e8>"
      ]
     },
     "metadata": {},
     "output_type": "display_data"
    }
   ],
   "source": [
    "plt.figure(figsize=(6,12))\n",
    "\n",
    "\n",
    "sns.boxplot(data = tp,\n",
    "           x='species',\n",
    "            order=['Bla','Dre','Ola','Mmu'],\n",
    "            hue='category',\n",
    "            hue_order=['1-1','1-2','1-3','1-4'],\n",
    "           y='logsize',\n",
    "           palette = 'Blues',\n",
    "           fliersize=0)\n",
    "\n",
    "plt.legend(loc='upper left')\n",
    "plt.ylabel('log10 of assigned intragenic regions total size')"
   ]
  },
  {
   "cell_type": "code",
   "execution_count": null,
   "metadata": {},
   "outputs": [],
   "source": []
  },
  {
   "cell_type": "code",
   "execution_count": 124,
   "metadata": {},
   "outputs": [
    {
     "data": {
      "text/plain": [
       "(0, 80)"
      ]
     },
     "execution_count": 124,
     "metadata": {},
     "output_type": "execute_result"
    },
    {
     "data": {
      "image/png": "[encoded data removed]",
      "text/plain": [
       "<matplotlib.figure.Figure at 0x7f4011a51d68>"
      ]
     },
     "metadata": {},
     "output_type": "display_data"
    }
   ],
   "source": [
    "plt.figure(figsize=(6,12))\n",
    "\n",
    "\n",
    "sns.boxplot(data = tp,\n",
    "           x='species',\n",
    "            order=['Bla','Dre','Ola','Mmu'],\n",
    "            hue='category',\n",
    "            hue_order=['1-1','1-2','1-3','1-4'],\n",
    "           y='count',\n",
    "           palette = 'Blues',\n",
    "           fliersize=0)\n",
    "\n",
    "plt.legend(loc='upper left')\n",
    "\n",
    "plt.ylim((0,80))"
   ]
  },
  {
   "cell_type": "code",
   "execution_count": null,
   "metadata": {},
   "outputs": [],
   "source": []
  }
 ],
 "metadata": {
  "kernelspec": {
   "display_name": "Python 3",
   "language": "python",
   "name": "python3"
  },
  "language_info": {
   "codemirror_mode": {
    "name": "ipython",
    "version": 3
   },
   "file_extension": ".py",
   "mimetype": "text/x-python",
   "name": "python",
   "nbconvert_exporter": "python",
   "pygments_lexer": "ipython3",
   "version": "3.6.1"
  }
 },
 "nbformat": 4,
 "nbformat_minor": 2
}
