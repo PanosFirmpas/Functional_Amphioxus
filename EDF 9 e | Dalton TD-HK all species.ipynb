{
 "cells": [
  {
   "cell_type": "code",
   "execution_count": 1,
   "metadata": {},
   "outputs": [],
   "source": [
    "import pandas as pd\n",
    "from pybedtools import BedTool as BT\n",
    "\n",
    "%matplotlib inline\n",
    "import seaborn as sns\n",
    "from matplotlib import pyplot as plt\n",
    "# This saves fonts as fonts in the svg and not as shapes\n",
    "plt.rcParams['svg.fonttype'] = 'none'\n",
    "\n",
    "import numpy as np\n",
    "from scipy.stats import mannwhitneyu as MWU\n",
    "\n",
    "import warnings\n",
    "warnings.filterwarnings('ignore')"
   ]
  },
  {
   "cell_type": "markdown",
   "metadata": {},
   "source": [
    "## Data Load\n",
    "\n",
    "We assign a BASAL region to each gene, it starts from its TSS and extends 5kb upstream and 1kb downstream, or untill it encounters another TSS.\n",
    "\n",
    "For the GREAT region, we extend the BASAL region UP TO 1Mb in each way, or until a BASAL region of another gene is encountered.    \n",
    "     \n",
    "Here, we load and use the GREAT regions"
   ]
  },
  {
   "cell_type": "code",
   "execution_count": 2,
   "metadata": {},
   "outputs": [
    {
     "name": "stdout",
     "output_type": "stream",
     "text": [
      "[('Dre', 20053), ('Bla', 20569), ('Ola', 15978), ('Mmu', 18842)]\n"
     ]
    }
   ],
   "source": [
    "greg = {}\n",
    "\n",
    "greg['Dre'] = pd.read_csv(\"./data/genomic_regions/GREAT_dre.bed\", sep='\\t', header=None)\n",
    "greg['Dre'].columns = ['chrom','start','end','geneID','score','strand']\n",
    "greg['Dre']['score'] = greg['Dre']['end'] - greg['Dre']['start']\n",
    "\n",
    "greg['Bla'] = pd.read_csv(\"./data/genomic_regions/GREAT_bla.bed\", sep='\\t', header=None)\n",
    "greg['Bla'].columns = ['chrom','start','end','geneID','score','strand']\n",
    "greg['Bla']['score'] = greg['Bla']['end'] - greg['Bla']['start']\n",
    "\n",
    "greg['Ola'] = pd.read_csv(\"./data/genomic_regions/GREAT_ola.bed\", sep='\\t', header=None)\n",
    "greg['Ola'].columns = ['chrom','start','end','geneID','score','strand']\n",
    "greg['Ola']['score'] = greg['Ola']['end'] - greg['Ola']['start']\n",
    "\n",
    "greg['Mmu'] = pd.read_csv(\"./data/genomic_regions/GREAT_mmu.bed\", sep='\\t', header=None)\n",
    "greg['Mmu'].columns = ['chrom','start','end','geneID','score','strand']\n",
    "greg['Mmu']['score'] = greg['Mmu']['end'] - greg['Mmu']['start']\n",
    "\n",
    "print( [(k,len(v)) for k,v in greg.items()])"
   ]
  },
  {
   "cell_type": "code",
   "execution_count": 3,
   "metadata": {},
   "outputs": [
    {
     "data": {
      "text/html": [
       "<div>\n",
       "<table border=\"1\" class=\"dataframe\">\n",
       "  <thead>\n",
       "    <tr style=\"text-align: right;\">\n",
       "      <th></th>\n",
       "      <th>chrom</th>\n",
       "      <th>start</th>\n",
       "      <th>end</th>\n",
       "      <th>geneID</th>\n",
       "      <th>score</th>\n",
       "      <th>strand</th>\n",
       "    </tr>\n",
       "  </thead>\n",
       "  <tbody>\n",
       "    <tr>\n",
       "      <th>0</th>\n",
       "      <td>chr1</td>\n",
       "      <td>2670503</td>\n",
       "      <td>4359310</td>\n",
       "      <td>ENSMUSG00000051951</td>\n",
       "      <td>1688807</td>\n",
       "      <td>-</td>\n",
       "    </tr>\n",
       "    <tr>\n",
       "      <th>1</th>\n",
       "      <td>chr1</td>\n",
       "      <td>3676503</td>\n",
       "      <td>4495409</td>\n",
       "      <td>ENSMUSG00000025900</td>\n",
       "      <td>818906</td>\n",
       "      <td>-</td>\n",
       "    </tr>\n",
       "    <tr>\n",
       "      <th>2</th>\n",
       "      <td>chr1</td>\n",
       "      <td>4365319</td>\n",
       "      <td>4784706</td>\n",
       "      <td>ENSMUSG00000025902</td>\n",
       "      <td>419387</td>\n",
       "      <td>-</td>\n",
       "    </tr>\n",
       "    <tr>\n",
       "      <th>3</th>\n",
       "      <td>chr1</td>\n",
       "      <td>4501418</td>\n",
       "      <td>4802819</td>\n",
       "      <td>ENSMUSG00000033845</td>\n",
       "      <td>301401</td>\n",
       "      <td>-</td>\n",
       "    </tr>\n",
       "    <tr>\n",
       "      <th>4</th>\n",
       "      <td>chr1</td>\n",
       "      <td>4790715</td>\n",
       "      <td>4852810</td>\n",
       "      <td>ENSMUSG00000025903</td>\n",
       "      <td>62095</td>\n",
       "      <td>+</td>\n",
       "    </tr>\n",
       "  </tbody>\n",
       "</table>\n",
       "</div>"
      ],
      "text/plain": [
       "  chrom    start      end              geneID    score strand\n",
       "0  chr1  2670503  4359310  ENSMUSG00000051951  1688807      -\n",
       "1  chr1  3676503  4495409  ENSMUSG00000025900   818906      -\n",
       "2  chr1  4365319  4784706  ENSMUSG00000025902   419387      -\n",
       "3  chr1  4501418  4802819  ENSMUSG00000033845   301401      -\n",
       "4  chr1  4790715  4852810  ENSMUSG00000025903    62095      +"
      ]
     },
     "execution_count": 3,
     "metadata": {},
     "output_type": "execute_result"
    }
   ],
   "source": [
    "greg['Mmu'].head()"
   ]
  },
  {
   "cell_type": "code",
   "execution_count": 4,
   "metadata": {},
   "outputs": [],
   "source": [
    "stages = {}\n",
    "stages['Bla'] = ['8','15','36','60']\n",
    "stages['Dre'] = [\"dome\",\"shield\",\"80epi\",\"8som\",\"24h\",\"48h\"]\n",
    "stages['Ola'] = [\"dome\",\"shield\",\"8som\",\"24h\",\"48h\"]\n",
    "stages['Mmu'] = ['DE','ESC']"
   ]
  },
  {
   "cell_type": "markdown",
   "metadata": {},
   "source": [
    "### The ATAC-seq peaks\n",
    "\n",
    "As determined by the idr \"pipeline\", see more in the peak-calling notebook"
   ]
  },
  {
   "cell_type": "code",
   "execution_count": 5,
   "metadata": {},
   "outputs": [],
   "source": [
    "pre_ = './data/atac_peaks/'\n",
    "\n",
    "peak_beds = {}\n",
    "\n",
    "peak_beds['Dre'] = [ (BT(\"{}zebra_danRer10_{}_idrpeaks.bed\".format(pre_,x))\n",
    "                    .sort()\n",
    "                    )for x in stages['Dre']]\n",
    "peak_beds['Bla'] = [(BT(\"{}amphi_{}_idrpeaks.bed\".format(pre_,x))\n",
    "                     .sort()\n",
    "                     ) for x in stages['Bla']]\n",
    "peak_beds['Ola'] = [ (BT(\"{}medaka_{}_idrpeaks.bed\".format(pre_,x))\n",
    "                    .sort()\n",
    "                    )for x in stages['Ola']]\n",
    "peak_beds['Mmu'] = [ (BT(\"{}mouse_{}_idrpeaks.bed\".format(pre_,x))\n",
    "                    .sort()\n",
    "                    )for x in stages['Mmu']]\n"
   ]
  },
  {
   "cell_type": "markdown",
   "metadata": {},
   "source": [
    "### Grouping of genes into House Keeping, TransDev, Other      "
   ]
  },
  {
   "cell_type": "code",
   "execution_count": 11,
   "metadata": {},
   "outputs": [],
   "source": [
    "TDG = pd.read_csv(\"./data/TransDevGenes.tab\", sep='\\t', header=None)\n",
    "TDG.columns = ['GFid','species','geneID','newGFid','geneName']\n",
    "TDG = TDG[TDG['species'].isin(['Bla','Dre','Ola','Mmu'])]\n",
    "TDgenes = set(TDG.geneID.unique())"
   ]
  },
  {
   "cell_type": "code",
   "execution_count": 14,
   "metadata": {},
   "outputs": [],
   "source": [
    "HK = pd.read_csv(\"./data/HouseKeepGenes.tab\", sep='\\t', header=None)\n",
    "HK.columns = ['GFid','species','geneID','newGFid','geneName']\n",
    "HK = HK[HK['species'].isin(['Bla','Dre','Ola','Mmu'])]\n",
    "HKgenes = set(HK.geneID.unique())"
   ]
  },
  {
   "cell_type": "code",
   "execution_count": null,
   "metadata": {},
   "outputs": [],
   "source": []
  },
  {
   "cell_type": "code",
   "execution_count": 16,
   "metadata": {},
   "outputs": [],
   "source": [
    "bedfields = ['chrom','start','end','name','score','strand']\n",
    "big = {}\n",
    "\n",
    "big['Dre'] = BT().from_dataframe(greg['Dre']).sort()\n",
    "for bee in peak_beds['Dre']:\n",
    "    big['Dre'] = big['Dre'].intersect(b = bee, c=True, sorted=True, nonamecheck=True)\n",
    "big['Dre'] = big['Dre'].to_dataframe()\n",
    "big['Dre'].columns = bedfields + stages['Dre']\n",
    "\n",
    "# the other species:\n",
    "big['Bla'] = BT().from_dataframe(greg['Bla']).sort()\n",
    "for bee in peak_beds['Bla']:\n",
    "    big['Bla'] = big['Bla'].intersect(b = bee, c=True, sorted=True, nonamecheck=True)\n",
    "big['Bla'] = big['Bla'].to_dataframe()\n",
    "big['Bla'].columns = bedfields + stages['Bla']\n",
    "\n",
    "big['Ola'] = BT().from_dataframe(greg['Ola']).sort()\n",
    "for bee in peak_beds['Ola']:\n",
    "    big['Ola'] = big['Ola'].intersect(b = bee, c=True, sorted=True, nonamecheck=True)\n",
    "big['Ola'] = big['Ola'].to_dataframe()\n",
    "big['Ola'].columns = bedfields + stages['Ola']\n",
    "\n",
    "big['Mmu'] = BT().from_dataframe(greg['Mmu']).sort()\n",
    "for bee in peak_beds['Mmu']:\n",
    "    big['Mmu'] = big['Mmu'].intersect(b = bee, c=True, sorted=True, nonamecheck=True)\n",
    "big['Mmu'] = big['Mmu'].to_dataframe()\n",
    "big['Mmu'].columns = bedfields + stages['Mmu']"
   ]
  },
  {
   "cell_type": "code",
   "execution_count": 17,
   "metadata": {},
   "outputs": [
    {
     "data": {
      "text/html": [
       "<div>\n",
       "<table border=\"1\" class=\"dataframe\">\n",
       "  <thead>\n",
       "    <tr style=\"text-align: right;\">\n",
       "      <th></th>\n",
       "      <th>chrom</th>\n",
       "      <th>start</th>\n",
       "      <th>end</th>\n",
       "      <th>name</th>\n",
       "      <th>score</th>\n",
       "      <th>strand</th>\n",
       "      <th>dome</th>\n",
       "      <th>shield</th>\n",
       "      <th>80epi</th>\n",
       "      <th>8som</th>\n",
       "      <th>24h</th>\n",
       "      <th>48h</th>\n",
       "    </tr>\n",
       "  </thead>\n",
       "  <tbody>\n",
       "    <tr>\n",
       "      <th>1320</th>\n",
       "      <td>chr10</td>\n",
       "      <td>28701881</td>\n",
       "      <td>29214086</td>\n",
       "      <td>ENSDARG00000026531</td>\n",
       "      <td>512205</td>\n",
       "      <td>-</td>\n",
       "      <td>25</td>\n",
       "      <td>36</td>\n",
       "      <td>58</td>\n",
       "      <td>57</td>\n",
       "      <td>59</td>\n",
       "      <td>101</td>\n",
       "    </tr>\n",
       "    <tr>\n",
       "      <th>9753</th>\n",
       "      <td>chr20</td>\n",
       "      <td>43082426</td>\n",
       "      <td>43186666</td>\n",
       "      <td>ENSDARG00000069302</td>\n",
       "      <td>104240</td>\n",
       "      <td>-</td>\n",
       "      <td>10</td>\n",
       "      <td>12</td>\n",
       "      <td>14</td>\n",
       "      <td>10</td>\n",
       "      <td>13</td>\n",
       "      <td>12</td>\n",
       "    </tr>\n",
       "    <tr>\n",
       "      <th>11784</th>\n",
       "      <td>chr23</td>\n",
       "      <td>29957588</td>\n",
       "      <td>30034931</td>\n",
       "      <td>ENSDARG00000062129</td>\n",
       "      <td>77343</td>\n",
       "      <td>+</td>\n",
       "      <td>7</td>\n",
       "      <td>8</td>\n",
       "      <td>6</td>\n",
       "      <td>5</td>\n",
       "      <td>9</td>\n",
       "      <td>9</td>\n",
       "    </tr>\n",
       "    <tr>\n",
       "      <th>20031</th>\n",
       "      <td>chrUn_KN150653v1</td>\n",
       "      <td>0</td>\n",
       "      <td>55997</td>\n",
       "      <td>ENSDARG00000101012</td>\n",
       "      <td>55997</td>\n",
       "      <td>-</td>\n",
       "      <td>0</td>\n",
       "      <td>0</td>\n",
       "      <td>0</td>\n",
       "      <td>1</td>\n",
       "      <td>1</td>\n",
       "      <td>1</td>\n",
       "    </tr>\n",
       "    <tr>\n",
       "      <th>5643</th>\n",
       "      <td>chr16</td>\n",
       "      <td>29457597</td>\n",
       "      <td>29501746</td>\n",
       "      <td>ENSDARG00000040249</td>\n",
       "      <td>44149</td>\n",
       "      <td>-</td>\n",
       "      <td>4</td>\n",
       "      <td>3</td>\n",
       "      <td>2</td>\n",
       "      <td>2</td>\n",
       "      <td>5</td>\n",
       "      <td>6</td>\n",
       "    </tr>\n",
       "  </tbody>\n",
       "</table>\n",
       "</div>"
      ],
      "text/plain": [
       "                  chrom     start       end                name   score  \\\n",
       "1320              chr10  28701881  29214086  ENSDARG00000026531  512205   \n",
       "9753              chr20  43082426  43186666  ENSDARG00000069302  104240   \n",
       "11784             chr23  29957588  30034931  ENSDARG00000062129   77343   \n",
       "20031  chrUn_KN150653v1         0     55997  ENSDARG00000101012   55997   \n",
       "5643              chr16  29457597  29501746  ENSDARG00000040249   44149   \n",
       "\n",
       "      strand  dome  shield  80epi  8som  24h  48h  \n",
       "1320       -    25      36     58    57   59  101  \n",
       "9753       -    10      12     14    10   13   12  \n",
       "11784      +     7       8      6     5    9    9  \n",
       "20031      -     0       0      0     1    1    1  \n",
       "5643       -     4       3      2     2    5    6  "
      ]
     },
     "execution_count": 17,
     "metadata": {},
     "output_type": "execute_result"
    }
   ],
   "source": [
    "big['Dre'].sample(5)"
   ]
  },
  {
   "cell_type": "code",
   "execution_count": 18,
   "metadata": {},
   "outputs": [],
   "source": [
    "# set the gene ID as index in all dataframes of 'big'\n",
    "big_ind = {}\n",
    "for k,v in big.items():\n",
    "    big_ind[k] = v.set_index('name')\n",
    "    big_ind[k].columns = [str(x) for x in big_ind[k].columns]"
   ]
  },
  {
   "cell_type": "code",
   "execution_count": 23,
   "metadata": {},
   "outputs": [],
   "source": [
    "def categorize(x):\n",
    "    if x in TDgenes:\n",
    "        return 'TD'\n",
    "    elif x in HKgenes:\n",
    "        return 'HK'\n",
    "    else:\n",
    "        return 'Other'"
   ]
  },
  {
   "cell_type": "code",
   "execution_count": 24,
   "metadata": {},
   "outputs": [],
   "source": [
    "\n",
    "dd_dre = big_ind['Dre'].copy()\n",
    "dd_dre['category'] = dd_dre.index.to_series().map(categorize)\n",
    "# dd_dre = dd_dre[dd_dre.category != 'nop']\n",
    "dd_dre['species'] = 'dre'\n",
    "dd_dre = dd_dre[stages['Dre']+['category','species']]\n",
    "dd_dre.columns = stages['Dre']+['category','species']\n",
    "\n",
    "dd_ola = big_ind['Ola'].copy()\n",
    "dd_ola['category'] = dd_ola.index.to_series().map(categorize)\n",
    "# dd_ola = dd_ola[dd_ola.category != 'nop']\n",
    "dd_ola['species'] = 'ola'\n",
    "dd_ola = dd_ola[stages['Ola']+['category','species']]\n",
    "dd_ola.columns = stages['Ola']+['category','species']\n",
    "\n",
    "dd_bla = big_ind['Bla'].copy()\n",
    "dd_bla['category'] = dd_bla.index.to_series().map(categorize)\n",
    "# dd_bla = dd_bla[dd_bla.category != 'nop']\n",
    "dd_bla['species'] = 'bla'\n",
    "dd_bla = dd_bla[stages['Bla']+['category','species']]\n",
    "dd_bla.columns = stages['Bla']+['category','species']\n",
    "\n",
    "dd_mmu = big_ind['Mmu'].copy()\n",
    "dd_mmu['category'] = dd_mmu.index.to_series().map(categorize)\n",
    "# dd_mmu = dd_mmu[dd_mmu.category != 'nop']\n",
    "dd_mmu['species'] = 'mmu'\n",
    "dd_mmu = dd_mmu[stages['Mmu']+['category','species']]\n",
    "dd_mmu.columns = stages['Mmu']+['category','species']"
   ]
  },
  {
   "cell_type": "code",
   "execution_count": 25,
   "metadata": {},
   "outputs": [
    {
     "data": {
      "text/html": [
       "<div>\n",
       "<table border=\"1\" class=\"dataframe\">\n",
       "  <thead>\n",
       "    <tr style=\"text-align: right;\">\n",
       "      <th></th>\n",
       "      <th>category</th>\n",
       "      <th>species</th>\n",
       "      <th>stage</th>\n",
       "      <th>count</th>\n",
       "      <th>specstage</th>\n",
       "    </tr>\n",
       "  </thead>\n",
       "  <tbody>\n",
       "    <tr>\n",
       "      <th>0</th>\n",
       "      <td>Other</td>\n",
       "      <td>dre</td>\n",
       "      <td>dome</td>\n",
       "      <td>0</td>\n",
       "      <td>dre_dome</td>\n",
       "    </tr>\n",
       "    <tr>\n",
       "      <th>1</th>\n",
       "      <td>Other</td>\n",
       "      <td>dre</td>\n",
       "      <td>dome</td>\n",
       "      <td>0</td>\n",
       "      <td>dre_dome</td>\n",
       "    </tr>\n",
       "  </tbody>\n",
       "</table>\n",
       "</div>"
      ],
      "text/plain": [
       "  category species stage  count specstage\n",
       "0    Other     dre  dome      0  dre_dome\n",
       "1    Other     dre  dome      0  dre_dome"
      ]
     },
     "execution_count": 25,
     "metadata": {},
     "output_type": "execute_result"
    }
   ],
   "source": [
    "# then melt the DFs from each species and concatenate those\n",
    "TOPLOT = pd.concat([pd.melt(dd_dre, id_vars=['category','species']),\n",
    "            pd.melt(dd_bla, id_vars=['category','species']),\n",
    "            pd.melt(dd_ola, id_vars=['category','species']),\n",
    "            pd.melt(dd_mmu, id_vars=['category','species'])\n",
    "            \n",
    "                   ])\n",
    "TOPLOT.columns = ['category','species','stage','count']\n",
    "TOPLOT['specstage'] = TOPLOT.species + '_' + TOPLOT.stage\n",
    "TOPLOT.head(2)"
   ]
  },
  {
   "cell_type": "code",
   "execution_count": null,
   "metadata": {},
   "outputs": [],
   "source": []
  },
  {
   "cell_type": "code",
   "execution_count": 26,
   "metadata": {},
   "outputs": [],
   "source": [
    "# def boxplot_pvals(data, x,x_anq,x_targs,y,hue,hue_order):\n",
    "#     for targetx in x_targs:\n",
    "#         for huel in hue_order:\n",
    "#             m1 = (data[x]==x_anq)\n",
    "#             mh = data[hue] == huel\n",
    "#             m2 = (data[x]==targetx)\n",
    "#             print(targetx, huel, MWU( data.loc[mh & m2, y].values, data.loc[mh & m1, y].values, alternative='greater' ).pvalue)\n",
    "\n",
    "# def boxplot_pvals_nohue(data, x,x_anq,x_targs,y):\n",
    "#     for targetx in x_targs:\n",
    "#             m1 = (data[x]==x_anq)\n",
    "#             m2 = (data[x]==targetx)\n",
    "#             print(targetx, MWU( data.loc[m2, y].values, data.loc[ m1, y].values, alternative='greater' ).pvalue)\n"
   ]
  },
  {
   "cell_type": "code",
   "execution_count": 27,
   "metadata": {},
   "outputs": [],
   "source": [
    "stagespecorder = ['bla_8','bla_15','bla_36','bla_60',' ',\n",
    "             'dre_dome','dre_shield','dre_80epi','dre_8som','dre_24h','dre_48h',' ',\n",
    "             'ola_dome','ola_shield','ola_8som','ola_24h','ola_48h',' ',\n",
    "             'mmu_ESC','mmu_DE'\n",
    "            ]"
   ]
  },
  {
   "cell_type": "code",
   "execution_count": 29,
   "metadata": {},
   "outputs": [
    {
     "data": {
      "text/plain": [
       "<matplotlib.legend.Legend at 0x7f3b522716a0>"
      ]
     },
     "execution_count": 29,
     "metadata": {},
     "output_type": "execute_result"
    },
    {
     "data": {
      "image/png": "[encoded data removed]",
      "text/plain": [
       "<matplotlib.figure.Figure at 0x7f3b52271588>"
      ]
     },
     "metadata": {},
     "output_type": "display_data"
    }
   ],
   "source": [
    "plt.figure(figsize=(21,9))\n",
    "sns.boxplot(data = TOPLOT, \n",
    "            \n",
    "            x='specstage',\n",
    "            order=stagespecorder,\n",
    "            hue='category',\n",
    "            hue_order = ['HK','Other','TD'],\n",
    "            y='count',\n",
    "           fliersize=0, palette='Blues'\n",
    "            \n",
    "           )\n",
    "        \n",
    "plt.ylim((0,60))\n",
    "plt.legend(loc='upper left')"
   ]
  },
  {
   "cell_type": "code",
   "execution_count": null,
   "metadata": {},
   "outputs": [],
   "source": []
  }
 ],
 "metadata": {
  "kernelspec": {
   "display_name": "Python 3",
   "language": "python",
   "name": "python3"
  },
  "language_info": {
   "codemirror_mode": {
    "name": "ipython",
    "version": 3
   },
   "file_extension": ".py",
   "mimetype": "text/x-python",
   "name": "python",
   "nbconvert_exporter": "python",
   "pygments_lexer": "ipython3",
   "version": "3.6.1"
  }
 },
 "nbformat": 4,
 "nbformat_minor": 2
}
