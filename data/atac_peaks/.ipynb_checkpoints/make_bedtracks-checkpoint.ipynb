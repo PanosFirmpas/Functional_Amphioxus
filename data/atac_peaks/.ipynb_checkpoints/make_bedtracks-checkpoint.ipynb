{
 "cells": [
  {
   "cell_type": "code",
   "execution_count": 1,
   "metadata": {
    "collapsed": true
   },
   "outputs": [],
   "source": [
    "import pandas as pd\n",
    "\n",
    "from pybedtools import BedTool as BT"
   ]
  },
  {
   "cell_type": "code",
   "execution_count": null,
   "metadata": {
    "collapsed": true
   },
   "outputs": [],
   "source": []
  },
  {
   "cell_type": "code",
   "execution_count": 2,
   "metadata": {},
   "outputs": [],
   "source": [
    "chrom_sizes = dict(pd.read_csv(\"/home/ska/panos/chromInfo/chromInfo_braLan71.txt\", sep='\\t', header=None)[[0,1]].to_records(index=False))\n",
    "\n"
   ]
  },
  {
   "cell_type": "code",
   "execution_count": 14,
   "metadata": {},
   "outputs": [],
   "source": [
    "df = pd.read_csv(\"./amphi_hep_idrpeaks.bed\",sep='\\t', header=None)\n",
    "df[1] = df[1].clip(lower=0)\n",
    "df[2] = df[2].clip(upper = df[0].map(chrom_sizes))\n",
    "\n",
    "targetfile = \"./amphi_hep_idrpeaks_track.bed\"\n",
    "\n",
    "trackline = \"track name=amphi_hepatic_idrpeaks \\\n",
    "description='IDR method peaks on NF reads from ATACseq on amphioxus at hepatic'\"\n",
    "\n",
    "\n",
    "!echo ${trackline} > $targetfile\n",
    "\n",
    "with open(targetfile, 'a') as f:\n",
    "    df.to_csv(f, index=False,header=False, sep='\\t')"
   ]
  },
  {
   "cell_type": "code",
   "execution_count": null,
   "metadata": {
    "collapsed": true
   },
   "outputs": [],
   "source": []
  }
 ],
 "metadata": {
  "kernelspec": {
   "display_name": "Python 3",
   "language": "python",
   "name": "python3"
  },
  "language_info": {
   "codemirror_mode": {
    "name": "ipython",
    "version": 3
   },
   "file_extension": ".py",
   "mimetype": "text/x-python",
   "name": "python",
   "nbconvert_exporter": "python",
   "pygments_lexer": "ipython3",
   "version": "3.6.1"
  }
 },
 "nbformat": 4,
 "nbformat_minor": 2
}
