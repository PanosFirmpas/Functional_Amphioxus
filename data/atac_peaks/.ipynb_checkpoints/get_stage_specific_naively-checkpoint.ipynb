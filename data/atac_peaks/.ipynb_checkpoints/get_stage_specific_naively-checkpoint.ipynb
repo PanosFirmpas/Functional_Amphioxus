{
 "cells": [
  {
   "cell_type": "code",
   "execution_count": 7,
   "metadata": {
    "collapsed": true
   },
   "outputs": [],
   "source": [
    "import pandas as pd\n",
    "from pybedtools import BedTool as BT"
   ]
  },
  {
   "cell_type": "code",
   "execution_count": null,
   "metadata": {
    "collapsed": true
   },
   "outputs": [],
   "source": []
  },
  {
   "cell_type": "code",
   "execution_count": null,
   "metadata": {
    "collapsed": true
   },
   "outputs": [],
   "source": []
  },
  {
   "cell_type": "code",
   "execution_count": 148,
   "metadata": {
    "collapsed": true
   },
   "outputs": [],
   "source": [
    "amphi_stages = [8,15,36,60, 'hep']\n",
    "\n",
    "amphi_samps = [BT(\"amphi_{}_idrpeaks.bed\".format(x)) for x in amphi_stages]\n",
    "\n",
    "df = BT(\"amphi_merged.bed\")\n",
    "\n",
    "for samp in amphi_samps:\n",
    "    df = df.intersect(b = samp, c=True)\n",
    "df = df.to_dataframe()\n",
    "\n",
    "df.columns = ['chrom','start','end'] + amphi_stages\n",
    "\n",
    "df.loc[:,amphi_stages] = df.loc[:,amphi_stages].clip(upper=1)\n"
   ]
  },
  {
   "cell_type": "code",
   "execution_count": 150,
   "metadata": {},
   "outputs": [],
   "source": [
    "df['b'] = [''.join(x) for x in df[amphi_stages].astype(str).to_records(index=False)]"
   ]
  },
  {
   "cell_type": "code",
   "execution_count": null,
   "metadata": {
    "collapsed": true
   },
   "outputs": [],
   "source": []
  },
  {
   "cell_type": "code",
   "execution_count": 124,
   "metadata": {
    "collapsed": true
   },
   "outputs": [],
   "source": [
    "spec_8 = \t( df[8].astype(bool) & ~df[15].astype(bool) & ~df[36].astype(bool) & ~df[60].astype(bool) & ~df['hep'].astype(bool))\n",
    "spec_15 = \t(~df[8].astype(bool) &  df[15].astype(bool) & ~df[36].astype(bool) & ~df[60].astype(bool) & ~df['hep'].astype(bool))\n",
    "spec_36 = \t(~df[8].astype(bool) & ~df[15].astype(bool) &  df[36].astype(bool) & ~df[60].astype(bool) & ~df['hep'].astype(bool))\n",
    "spec_60 = \t(~df[8].astype(bool) & ~df[15].astype(bool) & ~df[36].astype(bool) &  df[60].astype(bool) & ~df['hep'].astype(bool))\n",
    "spec_hep = \t(~df[8].astype(bool) & ~df[15].astype(bool) & ~df[36].astype(bool) & ~df[60].astype(bool) &  df['hep'].astype(bool))\n",
    "\n",
    "\n",
    "# activated on 15 or 36\n",
    "# act_on_15\t= df[~df[8].astype(bool) &  df[15].astype(bool) &  df[60].astype(bool)]\n",
    "# act_on_36\t= df[~df[8].astype(bool) &  ~df[15].astype(bool) &  df[36].astype(bool) & df[60].astype(bool)]\n"
   ]
  },
  {
   "cell_type": "code",
   "execution_count": 174,
   "metadata": {},
   "outputs": [],
   "source": [
    "# ignore 36 again\n",
    "constitutive = (df[8].astype(bool) & df[15].astype(bool) & df[36].astype(bool) & df[60].astype(bool) &  df['hep'].astype(bool))"
   ]
  },
  {
   "cell_type": "code",
   "execution_count": 175,
   "metadata": {},
   "outputs": [],
   "source": [
    "dynamic = (df.b.isin(['01111','00111','00011','11000','11100','01100','00110',\n",
    "              '10001','01001','00101','11001','11101','01101','01110']))"
   ]
  },
  {
   "cell_type": "code",
   "execution_count": null,
   "metadata": {
    "collapsed": true
   },
   "outputs": [],
   "source": []
  },
  {
   "cell_type": "code",
   "execution_count": 176,
   "metadata": {
    "collapsed": true
   },
   "outputs": [],
   "source": [
    "df.loc[constitutive,['chrom','start','end']].to_csv(\"./amphi_constitutive.bed\",sep='\\t',header=None, index=False)\n",
    "df.loc[spec_8 ,['chrom','start','end']].to_csv(\"amphi_stagespec_{}_idr.bed\".format(8), sep='\\t',header=None, index=False)\n",
    "df.loc[spec_15 ,['chrom','start','end']].to_csv(\"amphi_stagespec_{}_idr.bed\".format(15), sep='\\t',header=None, index=False)\n",
    "df.loc[spec_36 ,['chrom','start','end']].to_csv(\"amphi_stagespec_{}_idr.bed\".format(36), sep='\\t',header=None, index=False)\n",
    "df.loc[spec_60 ,['chrom','start','end']].to_csv(\"amphi_stagespec_{}_idr.bed\".format(60), sep='\\t',header=None, index=False)\n",
    "df.loc[spec_hep ,['chrom','start','end']].to_csv(\"amphi_stagespec_{}_idr.bed\".format('hep'), sep='\\t',header=None, index=False)\n",
    "df.loc[dynamic ,['chrom','start','end']].to_csv(\"amphi_logicaldynamic_idr.bed\", sep='\\t',header=None, index=False)"
   ]
  },
  {
   "cell_type": "code",
   "execution_count": null,
   "metadata": {
    "collapsed": true
   },
   "outputs": [],
   "source": []
  },
  {
   "cell_type": "code",
   "execution_count": null,
   "metadata": {
    "collapsed": true
   },
   "outputs": [],
   "source": []
  },
  {
   "cell_type": "code",
   "execution_count": null,
   "metadata": {},
   "outputs": [],
   "source": []
  },
  {
   "cell_type": "code",
   "execution_count": null,
   "metadata": {
    "collapsed": true
   },
   "outputs": [],
   "source": []
  },
  {
   "cell_type": "code",
   "execution_count": 177,
   "metadata": {},
   "outputs": [],
   "source": [
    "zebra_stages = ['dome','shield','80epi','8som', '24h','48h']\n",
    "\n",
    "zebra_samps = [BT(\"zebra_danRer10_{}_idrpeaks.bed\".format(x)) for x in zebra_stages]\n",
    "\n",
    "df = BT(\"zebra_danRer10_merged.bed\")\n",
    "\n",
    "for samp in zebra_samps:\n",
    "    df = df.intersect(b = samp, c=True)\n",
    "df = df.to_dataframe()\n",
    "df.columns = ['chrom','start','end'] + zebra_stages\n",
    "\n",
    "df.loc[:,zebra_stages] = df.loc[:,zebra_stages].clip(upper=1)\n",
    "\n",
    "\n",
    "spec_dome = \t( df['dome'].astype(bool) & ~df['shield'].astype(bool) & ~df['80epi'].astype(bool) & ~df['8som'].astype(bool) & ~df['24h'].astype(bool) & ~df['48h'].astype(bool))\n",
    "spec_shield = \t(~df['dome'].astype(bool) &  df['shield'].astype(bool) & ~df['80epi'].astype(bool) & ~df['8som'].astype(bool) & ~df['24h'].astype(bool) & ~df['48h'].astype(bool))\n",
    "spec_80epi = \t(~df['dome'].astype(bool) & ~df['shield'].astype(bool) &  df['80epi'].astype(bool) & ~df['8som'].astype(bool) & ~df['24h'].astype(bool) & ~df['48h'].astype(bool))\n",
    "spec_8som = \t(~df['dome'].astype(bool) & ~df['shield'].astype(bool) & ~df['80epi'].astype(bool) &  df['8som'].astype(bool) & ~df['24h'].astype(bool) & ~df['48h'].astype(bool))\n",
    "spec_24h =   \t(~df['dome'].astype(bool) & ~df['shield'].astype(bool) & ~df['80epi'].astype(bool) & ~df['8som'].astype(bool) &  df['24h'].astype(bool) & ~df['48h'].astype(bool))\n",
    "spec_48h = \t    (~df['dome'].astype(bool) & ~df['shield'].astype(bool) & ~df['80epi'].astype(bool) & ~df['8som'].astype(bool) & ~df['24h'].astype(bool) &  df['48h'].astype(bool))\n",
    "\n",
    "\n",
    "constitutive = (df['dome'].astype(bool) & df['shield'].astype(bool) & df['80epi'].astype(bool) & df['8som'].astype(bool) & df['24h'].astype(bool) &  df['48h'].astype(bool))\n",
    "\n",
    "len(df[spec_dome]),len(df[spec_shield]),len(df[spec_80epi]),len(df[spec_8som]),len(df[spec_24h]),len(df[spec_48h])\n",
    "\n",
    "#activated on X stage\n",
    "ao_shield = \t(~df['dome'].astype(bool) &  df['shield'].astype(bool) & df['80epi'].astype(bool) & df['8som'].astype(bool) & df['24h'].astype(bool) & df['48h'].astype(bool))\n",
    "ao_80epi = \t(~df['dome'].astype(bool) & ~df['shield'].astype(bool) &  df['80epi'].astype(bool) & df['8som'].astype(bool) & df['24h'].astype(bool) & df['48h'].astype(bool))\n",
    "ao_8som = \t(~df['dome'].astype(bool) & ~df['shield'].astype(bool) & ~df['80epi'].astype(bool) &  df['8som'].astype(bool) & df['24h'].astype(bool) & df['48h'].astype(bool))\n",
    "ao_24h =   \t(~df['dome'].astype(bool) & ~df['shield'].astype(bool) & ~df['80epi'].astype(bool) & ~df['8som'].astype(bool) &  df['24h'].astype(bool) & df['48h'].astype(bool))\n",
    "\n",
    "\n"
   ]
  },
  {
   "cell_type": "code",
   "execution_count": 178,
   "metadata": {
    "collapsed": true
   },
   "outputs": [],
   "source": [
    "df['b'] = [''.join(x) for x in df[zebra_stages].astype(str).to_records(index=False)]"
   ]
  },
  {
   "cell_type": "code",
   "execution_count": 180,
   "metadata": {
    "collapsed": true
   },
   "outputs": [],
   "source": [
    "dyn = ['011111','111110',\n",
    "'001111','011110','111100',\n",
    "'000111','001110','011100','111000',\n",
    "'000011','000110','001100','011000','110000']\n"
   ]
  },
  {
   "cell_type": "code",
   "execution_count": 183,
   "metadata": {},
   "outputs": [],
   "source": [
    "dynamic = df.b.isin(dyn)"
   ]
  },
  {
   "cell_type": "code",
   "execution_count": null,
   "metadata": {
    "collapsed": true
   },
   "outputs": [],
   "source": []
  },
  {
   "cell_type": "code",
   "execution_count": null,
   "metadata": {
    "collapsed": true
   },
   "outputs": [],
   "source": []
  },
  {
   "cell_type": "code",
   "execution_count": 184,
   "metadata": {
    "collapsed": true
   },
   "outputs": [],
   "source": [
    "df.loc[constitutive,['chrom','start','end']].to_csv(\"./zebra_danRer10_constitutive.bed\",sep='\\t',header=None, index=False)\n",
    "df.loc[spec_dome ,['chrom','start','end']].to_csv(\"zebra_danRer10_stagespec_{}_idr.bed\".format('dome'), sep='\\t',header=None, index=False)\n",
    "df.loc[spec_shield ,['chrom','start','end']].to_csv(\"zebra_danRer10_stagespec_{}_idr.bed\".format('shield'), sep='\\t',header=None, index=False)\n",
    "df.loc[spec_80epi ,['chrom','start','end']].to_csv(\"zebra_danRer10_stagespec_{}_idr.bed\".format('80epi'), sep='\\t',header=None, index=False)\n",
    "df.loc[spec_8som ,['chrom','start','end']].to_csv(\"zebra_danRer10_stagespec_{}_idr.bed\".format('8som'), sep='\\t',header=None, index=False)\n",
    "df.loc[spec_24h ,['chrom','start','end']].to_csv(\"zebra_danRer10_stagespec_{}_idr.bed\".format('24h'), sep='\\t',header=None, index=False)\n",
    "df.loc[spec_48h ,['chrom','start','end']].to_csv(\"zebra_danRer10_stagespec_{}_idr.bed\".format('48h'), sep='\\t',header=None, index=False)\n",
    "\n",
    "df.loc[dynamic ,['chrom','start','end']].to_csv(\"zebra_danRer10_logicaldynamic_idr.bed\", sep='\\t',header=None, index=False)"
   ]
  },
  {
   "cell_type": "code",
   "execution_count": null,
   "metadata": {
    "collapsed": true
   },
   "outputs": [],
   "source": []
  },
  {
   "cell_type": "code",
   "execution_count": null,
   "metadata": {
    "collapsed": true
   },
   "outputs": [],
   "source": []
  },
  {
   "cell_type": "code",
   "execution_count": null,
   "metadata": {
    "collapsed": true
   },
   "outputs": [],
   "source": []
  },
  {
   "cell_type": "code",
   "execution_count": null,
   "metadata": {
    "collapsed": true
   },
   "outputs": [],
   "source": []
  },
  {
   "cell_type": "code",
   "execution_count": 185,
   "metadata": {},
   "outputs": [
    {
     "data": {
      "text/plain": [
       "(3135, 7738, 129, 14341, 13689, 30574)"
      ]
     },
     "execution_count": 185,
     "metadata": {},
     "output_type": "execute_result"
    }
   ],
   "source": [
    "medaka_stages = ['dome','shield','80epi','8som', '24h','48h']\n",
    "\n",
    "medaka_samps = [BT(\"medaka_{}_idrpeaks.bed\".format(x)) for x in medaka_stages]\n",
    "\n",
    "df = BT(\"medaka_merged.bed\")\n",
    "\n",
    "for samp in medaka_samps:\n",
    "    df = df.intersect(b = samp, c=True)\n",
    "df = df.to_dataframe()\n",
    "df.columns = ['chrom','start','end'] + medaka_stages\n",
    "\n",
    "df.loc[:,medaka_stages] = df.loc[:,medaka_stages].clip(upper=1)\n",
    "\n",
    "\n",
    "spec_dome = \t( df['dome'].astype(bool) & ~df['shield'].astype(bool) & ~df['80epi'].astype(bool) & ~df['8som'].astype(bool) & ~df['24h'].astype(bool) & ~df['48h'].astype(bool))\n",
    "spec_shield = \t(~df['dome'].astype(bool) &  df['shield'].astype(bool) & ~df['80epi'].astype(bool) & ~df['8som'].astype(bool) & ~df['24h'].astype(bool) & ~df['48h'].astype(bool))\n",
    "spec_80epi = \t(~df['dome'].astype(bool) & ~df['shield'].astype(bool) &  df['80epi'].astype(bool) & ~df['8som'].astype(bool) & ~df['24h'].astype(bool) & ~df['48h'].astype(bool))\n",
    "spec_8som = \t(~df['dome'].astype(bool) & ~df['shield'].astype(bool) & ~df['80epi'].astype(bool) &  df['8som'].astype(bool) & ~df['24h'].astype(bool) & ~df['48h'].astype(bool))\n",
    "spec_24h =   \t(~df['dome'].astype(bool) & ~df['shield'].astype(bool) & ~df['80epi'].astype(bool) & ~df['8som'].astype(bool) &  df['24h'].astype(bool) & ~df['48h'].astype(bool))\n",
    "spec_48h = \t    (~df['dome'].astype(bool) & ~df['shield'].astype(bool) & ~df['80epi'].astype(bool) & ~df['8som'].astype(bool) & ~df['24h'].astype(bool) &  df['48h'].astype(bool))\n",
    "\n",
    "\n",
    "constitutive = (df['dome'].astype(bool) & df['shield'].astype(bool) & df['8som'].astype(bool) & df['24h'].astype(bool) &  df['48h'].astype(bool))\n",
    "\n",
    "len(df[spec_dome]),len(df[spec_shield]),len(df[spec_80epi]),len(df[spec_8som]),len(df[spec_24h]),len(df[spec_48h])\n",
    "\n"
   ]
  },
  {
   "cell_type": "code",
   "execution_count": 186,
   "metadata": {
    "collapsed": true
   },
   "outputs": [],
   "source": [
    "df['b'] = [''.join(x) for x in df[zebra_stages].astype(str).to_records(index=False)]"
   ]
  },
  {
   "cell_type": "code",
   "execution_count": 187,
   "metadata": {
    "collapsed": true
   },
   "outputs": [],
   "source": [
    "dynamic = df.b.isin(dyn)"
   ]
  },
  {
   "cell_type": "code",
   "execution_count": 144,
   "metadata": {
    "collapsed": true
   },
   "outputs": [],
   "source": [
    "#activated on X stage\n",
    "ao_shield = \t(~df['dome'].astype(bool) &  df['shield'].astype(bool) & df['80epi'].astype(bool) & df['8som'].astype(bool) & df['24h'].astype(bool) & df['48h'].astype(bool))\n",
    "ao_80epi = \t(~df['dome'].astype(bool) & ~df['shield'].astype(bool) &  df['80epi'].astype(bool) & df['8som'].astype(bool) & df['24h'].astype(bool) & df['48h'].astype(bool))\n",
    "ao_8som = \t(~df['dome'].astype(bool) & ~df['shield'].astype(bool) & ~df['80epi'].astype(bool) &  df['8som'].astype(bool) & df['24h'].astype(bool) & df['48h'].astype(bool))\n",
    "ao_24h =   \t(~df['dome'].astype(bool) & ~df['shield'].astype(bool) & ~df['80epi'].astype(bool) & ~df['8som'].astype(bool) &  df['24h'].astype(bool) & df['48h'].astype(bool))\n",
    "\n",
    "\n"
   ]
  },
  {
   "cell_type": "code",
   "execution_count": null,
   "metadata": {
    "collapsed": true
   },
   "outputs": [],
   "source": []
  },
  {
   "cell_type": "code",
   "execution_count": null,
   "metadata": {
    "collapsed": true
   },
   "outputs": [],
   "source": [
    "len()"
   ]
  },
  {
   "cell_type": "code",
   "execution_count": null,
   "metadata": {
    "collapsed": true
   },
   "outputs": [],
   "source": []
  },
  {
   "cell_type": "code",
   "execution_count": null,
   "metadata": {
    "collapsed": true
   },
   "outputs": [],
   "source": []
  },
  {
   "cell_type": "code",
   "execution_count": 188,
   "metadata": {
    "collapsed": true
   },
   "outputs": [],
   "source": [
    "df.loc[constitutive,['chrom','start','end']].to_csv(\"./medaka_constitutive.bed\",sep='\\t',header=None, index=False)\n",
    "df.loc[spec_dome ,['chrom','start','end']].to_csv(\"medaka_stagespec_{}_idr.bed\".format('dome'), sep='\\t',header=None, index=False)\n",
    "df.loc[spec_shield ,['chrom','start','end']].to_csv(\"medaka_stagespec_{}_idr.bed\".format('shield'), sep='\\t',header=None, index=False)\n",
    "df.loc[spec_80epi ,['chrom','start','end']].to_csv(\"medaka_stagespec_{}_idr.bed\".format('80epi'), sep='\\t',header=None, index=False)\n",
    "df.loc[spec_8som ,['chrom','start','end']].to_csv(\"medaka_stagespec_{}_idr.bed\".format('8som'), sep='\\t',header=None, index=False)\n",
    "df.loc[spec_24h ,['chrom','start','end']].to_csv(\"medaka_stagespec_{}_idr.bed\".format('24h'), sep='\\t',header=None, index=False)\n",
    "df.loc[spec_48h ,['chrom','start','end']].to_csv(\"medaka_stagespec_{}_idr.bed\".format('48h'), sep='\\t',header=None, index=False)\n",
    "\n",
    "\n",
    "df.loc[dynamic ,['chrom','start','end']].to_csv(\"medaka_logicaldynamic_idr.bed\", sep='\\t',header=None, index=False)"
   ]
  },
  {
   "cell_type": "code",
   "execution_count": null,
   "metadata": {
    "collapsed": true
   },
   "outputs": [],
   "source": []
  },
  {
   "cell_type": "code",
   "execution_count": null,
   "metadata": {
    "collapsed": true
   },
   "outputs": [],
   "source": []
  },
  {
   "cell_type": "code",
   "execution_count": null,
   "metadata": {
    "collapsed": true
   },
   "outputs": [],
   "source": []
  },
  {
   "cell_type": "code",
   "execution_count": null,
   "metadata": {
    "collapsed": true
   },
   "outputs": [],
   "source": []
  },
  {
   "cell_type": "code",
   "execution_count": null,
   "metadata": {
    "collapsed": true
   },
   "outputs": [],
   "source": []
  },
  {
   "cell_type": "code",
   "execution_count": null,
   "metadata": {
    "collapsed": true
   },
   "outputs": [],
   "source": []
  },
  {
   "cell_type": "code",
   "execution_count": null,
   "metadata": {
    "collapsed": true
   },
   "outputs": [],
   "source": []
  },
  {
   "cell_type": "code",
   "execution_count": null,
   "metadata": {
    "collapsed": true
   },
   "outputs": [],
   "source": []
  }
 ],
 "metadata": {
  "kernelspec": {
   "display_name": "Python2 venv",
   "language": "python",
   "name": "python2"
  },
  "language_info": {
   "codemirror_mode": {
    "name": "ipython",
    "version": 2
   },
   "file_extension": ".py",
   "mimetype": "text/x-python",
   "name": "python",
   "nbconvert_exporter": "python",
   "pygments_lexer": "ipython2",
   "version": "2.7.5"
  }
 },
 "nbformat": 4,
 "nbformat_minor": 2
}
